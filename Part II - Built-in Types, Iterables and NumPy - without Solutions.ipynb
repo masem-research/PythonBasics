{
 "cells": [
  {
   "cell_type": "markdown",
   "metadata": {
    "id": "2DmpszUoInH4"
   },
   "source": [
    "# Part II: Built-in Types, Iterables and NumPy - without solutions\n",
    "   \n",
    "Guido Möser /dl4fdr/ under CCC license\n",
    "   \n",
    "First part: 45 - 60 mins interactive demonstrations / 30 - 45 mins exercises + discussion of possible solutions   \n",
    "  \n",
    "References: https://docs.python.org/3/library/stdtypes.html    \n",
    "NumPy: https://numpy.org/   \n",
    "   \n",
    "### Numbers, Booleans and None\n",
    "- int\n",
    "- float\n",
    "- boolean\n",
    "- None\n",
    "   \n",
    "### Iterables\n",
    "- Strings + Manipulation\n",
    "- Tuple\n",
    "- Lists\n",
    "- Dictionary and Set\n",
    "   \n",
    "### *Maybe*: NumPy, Short Introduction   \n",
    "   \n",
    "### Exercises"
   ]
  },
  {
   "cell_type": "markdown",
   "metadata": {
    "id": "HiIGS1GydyIX"
   },
   "source": [
    "## Numbers, Booleans and None\n",
    "\n",
    "This section deals with the different ways of representing a number in the *built-in* methods in Python. Furthermore, the Boolean type with `True` and `False` is introduced. The special value `None` is used to represent missing values ​​etc."
   ]
  },
  {
   "cell_type": "markdown",
   "metadata": {},
   "source": [
    "### Types of Numbers\n",
    "\n",
    "Three different types of numbers in Python:\n",
    "1. Integer types: `int`\n",
    "2. Floating point numbers (representing real numbers) `float`\n",
    "3. Complex numbers: `complex` \n",
    "\n",
    "A distinction is made between 1 and 2 because using an integer (e.g. 4) instead of a floating point number (e.g. 4.0) \n",
    "uses less memory and less CPU power.\n",
    "   \n",
    "    \n",
    "**Caution:** If two integers are multiplied, added and subtracted, the result is always an integer!"
   ]
  },
  {
   "cell_type": "code",
   "execution_count": null,
   "metadata": {},
   "outputs": [],
   "source": [
    "# Explicitly define an integer\n"
   ]
  },
  {
   "cell_type": "code",
   "execution_count": null,
   "metadata": {},
   "outputs": [],
   "source": [
    "# print and type\n",
    "\n"
   ]
  },
  {
   "cell_type": "code",
   "execution_count": null,
   "metadata": {},
   "outputs": [],
   "source": [
    "# Float\n"
   ]
  },
  {
   "cell_type": "code",
   "execution_count": null,
   "metadata": {},
   "outputs": [],
   "source": [
    "\n"
   ]
  },
  {
   "cell_type": "code",
   "execution_count": null,
   "metadata": {},
   "outputs": [],
   "source": [
    "# Faster\n"
   ]
  },
  {
   "cell_type": "code",
   "execution_count": null,
   "metadata": {},
   "outputs": [],
   "source": [
    "# print and type\n",
    "\n"
   ]
  },
  {
   "cell_type": "markdown",
   "metadata": {},
   "source": [
    "### Conversion of data types\n",
    "\n",
    "Some data types can be converted, e.g. `int` to `float`. The reverse is also possible, but leads to a truncation of the decimal places (no rounding!);\n",
    "  \n",
    "`True` and `False` (note the spelling!) can also be changed;"
   ]
  },
  {
   "cell_type": "code",
   "execution_count": null,
   "metadata": {},
   "outputs": [],
   "source": []
  },
  {
   "cell_type": "code",
   "execution_count": null,
   "metadata": {},
   "outputs": [],
   "source": [
    "# Vice-versa\n"
   ]
  },
  {
   "cell_type": "code",
   "execution_count": null,
   "metadata": {},
   "outputs": [],
   "source": []
  },
  {
   "cell_type": "code",
   "execution_count": null,
   "metadata": {
    "scrolled": true
   },
   "outputs": [],
   "source": [
    "# True and False\n",
    "\n"
   ]
  },
  {
   "cell_type": "code",
   "execution_count": null,
   "metadata": {},
   "outputs": [],
   "source": [
    "# In Bool\n"
   ]
  },
  {
   "cell_type": "code",
   "execution_count": null,
   "metadata": {},
   "outputs": [],
   "source": [
    "# only 0 results in a False, all other values will be converted into True!\n"
   ]
  },
  {
   "cell_type": "markdown",
   "metadata": {},
   "source": [
    "### None\n",
    "\n",
    "The `None` keyword is used to define a null value, or no value at all: \n",
    "- `None` is not the same as `0`, `False`, or an empty string. \n",
    "- `None` is a data type of its own - `NoneType` - and only `None` can be `None`."
   ]
  },
  {
   "cell_type": "code",
   "execution_count": null,
   "metadata": {},
   "outputs": [],
   "source": [
    "#Assign the value None to a variable:\n",
    "\n"
   ]
  },
  {
   "cell_type": "code",
   "execution_count": null,
   "metadata": {},
   "outputs": [],
   "source": [
    "# True or False (or what else)?\n",
    "\n",
    "\n",
    "\n",
    "\n",
    "\n"
   ]
  },
  {
   "cell_type": "markdown",
   "metadata": {
    "id": "OAaC7J75Pf9v"
   },
   "source": [
    "## Python Strings and Manipulations\n",
    "\n",
    "- A string in Python is a series or sequence of **characters** in a specific order.\n",
    "- A **character** is simply everything that can be entered using a keyboard, i.e. letters 'a', 'B', etc., numbers, 1, 2, 3, special characters, §, $, / etc.\n",
    "- Strings are **immutable**: once a string has been created, it cannot be changed. A supposed change is always the creation of a new string! This plays a role when a string is to be modified (see examples below)\n",
    "- **Beginning and end of strings** are indicated by single or double quotes. Mixing single and double quotes is not allowed."
   ]
  },
  {
   "cell_type": "code",
   "execution_count": null,
   "metadata": {
    "colab": {
     "base_uri": "https://localhost:8080/",
     "height": 36
    },
    "id": "IY1LaD5hPfev",
    "outputId": "8fdd6e13-c9f4-4c46-c09b-4b94d1c4fcf7"
   },
   "outputs": [],
   "source": [
    "# Typical behavior of jupyter notebooks:\n",
    "\n",
    "\n"
   ]
  },
  {
   "cell_type": "markdown",
   "metadata": {
    "id": "bpA8hNVfRINQ"
   },
   "source": [
    "Using the `print()` function prints all strings, not just the last string (see above):"
   ]
  },
  {
   "cell_type": "code",
   "execution_count": null,
   "metadata": {
    "colab": {
     "base_uri": "https://localhost:8080/"
    },
    "id": "x77EAWbwQlyW",
    "outputId": "d0405527-d46b-4c17-eabf-9c6279fa95f0"
   },
   "outputs": [],
   "source": [
    "\n"
   ]
  },
  {
   "cell_type": "markdown",
   "metadata": {
    "id": "iUpn_SI7RTse"
   },
   "source": [
    "Multi-line strings must be enclosed in **triple single quotes**, otherwise newlines in single or double quotes will result in errors:"
   ]
  },
  {
   "cell_type": "code",
   "execution_count": null,
   "metadata": {
    "id": "WznoR2xtQuSH"
   },
   "outputs": [],
   "source": [
    "\n",
    "\n"
   ]
  },
  {
   "cell_type": "code",
   "execution_count": null,
   "metadata": {
    "colab": {
     "base_uri": "https://localhost:8080/"
    },
    "id": "rCfgE5_yRi1H",
    "outputId": "161835cd-be46-4343-b496-7777fc813f0f"
   },
   "outputs": [],
   "source": []
  },
  {
   "cell_type": "markdown",
   "metadata": {
    "id": "T149_Y2sRvEu"
   },
   "source": [
    "### What type is a ... string?\n",
    "\n",
    "Although Python is untyped about variables, the same is not true for values ​​in variables - they have a type assigned. This type can be queried with the `type()` command:"
   ]
  },
  {
   "cell_type": "code",
   "execution_count": null,
   "metadata": {
    "colab": {
     "base_uri": "https://localhost:8080/"
    },
    "id": "xUMcGLGLRk5E",
    "outputId": "e5f1f952-a043-4bbd-eabf-1268e0be75f8"
   },
   "outputs": [],
   "source": [
    "\n"
   ]
  },
  {
   "cell_type": "markdown",
   "metadata": {
    "id": "cQqZefwcSMqf"
   },
   "source": [
    "Is read: In the variable `TextVariable` a **String class (Type)** is currently (dynamic typing!) held.\n",
    "\n",
    "The type is important, it also defines e.g. what the result of a `+` operation is! (see next exercise)"
   ]
  },
  {
   "cell_type": "markdown",
   "metadata": {
    "id": "Y3xS3GBaUBRW"
   },
   "source": [
    "### String operations\n",
    "\n",
    "#### String Concatenation\n",
    "\n",
    "Two strings can be joined with the addition sign `+`; *See also exercise!*\n",
    "   \n",
    "\n",
    "   \n",
    "#### Length of a string\n",
    "\n",
    "The `len()` function can be used to determine the number of characters in a string:"
   ]
  },
  {
   "cell_type": "code",
   "execution_count": null,
   "metadata": {
    "colab": {
     "base_uri": "https://localhost:8080/"
    },
    "id": "ulPNfS9DUhQm",
    "outputId": "1097c832-c8fa-461e-dda6-69b05cc9777a"
   },
   "outputs": [],
   "source": []
  },
  {
   "cell_type": "markdown",
   "metadata": {
    "id": "Ys81vrscYUrh"
   },
   "source": [
    "#### Replacing Strings: `.replace()`-Methode\n",
    "\n",
    "A string can replace another string within a string."
   ]
  },
  {
   "cell_type": "code",
   "execution_count": null,
   "metadata": {
    "colab": {
     "base_uri": "https://localhost:8080/"
    },
    "id": "hwWZpUWTYTbq",
    "outputId": "528e1bb0-5f9a-4363-8283-2451c9dcbe37"
   },
   "outputs": [],
   "source": [
    "\n"
   ]
  },
  {
   "cell_type": "markdown",
   "metadata": {
    "id": "yrJ2upd5cK7D"
   },
   "source": [
    "### More string operations\n",
    "\n",
    "Additional string operations are available:\n",
    "\n",
    "**Tests:**\n",
    "- `.startswith()`\n",
    "- `.endswith()`\n",
    "- `.istitle()`\n",
    "- `.isupper()`\n",
    "- `.islower()`\n",
    "- `.isalpha()`\n",
    "\n",
    "**Conversions:**\n",
    "- `.upper()`  \n",
    "- `.lower()`\n",
    "- `.title()`\n",
    "- `.swapcase()`\n",
    "- `.strip()`"
   ]
  },
  {
   "cell_type": "markdown",
   "metadata": {},
   "source": [
    "## Iterables / Collection Types\n",
    "\n",
    "Tuples, lists (collections, etc.) are so-called `collection types`.\n",
    "\n",
    "A `collection` is a single object representing a collection of objects.\n",
    "    \n",
    "The following overview shows which `Collection Types` are available in Python:"
   ]
  },
  {
   "cell_type": "markdown",
   "metadata": {},
   "source": [
    "#### Python Collection Types\n",
    "\n",
    "There are four classes in Python that exhibit container behaviors:\n",
    "- **Tuples:** *collection of objects that are ordered and immutable (modification not possible)*\n",
    "- **Lists:** *collection of objects that are ordered and mutable, indexed and allow duplicate members*\n",
    "- **Sets:** *collection that is unordered and unindexed. Mutable but do not allow duplicate values ​​to be held*\n",
    "- **Dictionary:** *unordered collection that is indexed by a key which references a value. The value is returned when the key is provided. No duplicate keys are allowed. Duplicate values ​​are allowed. Dictionaries are mutable.*\n",
    "  \n",
    "\n",
    "**Note**: Since everything in Python is a `type of object` (e.g. an integer is an instance/object of type (class) int, etc.), all objects can also be stored in `collections` !"
   ]
  },
  {
   "cell_type": "markdown",
   "metadata": {},
   "source": [
    "### tuples\n",
    "\n",
    "Tuples (along with the list class) are the most commonly used container types in Python.\n",
    "\n",
    "Tuples are immutable ordered `collections` of objects: each element in a tuple has a specific position (index!) and this position cannot change over time.\n",
    "  \n",
    "\n",
    "**Note: It is not possible to remove or add elements after a tuple has been created!**"
   ]
  },
  {
   "cell_type": "markdown",
   "metadata": {},
   "source": [
    "### Create tuples\n",
    "\n",
    "Tuples are created with round brackets `()`."
   ]
  },
  {
   "cell_type": "code",
   "execution_count": null,
   "metadata": {},
   "outputs": [],
   "source": []
  },
  {
   "cell_type": "markdown",
   "metadata": {},
   "source": [
    "- A tuple has been defined, which is referenced by the variable name `tup1`.\n",
    "- The tuple `tup1` contains 4 elements (integer in the example)\n",
    "- Indexing: The first element has the index 0, the last element the index 3"
   ]
  },
  {
   "cell_type": "markdown",
   "metadata": {},
   "source": [
    "### The `tuple()` constructor function\n",
    "\n",
    "The `tuple()` function can be used to create a `tuple` from an `iterable`. `iterables` are for example a `set`, a `list`, a `dictionary`."
   ]
  },
  {
   "cell_type": "code",
   "execution_count": null,
   "metadata": {},
   "outputs": [],
   "source": [
    "\n",
    "\n"
   ]
  },
  {
   "cell_type": "markdown",
   "metadata": {},
   "source": [
    "### Accessing tuple elements\n",
    "\n",
    "Elements in a tuple can be referenced using an index in square brackets."
   ]
  },
  {
   "cell_type": "code",
   "execution_count": null,
   "metadata": {},
   "outputs": [],
   "source": []
  },
  {
   "cell_type": "markdown",
   "metadata": {},
   "source": [
    "### Slices from existing tuples\n",
    "\n",
    "*Slices* can also be drawn from tuples. The result is a new tuple. For this purpose, the start position (note: index starts at 0) and the end position are specified in square brackets, whereby the value after the colon is not included, **example**:"
   ]
  },
  {
   "cell_type": "code",
   "execution_count": null,
   "metadata": {},
   "outputs": [],
   "source": [
    "# The two values in the middle of the tuple:\n"
   ]
  },
  {
   "cell_type": "markdown",
   "metadata": {},
   "source": [
    "Further possibilities"
   ]
  },
  {
   "cell_type": "code",
   "execution_count": null,
   "metadata": {},
   "outputs": [],
   "source": []
  },
  {
   "cell_type": "code",
   "execution_count": null,
   "metadata": {},
   "outputs": [],
   "source": []
  },
  {
   "cell_type": "code",
   "execution_count": null,
   "metadata": {},
   "outputs": [],
   "source": []
  },
  {
   "cell_type": "markdown",
   "metadata": {},
   "source": [
    "#### Tuples can contain different object classes"
   ]
  },
  {
   "cell_type": "code",
   "execution_count": null,
   "metadata": {},
   "outputs": [],
   "source": [
    "\n"
   ]
  },
  {
   "cell_type": "markdown",
   "metadata": {},
   "source": [
    "### Tuple-related functions\n",
    "\n",
    "- `index()` and `count()` are methods defined for class Tuple\n",
    "- `len()` is a function whose argument is the tuple"
   ]
  },
  {
   "cell_type": "code",
   "execution_count": null,
   "metadata": {},
   "outputs": [],
   "source": [
    "# Length\n"
   ]
  },
  {
   "cell_type": "code",
   "execution_count": null,
   "metadata": {},
   "outputs": [],
   "source": [
    "# Counting the number of occurrences of a given value:\n"
   ]
  },
  {
   "cell_type": "code",
   "execution_count": null,
   "metadata": {},
   "outputs": [],
   "source": [
    "# First occurrence of a value in a tuple:\n"
   ]
  },
  {
   "cell_type": "markdown",
   "metadata": {},
   "source": [
    "### Check if an element is in a tuple:"
   ]
  },
  {
   "cell_type": "code",
   "execution_count": null,
   "metadata": {},
   "outputs": [],
   "source": []
  },
  {
   "cell_type": "markdown",
   "metadata": {},
   "source": [
    "## List\n",
    "\n",
    "An object of type `List` is a mutable (*mutable*) ordered container.\n",
    "   \n",
    "\n",
    "   \n",
    "**Note: A `List` object has all the properties of a tuple, but elements can be modified, added and deleted.**"
   ]
  },
  {
   "cell_type": "markdown",
   "metadata": {},
   "source": [
    "### Create list\n",
    "\n",
    "Square brackets `[]` are used to create a list."
   ]
  },
  {
   "cell_type": "code",
   "execution_count": null,
   "metadata": {},
   "outputs": [],
   "source": [
    "list1 = ['Daenerys', 'Jon', 'Tyrion', 'Arya', 'Cersei', 'Bran' ]"
   ]
  },
  {
   "cell_type": "markdown",
   "metadata": {},
   "source": [
    "`list1` is an object of type `list` containing six elements, the first object of which has index 1."
   ]
  },
  {
   "cell_type": "markdown",
   "metadata": {},
   "source": [
    "### The `list()` constructor function\n",
    "\n",
    "The `list()` function can be used to create a `list` from an `iterable`. `iterables` are for example a set, a list, a dictionary.\n",
    "   \n",
    "**Syntax:**\n",
    "`list(iterable)`"
   ]
  },
  {
   "cell_type": "code",
   "execution_count": null,
   "metadata": {},
   "outputs": [],
   "source": [
    "vowelTuple = ('a', 'e', 'i', 'o', 'u')"
   ]
  },
  {
   "cell_type": "code",
   "execution_count": null,
   "metadata": {},
   "outputs": [],
   "source": []
  },
  {
   "cell_type": "markdown",
   "metadata": {},
   "source": [
    "### Accessing elements of a `List`\n",
    "\n",
    "Elements of an object of type `list` are selected using the square brackets `[]`. If more than one element is to be queried, the beginning and end of the elements to be selected must be separated by a colon. The same rules apply as for type `tuple`.\n",
    "**Note**: In Python, the index starts with 0."
   ]
  },
  {
   "cell_type": "code",
   "execution_count": null,
   "metadata": {},
   "outputs": [],
   "source": [
    "list1 = ['Daenerys', 'Jon', 'Tyrion', 'Arya', 'Cersei', 'Bran' ]\n"
   ]
  },
  {
   "cell_type": "markdown",
   "metadata": {},
   "source": [
    "Selection of a section (*slice*) using a colon `:`, you can also work with the negative sign, then the selection starts at the end. Here are some examples:"
   ]
  },
  {
   "cell_type": "code",
   "execution_count": null,
   "metadata": {},
   "outputs": [],
   "source": [
    "\n",
    "\n",
    "\n",
    "\n"
   ]
  },
  {
   "cell_type": "markdown",
   "metadata": {},
   "source": [
    "### Add items to a list\n",
    "\n",
    "The type `list` is mutable, elements can be changed and added.\n",
    "An element is added using the `.append()` method:\n",
    "`<alist>.append(<object>)`"
   ]
  },
  {
   "cell_type": "code",
   "execution_count": null,
   "metadata": {},
   "outputs": [],
   "source": [
    "# Add an element to a list\n",
    "\n"
   ]
  },
  {
   "cell_type": "markdown",
   "metadata": {},
   "source": [
    "Lists can also be added to a list using the `extend()` method, and the `+=` command can also be used. Both use `iterable` objects."
   ]
  },
  {
   "cell_type": "code",
   "execution_count": null,
   "metadata": {},
   "outputs": [],
   "source": [
    "\n",
    "\n",
    "\n"
   ]
  },
  {
   "cell_type": "code",
   "execution_count": null,
   "metadata": {},
   "outputs": [],
   "source": [
    "\n"
   ]
  },
  {
   "cell_type": "markdown",
   "metadata": {},
   "source": [
    "### Insertion in a list\n",
    "\n",
    "Using the `insert()` method, elements can be inserted into an existing list - at a specific position:\n",
    "\n",
    "`<list>.insert(<index>, <object>)`"
   ]
  },
  {
   "cell_type": "code",
   "execution_count": null,
   "metadata": {},
   "outputs": [],
   "source": [
    "# 1st place Samwell:\n",
    "\n",
    "\n"
   ]
  },
  {
   "cell_type": "markdown",
   "metadata": {},
   "source": [
    "### Concetation of lists\n",
    "\n",
    "The connection (concatenate) of two lists is done using the `+` operator:"
   ]
  },
  {
   "cell_type": "code",
   "execution_count": null,
   "metadata": {},
   "outputs": [],
   "source": [
    "list1 = [3, 2, 1]\n",
    "list2 = [6, 5, 4]"
   ]
  },
  {
   "cell_type": "code",
   "execution_count": null,
   "metadata": {},
   "outputs": [],
   "source": [
    "\n"
   ]
  },
  {
   "cell_type": "markdown",
   "metadata": {},
   "source": [
    "### Remove items from a list\n",
    "\n",
    "Items can be removed from a list using the `.remove()` method.\n",
    "\n",
    "Syntax:\n",
    "\n",
    "`<list>.remove(<object>)`\n",
    "\n",
    "If the object is not in the list, an error is returned."
   ]
  },
  {
   "cell_type": "code",
   "execution_count": null,
   "metadata": {},
   "outputs": [],
   "source": [
    "list2 = ['Daenerys', 'Jon', 'Tyrion', 'Arya']\n",
    "\n",
    "\n",
    "\n"
   ]
  },
  {
   "cell_type": "markdown",
   "metadata": {},
   "source": [
    "### Overview List Methods\n",
    "\n",
    "- `append()`: Adds an element at the end of the list\n",
    "- `clear()`: Removes all the elements from the list\n",
    "- `copy()`: Returns a copy of the list\n",
    "- `count()`: Returns the number of elements with the specified values\n",
    "- `extend()`: Add the elements of a list (or any iterable), to the end of the current list\n",
    "- `index()`: Returns the index of the first element with the specified value\n",
    "- `insert()`: Adds an element at the specified positions\n",
    "- `pop()`: Removes the element at the specified position\n",
    "- `remove()`: Removes the item with the specified value\n",
    "- `reverse()`: Reverses the order of the list\n",
    "- `sort()`: Sorts the list"
   ]
  },
  {
   "cell_type": "markdown",
   "metadata": {},
   "source": [
    "## Dictionaries and Sets"
   ]
  },
  {
   "cell_type": "markdown",
   "metadata": {},
   "source": [
    "## Dictionaries\n",
    "\n",
    "A `Dictionary` is a set of associations between a key and a value.\n",
    "\n",
    "A `Dictionary` is unordered, mutable and indexed.\n",
    "\n",
    "In a `Dictionary` the keys are unique but the values ​​are not."
   ]
  },
  {
   "cell_type": "markdown",
   "metadata": {},
   "source": [
    "### Create a dictionary\n",
    "\n",
    "A `Dictionary` is created with curly brackets `{}`, where each entry is a `key:value` pair (`key:value` pair)"
   ]
  },
  {
   "cell_type": "code",
   "execution_count": null,
   "metadata": {},
   "outputs": [],
   "source": [
    "cities = {'Wales':'Cardiff',\n",
    "          'England':'London',\n",
    "          'Scotland':'Edinburgh',\n",
    "          'Northern Ireland':'Belfast',\n",
    "          'Ireland':'Dublin'}"
   ]
  },
  {
   "cell_type": "code",
   "execution_count": null,
   "metadata": {},
   "outputs": [],
   "source": []
  },
  {
   "cell_type": "markdown",
   "metadata": {},
   "source": [
    "### The `dictionary()` constructor function\n",
    "\n",
    "The `dictionary()` function can be used to create a `dictionary` from an `iterable` or a sequence of `key:value` relations.\n",
    "  \n",
    "**Syntax:**\n",
    "  \n",
    "`dict(**kwarg)`\n",
    "\n",
    "`dict(mapping, **kwarg)`\n",
    "\n",
    "`dict(iterable, **kwarg)`\n",
    "    \n",
    "\n",
    "This is an `overload` function with three different types that can handle different types of arguments:\n",
    "- The first option uses a sequence of key:value pairs\n",
    "- The second option uses a mapping and (optionally) a sequence of key:value pairs\n",
    "- The third variant uses key:value pairs and an optional sequence of key:value pairs"
   ]
  },
  {
   "cell_type": "code",
   "execution_count": null,
   "metadata": {},
   "outputs": [],
   "source": [
    "# note keys are not strings\n",
    "\n"
   ]
  },
  {
   "cell_type": "code",
   "execution_count": null,
   "metadata": {},
   "outputs": [],
   "source": [
    "# key value pairs are tuples:\n",
    "\n"
   ]
  },
  {
   "cell_type": "code",
   "execution_count": null,
   "metadata": {},
   "outputs": [],
   "source": [
    "# key value pairs are lists:\n",
    "\n"
   ]
  },
  {
   "cell_type": "markdown",
   "metadata": {},
   "source": [
    "### Working with dictionaries"
   ]
  },
  {
   "cell_type": "markdown",
   "metadata": {},
   "source": [
    "#### Accessing items with keys\n",
    "\n",
    "Values can be addressed with the help of the key: either with the square brackets `[]` or with the `get()` method.\n",
    "   \n",
    "\n",
    "Note: If a key does not exist, an error is returned."
   ]
  },
  {
   "cell_type": "code",
   "execution_count": null,
   "metadata": {},
   "outputs": [],
   "source": []
  },
  {
   "cell_type": "code",
   "execution_count": null,
   "metadata": {},
   "outputs": [],
   "source": [
    "# Fehler:\n"
   ]
  },
  {
   "cell_type": "markdown",
   "metadata": {},
   "source": [
    "#### Add a new entry:\n",
    "\n",
    "A new entry can be added by specifying the key in square brackets after the dictionary name and specifying the value:"
   ]
  },
  {
   "cell_type": "code",
   "execution_count": null,
   "metadata": {},
   "outputs": [],
   "source": [
    "\n"
   ]
  },
  {
   "cell_type": "code",
   "execution_count": null,
   "metadata": {},
   "outputs": [],
   "source": []
  },
  {
   "cell_type": "markdown",
   "metadata": {},
   "source": [
    "#### Changing a key value\n",
    "\n",
    "The value of a key can be done by assigning a value to an existing key:"
   ]
  },
  {
   "cell_type": "code",
   "execution_count": null,
   "metadata": {},
   "outputs": [],
   "source": [
    "\n"
   ]
  },
  {
   "cell_type": "markdown",
   "metadata": {},
   "source": [
    "#### Remove an entry\n",
    "\n",
    "An entry in a `Dictionary` can be made in three ways:\n",
    "- `pop()` method\n",
    "- `popitem()` method\n",
    "- `del` keyword\n",
    "  \n",
    "\n",
    "**Details on the three options:**\n",
    "- The `pop(<key>)` method removes an entry with a specified key. The method returns the removed value. If the value does not exist, a default value is returned if set with `setdefault()`. If no default value has been set, an error is returned.\n",
    "- The `popitem()` method removes the last added item in the dictionary. The deleted key:value pair is returned.\n",
    "- The `del` keyword deletes an entry. The deleted pair is not returned."
   ]
  },
  {
   "cell_type": "code",
   "execution_count": null,
   "metadata": {},
   "outputs": [],
   "source": [
    "# popitem-Methode\n"
   ]
  },
  {
   "cell_type": "code",
   "execution_count": null,
   "metadata": {},
   "outputs": [],
   "source": []
  },
  {
   "cell_type": "code",
   "execution_count": null,
   "metadata": {},
   "outputs": [],
   "source": [
    "# pop-Methode\n",
    "cities.pop('Northern Ireland')"
   ]
  },
  {
   "cell_type": "code",
   "execution_count": null,
   "metadata": {},
   "outputs": [],
   "source": [
    "cities"
   ]
  },
  {
   "cell_type": "code",
   "execution_count": null,
   "metadata": {},
   "outputs": [],
   "source": [
    "# del Schlüsselwort\n",
    "del cities['England'] # Silent!"
   ]
  },
  {
   "cell_type": "code",
   "execution_count": null,
   "metadata": {},
   "outputs": [],
   "source": [
    "cities"
   ]
  },
  {
   "cell_type": "markdown",
   "metadata": {},
   "source": [
    "Attention: The `clear()` method clears the whole dictionary:"
   ]
  },
  {
   "cell_type": "code",
   "execution_count": null,
   "metadata": {},
   "outputs": [],
   "source": [
    "cities.clear()\n",
    "cities"
   ]
  },
  {
   "cell_type": "markdown",
   "metadata": {},
   "source": [
    "#### Iterate over the keys\n",
    "\n",
    "A loop can be used to query the value pairs of the dictionary individually."
   ]
  },
  {
   "cell_type": "code",
   "execution_count": null,
   "metadata": {},
   "outputs": [],
   "source": [
    "cities = {'Wales':'Cardiff',\n",
    "          'England':'London',\n",
    "          'Scotland':'Edinburgh',\n",
    "          'Northern Ireland':'Belfast',\n",
    "          'Ireland':'Dublin'}"
   ]
  },
  {
   "cell_type": "code",
   "execution_count": null,
   "metadata": {},
   "outputs": [],
   "source": [
    "\n",
    "\n"
   ]
  },
  {
   "cell_type": "markdown",
   "metadata": {},
   "source": [
    "If you want to iterate over the values ​​directly, then the `value()` method can be used:\n",
    "\n",
    "`for e in d d.values():`   \n",
    "    `print(e)`"
   ]
  },
  {
   "cell_type": "markdown",
   "metadata": {},
   "source": [
    "#### Values, keys and items\n",
    "\n",
    "There are three methods to get a `view` of the values ​​in the dictionary:\n",
    "- `values()`: Look at the values\n",
    "- `keys()`: Look at the keys\n",
    "- `items()`: look at the key:value pairs\n",
    "\n",
    "A `view` provides a dynamic view of the entries in a dictionary: if the dictionary changes, the `view` also changes."
   ]
  },
  {
   "cell_type": "code",
   "execution_count": null,
   "metadata": {},
   "outputs": [],
   "source": [
    "# Values\n"
   ]
  },
  {
   "cell_type": "code",
   "execution_count": null,
   "metadata": {},
   "outputs": [],
   "source": [
    "# Keys\n"
   ]
  },
  {
   "cell_type": "code",
   "execution_count": null,
   "metadata": {},
   "outputs": [],
   "source": [
    "# pairs\n"
   ]
  },
  {
   "cell_type": "markdown",
   "metadata": {},
   "source": [
    "### Check key association\n",
    "\n",
    "To check whether a key exists in a dictionary, the `in` or the `not in` can be used:"
   ]
  },
  {
   "cell_type": "code",
   "execution_count": null,
   "metadata": {},
   "outputs": [],
   "source": []
  },
  {
   "cell_type": "code",
   "execution_count": null,
   "metadata": {},
   "outputs": [],
   "source": []
  },
  {
   "cell_type": "markdown",
   "metadata": {},
   "source": [
    "#### Length of a dictionary\n",
    "\n",
    "The number of key:value pairs can be obtained using the `len()` function:"
   ]
  },
  {
   "cell_type": "code",
   "execution_count": null,
   "metadata": {},
   "outputs": [],
   "source": []
  },
  {
   "cell_type": "markdown",
   "metadata": {},
   "source": [
    "## Dictionary Methods\n",
    "\n",
    "**Overview:** \n",
    "- `clear()`: Removes all the elements from the dictionary\n",
    "- `copy()`: Returns a copy of the dictionary\n",
    "- `fromkeys()`: Returns a dictionary with the specified keys and values\n",
    "- `get()`: Returns the value of the specfied key\n",
    "- `items()`: Returns a list containing the tuple for each keys value pairs\n",
    "- `keys()`: Returns a list containing the dictionary's key\n",
    "- `pop()`: Removes the element with the specified key\n",
    "- `popitem()`: Removes the last inserted key-value pair\n",
    "- `setdefault()`: Returns the value of the specified key. If the key does not exist: insert the key, with the specified value.\n",
    "- `update()`: Updates the dictionary with the specified key-value pairs\n",
    "- `values()`: Returns a list of all the values in the dictionary"
   ]
  },
  {
   "cell_type": "markdown",
   "metadata": {},
   "source": [
    "## Quantities (sets)\n",
    "\n",
    "Sets are an unordered (unindexed) collection of immutable objects that do not allow duplicates."
   ]
  },
  {
   "cell_type": "markdown",
   "metadata": {},
   "source": [
    "### Create a set\n",
    "\n",
    "A set is created with curly braces, `{}`"
   ]
  },
  {
   "cell_type": "code",
   "execution_count": null,
   "metadata": {},
   "outputs": [],
   "source": [
    "basket = {'apple', 'orange', 'apple', 'pear', 'orange', 'banana'}"
   ]
  },
  {
   "cell_type": "code",
   "execution_count": null,
   "metadata": {},
   "outputs": [],
   "source": []
  },
  {
   "cell_type": "markdown",
   "metadata": {},
   "source": [
    "Note: Since the elements in the set are unordered (*!please note the output in the last chunk regarding the order!*), they cannot be indexed or addressed via an index."
   ]
  },
  {
   "cell_type": "markdown",
   "metadata": {},
   "source": [
    "### Addressing elements in a set\n",
    "\n",
    "Since sets cannot be addressed via an index, a `for` loop must be used, for example:"
   ]
  },
  {
   "cell_type": "code",
   "execution_count": null,
   "metadata": {},
   "outputs": [],
   "source": [
    "\n"
   ]
  },
  {
   "cell_type": "markdown",
   "metadata": {},
   "source": [
    "### Sets: Methods\n",
    "\n",
    "Typical methods:\n",
    "- `in` keyword: check if an element is in a set;\n",
    "- `add()` method: adding elements to a set\n",
    "- Changing items in a set: not possible;\n",
    "- `len()` function: checking the number of elements in a set.\n",
    "- `min` and `max` functions: minimum and maximum of a set\n",
    "- `remove()` method: remove an item. Alternatively, discard()` can be used.\n",
    "\n",
    "### Set Operations\n",
    "\n",
    "Furthermore `set like` operations can be used, so join operations can be used with |, &, - or ^"
   ]
  },
  {
   "cell_type": "markdown",
   "metadata": {},
   "source": [
    "# *Maybe:* NumPy arrays\n",
    "\n",
    "NumPy arrays are faster than lists, so NumPy arrays are available in one location (*locallity of reference*), lists are stored (e.g. if they grow) in different locations. Furthermore, NumPy operations are CPU optimized.\n",
    "  \n",
    "NumPy Codebase: https://github.com/numpy/numpy"
   ]
  },
  {
   "cell_type": "code",
   "execution_count": null,
   "metadata": {},
   "outputs": [],
   "source": [
    "# With Alias np\n"
   ]
  },
  {
   "cell_type": "code",
   "execution_count": null,
   "metadata": {},
   "outputs": [],
   "source": []
  },
  {
   "cell_type": "markdown",
   "metadata": {},
   "source": [
    "## Create a simple NumPy array\n",
    "\n",
    "For example, a simple NumPy array can be created from a list or tuple:"
   ]
  },
  {
   "cell_type": "code",
   "execution_count": null,
   "metadata": {},
   "outputs": [],
   "source": [
    "EinfachesNumPyArray = np.array([1, 3, 5, 1, 2])"
   ]
  },
  {
   "cell_type": "code",
   "execution_count": null,
   "metadata": {},
   "outputs": [],
   "source": [
    "# Get the array:\n"
   ]
  },
  {
   "cell_type": "code",
   "execution_count": null,
   "metadata": {},
   "outputs": [],
   "source": [
    "# type:\n"
   ]
  },
  {
   "cell_type": "markdown",
   "metadata": {},
   "source": [
    "### 1-D Arrays: Vector\n",
    "\n",
    "1-D arrays are vectors."
   ]
  },
  {
   "cell_type": "code",
   "execution_count": null,
   "metadata": {},
   "outputs": [],
   "source": [
    "EinDNumPyArray = np.array([1, 3, 5, 1, 2])"
   ]
  },
  {
   "cell_type": "code",
   "execution_count": null,
   "metadata": {},
   "outputs": [],
   "source": []
  },
  {
   "cell_type": "markdown",
   "metadata": {},
   "source": [
    "### 2-D Arrays: 2 dimensional matrix\n",
    "\n",
    "An array that has 1-dimensional arrays as elements is called a 2-D array:"
   ]
  },
  {
   "cell_type": "code",
   "execution_count": null,
   "metadata": {},
   "outputs": [],
   "source": [
    "ZweiDimensionalesArray = np.array([[1, 2, 3], [4, 5, 6]])"
   ]
  },
  {
   "cell_type": "code",
   "execution_count": null,
   "metadata": {},
   "outputs": [],
   "source": []
  },
  {
   "cell_type": "code",
   "execution_count": null,
   "metadata": {},
   "outputs": [],
   "source": [
    "# Get dimensions\n"
   ]
  },
  {
   "cell_type": "markdown",
   "metadata": {},
   "source": [
    "### Indexing of 2-dimensional arrays\n",
    "\n",
    "Integers can be used to query elements of 2-dimensional arrays (matrix):\n",
    "- First Position: Rows (First Dimension)\n",
    "- Second Position: Columns (Second Dimension)"
   ]
  },
  {
   "cell_type": "code",
   "execution_count": null,
   "metadata": {},
   "outputs": [],
   "source": [
    "# Expand existing array\n",
    "ZweiDimensionalesArray = np.array([[1, 2, 3, 4, 5], [6, 7, 8, 9, 10]])"
   ]
  },
  {
   "cell_type": "code",
   "execution_count": null,
   "metadata": {},
   "outputs": [],
   "source": [
    "# First element in the second row\n"
   ]
  },
  {
   "cell_type": "code",
   "execution_count": null,
   "metadata": {},
   "outputs": [],
   "source": [
    "# Third element in the first row\n"
   ]
  },
  {
   "cell_type": "markdown",
   "metadata": {},
   "source": [
    "### Data Types in NumPy Arrays\n",
    "\n",
    "NumPy supports more data types compared to the \"classic\" Python data types - strings, integer, float, boolean, complex:\n",
    "   \n",
    "- i - integer\n",
    "- b - boolean\n",
    "- u - unsigned integer\n",
    "- f - float\n",
    "- c - complex float\n",
    "- m - timedelta\n",
    "- M - datetime\n",
    "- O - object\n",
    "- S - string\n",
    "- U - unicode string\n",
    "- V - fixed chunk of memory for other type ( void )"
   ]
  },
  {
   "cell_type": "code",
   "execution_count": null,
   "metadata": {},
   "outputs": [],
   "source": [
    "# create array\n",
    "EinfachesNumPyArray = np.array([1, 3, 5, 1, 2])"
   ]
  },
  {
   "cell_type": "code",
   "execution_count": null,
   "metadata": {},
   "outputs": [],
   "source": [
    "# Query data type\n"
   ]
  },
  {
   "cell_type": "markdown",
   "metadata": {},
   "source": [
    "### Create array with data type\n",
    "Arrays can already be created with a data type"
   ]
  },
  {
   "cell_type": "code",
   "execution_count": null,
   "metadata": {},
   "outputs": [],
   "source": []
  },
  {
   "cell_type": "markdown",
   "metadata": {},
   "source": [
    "The size in bytes can be allocated for:\n",
    "- i\n",
    "- u\n",
    "- f\n",
    "- S\n",
    "- U"
   ]
  },
  {
   "cell_type": "code",
   "execution_count": null,
   "metadata": {},
   "outputs": [],
   "source": []
  },
  {
   "cell_type": "code",
   "execution_count": null,
   "metadata": {},
   "outputs": [],
   "source": []
  },
  {
   "cell_type": "markdown",
   "metadata": {},
   "source": [
    "### Convert the data type of an existing array\n",
    "\n",
    "Recommendation: Create a copy of the array in the desired data type using the `astype()` method:"
   ]
  },
  {
   "cell_type": "code",
   "execution_count": null,
   "metadata": {},
   "outputs": [],
   "source": [
    "EinfachesFloatingPointArray = np.array([1.1, 1.2, 1.5])\n",
    "EinfachesFloatingPointArray"
   ]
  },
  {
   "cell_type": "code",
   "execution_count": null,
   "metadata": {},
   "outputs": [],
   "source": []
  },
  {
   "cell_type": "code",
   "execution_count": null,
   "metadata": {},
   "outputs": [],
   "source": [
    "# Neues Array\n"
   ]
  },
  {
   "cell_type": "code",
   "execution_count": null,
   "metadata": {},
   "outputs": [],
   "source": [
    "## Alternativ kann auch int verwendet werden - ohne Anführungszeichen\n"
   ]
  },
  {
   "cell_type": "code",
   "execution_count": null,
   "metadata": {},
   "outputs": [],
   "source": []
  },
  {
   "cell_type": "markdown",
   "metadata": {},
   "source": [
    "# Exercises"
   ]
  },
  {
   "cell_type": "markdown",
   "metadata": {
    "id": "og3gTm2oSWeB"
   },
   "source": [
    "## int(), float(), bool(), str() and None\n",
    "\n",
    "Please create two variables with text, `textOne` and `textTwo`; Write a short text (>= one word) in the two variables; Output the contents of both variables in one(!) chunk;"
   ]
  },
  {
   "cell_type": "code",
   "execution_count": null,
   "metadata": {},
   "outputs": [],
   "source": []
  },
  {
   "cell_type": "markdown",
   "metadata": {
    "id": "Tki0OGI0mIVI"
   },
   "source": [
    "Please create two variables. One variable `numberOne` with a number as an integer and the other variable `numberTwo` with the same number. Check what boolean type is returned when you compare the variables."
   ]
  },
  {
   "cell_type": "code",
   "execution_count": null,
   "metadata": {},
   "outputs": [],
   "source": []
  },
  {
   "cell_type": "markdown",
   "metadata": {},
   "source": [
    "Connect both variables `textOne` and `textTwo` with the `+` operator. Print out the result and use the `type()` function to check what type it is; What is the behavior of the `+` operator here?"
   ]
  },
  {
   "cell_type": "code",
   "execution_count": null,
   "metadata": {},
   "outputs": [],
   "source": []
  },
  {
   "cell_type": "markdown",
   "metadata": {},
   "source": [
    "## tuple()"
   ]
  },
  {
   "cell_type": "markdown",
   "metadata": {},
   "source": [
    "#### tuple: creating a tuple:\n",
    "- Create a tuple with values {10, 20, 30, 40, 50}\n",
    "- Store the tuple in the variable `MyTuple`\n",
    "- Output the tuple - once with and once without print!\n",
    "- Flip the values in the Tuple(). If necessary, look for suitable help!\n",
    "- Query the value 20 from the tuple `MyTuple`!"
   ]
  },
  {
   "cell_type": "code",
   "execution_count": null,
   "metadata": {},
   "outputs": [],
   "source": []
  },
  {
   "cell_type": "code",
   "execution_count": null,
   "metadata": {},
   "outputs": [],
   "source": []
  },
  {
   "cell_type": "code",
   "execution_count": null,
   "metadata": {},
   "outputs": [],
   "source": []
  },
  {
   "cell_type": "code",
   "execution_count": null,
   "metadata": {},
   "outputs": [],
   "source": []
  },
  {
   "cell_type": "markdown",
   "metadata": {},
   "source": [
    "#### tuple: retrieving a value from a tuple\n",
    "\n",
    "- Query the value 20 from the tuple `ComplexTuple`!\n",
    "\n",
    "`ComplexTuple = (\"Orange\", [10, 20, 30], (5, 15, 25))`\n",
    "  \n",
    "- What's the best way to go about it?"
   ]
  },
  {
   "cell_type": "code",
   "execution_count": null,
   "metadata": {},
   "outputs": [],
   "source": []
  },
  {
   "cell_type": "code",
   "execution_count": null,
   "metadata": {},
   "outputs": [],
   "source": []
  },
  {
   "cell_type": "markdown",
   "metadata": {},
   "source": [
    "#### Optional: Create a tuple with a single value\n",
    "\n",
    "- Create a tuple with only value {50}\n",
    "- Check the object class with the `type()` function!"
   ]
  },
  {
   "cell_type": "code",
   "execution_count": null,
   "metadata": {},
   "outputs": [],
   "source": []
  },
  {
   "cell_type": "code",
   "execution_count": null,
   "metadata": {},
   "outputs": [],
   "source": []
  },
  {
   "cell_type": "markdown",
   "metadata": {},
   "source": [
    "#### Optional: Extract the values of a tuple into individual variables\n",
    "\n",
    "- Without looping, try to extract the contents of the tuple: (10, 20, 30, 40) into four variables named a, b, c and d. \n",
    "- If necessary, look for appropriate help"
   ]
  },
  {
   "cell_type": "code",
   "execution_count": null,
   "metadata": {},
   "outputs": [],
   "source": [
    "\n",
    "\n",
    "\n",
    "\n"
   ]
  },
  {
   "cell_type": "markdown",
   "metadata": {},
   "source": [
    "#### Part Indexing: Copy elements 44 and 55 of tuple `SimpleTuple2` into a new tuple `SimpleTuple3`\n",
    "  \n",
    "`SimpleTuple2 = (11, 22, 33, 44, 55, 66)`"
   ]
  },
  {
   "cell_type": "code",
   "execution_count": null,
   "metadata": {},
   "outputs": [],
   "source": []
  },
  {
   "cell_type": "code",
   "execution_count": null,
   "metadata": {},
   "outputs": [],
   "source": []
  },
  {
   "cell_type": "code",
   "execution_count": null,
   "metadata": {},
   "outputs": [],
   "source": []
  },
  {
   "cell_type": "markdown",
   "metadata": {},
   "source": [
    "## list()"
   ]
  },
  {
   "cell_type": "markdown",
   "metadata": {},
   "source": [
    "#### Part Indexing: Reverse the following list\n",
    "\n",
    "`EineEinfacheListe = [100, 200, 300, 400, 500]`"
   ]
  },
  {
   "cell_type": "code",
   "execution_count": null,
   "metadata": {},
   "outputs": [],
   "source": []
  },
  {
   "cell_type": "code",
   "execution_count": null,
   "metadata": {},
   "outputs": [],
   "source": []
  },
  {
   "cell_type": "markdown",
   "metadata": {},
   "source": [
    "#### Part Concatenate: Join the two lists\n",
    "\n",
    "`Liste1 = ['My', 'name']`  \n",
    "`Liste2 = ['is', 'World!']`"
   ]
  },
  {
   "cell_type": "code",
   "execution_count": null,
   "metadata": {},
   "outputs": [],
   "source": [
    "Liste1 = ['My', 'name']\n",
    "Liste2 = ['is', 'World!']"
   ]
  },
  {
   "cell_type": "code",
   "execution_count": null,
   "metadata": {},
   "outputs": [],
   "source": []
  },
  {
   "cell_type": "markdown",
   "metadata": {},
   "source": [
    "#### Part: Insert a value after another value\n",
    "\n",
    "- You need indexing (square brackets) and the `append()` method!\n",
    "- Add value 7000 after value 6000 in the list!\n",
    "  \n",
    "`List3 = [10, 20, [300, 400, [5000, 6000], 500], 30, 40]`"
   ]
  },
  {
   "cell_type": "code",
   "execution_count": null,
   "metadata": {},
   "outputs": [],
   "source": [
    "List3 = [10, 20, [300, 400, [5000, 6000], 500], 30, 40]\n"
   ]
  },
  {
   "cell_type": "code",
   "execution_count": null,
   "metadata": {},
   "outputs": [],
   "source": []
  },
  {
   "cell_type": "markdown",
   "metadata": {},
   "source": [
    "## dictionaries()"
   ]
  },
  {
   "cell_type": "markdown",
   "metadata": {},
   "source": [
    "### Creating a Dictionary\n",
    "\n",
    "- First create the dictionary `tel`:\n",
    "\n",
    "{\n",
    "    'work': {'Jack': '49', 'Jill': '06', 'James': '44'},\n",
    "    'private': {'Kyle': '424733', 'Karen': '511727'}\n",
    "}   \n",
    "\n",
    "- Note: The dictionary is already prepared so that you can copy it into a code chunk. But don't forget to assign the dictionary to the variable `tel` as well!\n",
    "- Inspect the dictionary"
   ]
  },
  {
   "cell_type": "code",
   "execution_count": null,
   "metadata": {},
   "outputs": [],
   "source": [
    "tel = { 'work': {'Jack': '49', 'Jill': '06', 'James': '44'}, 'private': {'Kyle': '424733', 'Karen': '511727'} } "
   ]
  },
  {
   "cell_type": "markdown",
   "metadata": {},
   "source": [
    "### Functions and methods of a dictionary\n",
    "Run the following commands, always try to explain what the command does (use the help) and check the result:\n",
    "\n",
    "- len(tel)\n",
    "- len(tel['work'])\n",
    "- len(tel['private'])\n",
    "- tel['work']['Jill']\n",
    "- tel['work'].get('Jane')\n",
    "- '06' in tel['work']\n",
    "- 'Jack' in tel['work']\n",
    "- list(tel.keys())\n",
    "- list(tel['work'].keys())\n",
    "- list(tel['private'].values())\n",
    "- tel['private'].copy()\n"
   ]
  },
  {
   "cell_type": "code",
   "execution_count": null,
   "metadata": {},
   "outputs": [],
   "source": [
    "\n",
    "\n",
    "\n",
    "\n",
    "\n",
    "\n",
    "\n",
    "\n",
    "\n",
    "\n"
   ]
  },
  {
   "cell_type": "markdown",
   "metadata": {},
   "source": [
    "### Modifying Dictionary Statements\n",
    "\n",
    "**Caution** The following commands change the dictionary! You may have to restore it.\n",
    "\n",
    "First create the dictionary `d`:\n",
    "\n",
    "d = {'Jack': '49', 'Jill': '06', 'James': '44'}\n",
    "  \n",
    "\n",
    "Please test what happens when you run the following commands. Always try to understand these:\n",
    "\n",
    "- d = {'Jack': '49', 'Jill': '06', 'James': '44'}\n",
    "- d['Jill'] = '46'\n",
    "- del d['Jack']\n",
    "- d.pop('James')\n",
    "- d.pop('Jane', None)\n",
    "- d.setdefault('Jill', None)\n",
    "- d.setdefault('Jack', None)\n",
    "- d.setdefault('James', None)\n",
    "- d.update({'Jack': '59', 'James': '54', 'Jane': '56'})\n",
    "- d.clear()"
   ]
  },
  {
   "cell_type": "code",
   "execution_count": null,
   "metadata": {},
   "outputs": [],
   "source": [
    "# Create dict\n",
    "d = {'Jack': '49', 'Jill': '06', 'James': '44'}"
   ]
  },
  {
   "cell_type": "code",
   "execution_count": null,
   "metadata": {},
   "outputs": [],
   "source": [
    "\n",
    "\n",
    "\n",
    "\n",
    "\n",
    "\n",
    "\n",
    "\n",
    "\n",
    "\n",
    "\n",
    "\n",
    "\n",
    "\n",
    "\n"
   ]
  },
  {
   "cell_type": "markdown",
   "metadata": {},
   "source": [
    "### NumPy-Arrays"
   ]
  },
  {
   "cell_type": "code",
   "execution_count": null,
   "metadata": {},
   "outputs": [],
   "source": [
    "\n"
   ]
  },
  {
   "cell_type": "markdown",
   "metadata": {},
   "source": [
    "### Anzahl an Dimensionen\n",
    "Please check the number of dimensions of the arrays - what is it (scalar, vector, 2-D matrix, k-dimensional array):   \n",
    "`a = np.array(42)`  \n",
    "`b = np.array([1, 2, 3, 4, 5])`   \n",
    "`c = np.array([[1, 2, 3], [4, 5, 6]])`    \n",
    "`d = np.array([[[1, 2, 3], [4, 5, 6]], [[1, 2, 3], [4, 5, 6]]])`   "
   ]
  },
  {
   "cell_type": "code",
   "execution_count": null,
   "metadata": {},
   "outputs": [],
   "source": [
    "\n",
    "\n",
    "\n"
   ]
  },
  {
   "cell_type": "code",
   "execution_count": null,
   "metadata": {},
   "outputs": [],
   "source": []
  }
 ],
 "metadata": {
  "colab": {
   "collapsed_sections": [],
   "name": "Teil_3_Python_Datentypen_Teil_1_komplett.ipynb",
   "provenance": []
  },
  "kernelspec": {
   "display_name": "Python 3 (ipykernel)",
   "language": "python",
   "name": "python3"
  },
  "language_info": {
   "codemirror_mode": {
    "name": "ipython",
    "version": 3
   },
   "file_extension": ".py",
   "mimetype": "text/x-python",
   "name": "python",
   "nbconvert_exporter": "python",
   "pygments_lexer": "ipython3",
   "version": "3.10.4"
  }
 },
 "nbformat": 4,
 "nbformat_minor": 1
}
