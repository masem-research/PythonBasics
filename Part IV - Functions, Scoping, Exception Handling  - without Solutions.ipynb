{
 "cells": [
  {
   "cell_type": "markdown",
   "metadata": {
    "id": "4rja49H71sbk"
   },
   "source": [
    "# Part IV: Functions, Scoping, Exception Handling - without Solutions \n",
    "      \n",
    "Guido Möser /dl4fdr/ under CCC license\n",
    "   \n",
    "First part: 45 - 60 mins interactive demonstrations / 30 - 45 mins exercises + discussion of possible solutions   \n",
    "  \n",
    "### Functions and Scoping\n",
    "- Overview\n",
    "- Functions\n",
    "- Scoping\n",
    "\n",
    "### Exception Handling\n",
    "- Overview\n",
    "- Expection Handling\n",
    "      \n",
    "### Exercises"
   ]
  },
  {
   "cell_type": "markdown",
   "metadata": {},
   "source": [
    "## Functions  \n",
    "  \n",
    "- A **function** in Python is a group of related statements that can be called together.\n",
    "- The statements usually execute a specific task, have arguments as input and return values ​​or similar.\n",
    "- Functions help to modularize code more."
   ]
  },
  {
   "cell_type": "markdown",
   "metadata": {
    "id": "uxgtjr1l4FAt"
   },
   "source": [
    "## Types of functions in Python\n",
    "\n",
    "Technically speaking, there are two types of functions:\n",
    "- built-in functions, e.g. print(), input() etc. An **overview** can be found here: https://docs.python.org/3/library/functions.html\n",
    "- user defined functions"
   ]
  },
  {
   "cell_type": "markdown",
   "metadata": {
    "id": "4fEisRisGLEu"
   },
   "source": [
    "## Create the function\n",
    "\n",
    "A function can be created using the `def` keyword.\n",
    "  \n",
    "**Example:**"
   ]
  },
  {
   "cell_type": "code",
   "execution_count": null,
   "metadata": {
    "id": "IteYvmZqGZ6U"
   },
   "outputs": [],
   "source": [
    "# Definition of a function\n",
    "\n"
   ]
  },
  {
   "cell_type": "markdown",
   "metadata": {
    "id": "wEXBQA5mGfD9"
   },
   "source": [
    "## Calling the function\n",
    "\n",
    "A function is called by its name + parentheses.\n",
    "  \n",
    "**Example:**"
   ]
  },
  {
   "cell_type": "code",
   "execution_count": null,
   "metadata": {
    "colab": {
     "base_uri": "https://localhost:8080/"
    },
    "id": "HzYxSTWEGkDO",
    "outputId": "b117dddc-4ca9-4d64-b0a7-8b81a2d1aa99"
   },
   "outputs": [],
   "source": [
    "# Call the function\n"
   ]
  },
  {
   "cell_type": "markdown",
   "metadata": {
    "id": "s-R0NqZSs-Qz"
   },
   "source": [
    "## Docstring\n",
    "  \n",
    "A **Docstring** can be built into a function for documentation purposes: Notes for users about:\n",
    "- Arguments and parameters of the function\n",
    "- Error handling\n",
    "- Return of values\n",
    "- ...\n",
    "  \n",
    "The three quotation marks are used for the **docstring**, because then you can write over several lines.\n",
    "   \n",
    "**Example:** Function to check that the input is an integer. For example, we can use this to query the age and ensure that the result is an integer."
   ]
  },
  {
   "cell_type": "code",
   "execution_count": null,
   "metadata": {
    "id": "CTR7TlAEtpjS"
   },
   "outputs": [],
   "source": [
    "# Definition of a function\n",
    "\n",
    "\n",
    "\n",
    "\n",
    "\n",
    "\n",
    "\n"
   ]
  },
  {
   "cell_type": "code",
   "execution_count": null,
   "metadata": {
    "colab": {
     "base_uri": "https://localhost:8080/"
    },
    "id": "BqZ4uJXXu1eP",
    "outputId": "755a95d3-ed6d-4fd0-eb35-94873c68719e"
   },
   "outputs": [],
   "source": [
    "# Call function IntegerAlsInput\n",
    "age = IntegerAsInput(\"Please enter your age: \")"
   ]
  },
  {
   "cell_type": "code",
   "execution_count": null,
   "metadata": {
    "colab": {
     "base_uri": "https://localhost:8080/"
    },
    "id": "LD6PGrzFvOVR",
    "outputId": "a9c8b74c-2bcd-4f21-a961-8b9012aa8908"
   },
   "outputs": [],
   "source": [
    "# Print value of age:\n",
    "print('Age is', age)"
   ]
  },
  {
   "cell_type": "markdown",
   "metadata": {
    "id": "qg2MSQ_vxHYj"
   },
   "source": [
    "The **docstring** information can be retrieved via a special function:"
   ]
  },
  {
   "cell_type": "code",
   "execution_count": null,
   "metadata": {
    "colab": {
     "base_uri": "https://localhost:8080/"
    },
    "id": "yZ4EPo1IxSSm",
    "outputId": "9c08da43-22b3-4ba5-c3da-a4266288799c"
   },
   "outputs": [],
   "source": []
  },
  {
   "cell_type": "markdown",
   "metadata": {
    "id": "qe9Nwy7qHiBT"
   },
   "source": [
    "### Arguments and parameters of a function\n",
    "\n",
    "**Note:** The terms *parameters* and *arguments* are often used vaguely. Here the terms are used as follows:\n",
    "- **Parameter**: A variable specified in the function header of the function that makes data usable in the function;\n",
    "- **Arguments**: Values ​​or data passed to the function when the function is called.\n",
    "\n",
    "- Information can be passed to the function as a parameter;\n",
    "- Parameters are specified in parentheses after the function name;\n",
    "- The number of parameters is theoretically unlimited;\n",
    "- Parameters are separated with a comma;\n",
    "- Parameters can (and should!) always be called together with the parameter name!\n",
    "  - Syntax: *key = value*\n",
    "- Parameters are often abbreviated as *args* in Python;\n",
    "  \n",
    "**Example**: Function with one parameter, passing one argument"
   ]
  },
  {
   "cell_type": "code",
   "execution_count": null,
   "metadata": {
    "id": "p66yuflyI6AT"
   },
   "outputs": [],
   "source": [
    "## Function with a parameter (and an argument)\n",
    "\n"
   ]
  },
  {
   "cell_type": "code",
   "execution_count": null,
   "metadata": {
    "colab": {
     "base_uri": "https://localhost:8080/"
    },
    "id": "d2VjALH6JHkW",
    "outputId": "cbf10e8d-b8ba-4374-8843-72ba0f78bdd2"
   },
   "outputs": [],
   "source": [
    "## Aufruf der Funktion\n",
    "MyFirstFunctionWithAnArgument(NameAsArgument = \"Guido\")"
   ]
  },
  {
   "cell_type": "markdown",
   "metadata": {
    "id": "cjssaZ7QJcUb"
   },
   "source": [
    "**Example:** Function with two arguments"
   ]
  },
  {
   "cell_type": "code",
   "execution_count": null,
   "metadata": {
    "id": "OIMBPXCxJhLu"
   },
   "outputs": [],
   "source": [
    "## Function with two arguments/parameters\n",
    "\n"
   ]
  },
  {
   "cell_type": "code",
   "execution_count": null,
   "metadata": {
    "colab": {
     "base_uri": "https://localhost:8080/"
    },
    "id": "5HS8fi28Jsi7",
    "outputId": "9444377a-06ff-4f8f-841c-41a2effead0b"
   },
   "outputs": [],
   "source": [
    "# Aufruf der Funktion\n"
   ]
  },
  {
   "cell_type": "markdown",
   "metadata": {
    "id": "T9RtB1S1J3kL"
   },
   "source": [
    "## Notes on the arguments\n",
    "\n",
    "- Parameters and arguments: Sometimes parameters and arguments are also used; Often it is not exactly clear what these are used for. That is not critical either; but for orientation:\n",
    "  - Parameters: Variable names in brackets after the function name: In the example `FirstNameArgument`\n",
    "  - Argument: value passed when the function is called. In the example: `Guido`\n",
    "\n",
    "### Number of arguments\n",
    "What happens if the required number of parameters are not passed for a function's arguments?\n",
    "- If you do not pass the required number of parameters, an error occurs. For example, in a function with two arguments, if you pass only one argument, you will get an error.\n",
    "- Conversely, if you specify two arguments in the function but only use one argument in the function, then there will be no error!\n",
    "\n",
    "**Example:** Incorrect call of a function"
   ]
  },
  {
   "cell_type": "code",
   "execution_count": null,
   "metadata": {
    "colab": {
     "base_uri": "https://localhost:8080/",
     "height": 209
    },
    "id": "2azXnmguKqvK",
    "outputId": "dc6d3288-be4b-4a19-fe95-c16d85d78aee"
   },
   "outputs": [],
   "source": [
    "# Calling the function with two parameters but only one argument\n"
   ]
  },
  {
   "cell_type": "markdown",
   "metadata": {
    "id": "32VM8hkQcir5"
   },
   "source": [
    "**Example: Function with two arguments, but only one argument is used in the function**"
   ]
  },
  {
   "cell_type": "code",
   "execution_count": null,
   "metadata": {
    "id": "J99rZIdBcYkV"
   },
   "outputs": [],
   "source": [
    "## Function with two arguments\n",
    "\n"
   ]
  },
  {
   "cell_type": "code",
   "execution_count": null,
   "metadata": {
    "colab": {
     "base_uri": "https://localhost:8080/"
    },
    "id": "C6C69vWGct6i",
    "outputId": "953fa8ee-f0aa-4d01-adc2-122a951eb7a4"
   },
   "outputs": [],
   "source": [
    "# Funktionsaufruf:\n"
   ]
  },
  {
   "cell_type": "code",
   "execution_count": null,
   "metadata": {
    "colab": {
     "base_uri": "https://localhost:8080/",
     "height": 227
    },
    "id": "75IOCChrc3EV",
    "outputId": "a9e3bc09-c3b4-4e0b-93ef-cb2ad0d3f0b5"
   },
   "outputs": [],
   "source": [
    "# Even though only one argument is used in the function, an error occurs if for the argument,\n",
    "# which is not used, no parameter is specified\n",
    "# function call:\n"
   ]
  },
  {
   "cell_type": "markdown",
   "metadata": {
    "id": "eYyGmeqmK_Oz"
   },
   "source": [
    "### Arbitrary arguments: `*args`\n",
    "\n",
    "If it is not clear how many parameters of an argument should be passed to a function, simply add the \\* to the argument name.\n",
    "\n",
    "**Example:** Arbitrary argument `*args`"
   ]
  },
  {
   "cell_type": "code",
   "execution_count": null,
   "metadata": {
    "id": "qdOLcoomLR6b"
   },
   "outputs": [],
   "source": [
    "# Unknown number of arguments\n",
    "\n"
   ]
  },
  {
   "cell_type": "code",
   "execution_count": null,
   "metadata": {
    "colab": {
     "base_uri": "https://localhost:8080/"
    },
    "id": "c19CLARXLg3D",
    "outputId": "c0e3fd6c-0ec2-4977-e9b9-aa05d8e84aa8"
   },
   "outputs": [],
   "source": [
    "# Aufruf der Funktion\n"
   ]
  },
  {
   "cell_type": "code",
   "execution_count": null,
   "metadata": {
    "id": "J79WbhGDB9j_"
   },
   "outputs": [],
   "source": [
    "## Abfrage und Ausgabe mehrerer Positionsargumente (positional arguments)\n",
    "\n",
    "\n"
   ]
  },
  {
   "cell_type": "code",
   "execution_count": null,
   "metadata": {
    "colab": {
     "base_uri": "https://localhost:8080/"
    },
    "id": "Ig4l6jV0CQLo",
    "outputId": "3f7bf30f-901a-4581-cf4d-77bdfaf55705"
   },
   "outputs": [],
   "source": [
    "# Aufruf der Funktion Gruesse\n",
    "Greetings('Guido', 'Elisa', 'John', 'Arthur')"
   ]
  },
  {
   "cell_type": "markdown",
   "metadata": {
    "id": "5H3ZiErML_Zi"
   },
   "source": [
    "### Arbitrary keyword arguments, `**kwargs`\n",
    "\n",
    "- kwargs --> *Keyword Arguments*\n",
    "- If it is not clear how many arguments are actually passed to the function, then two asterisks `\\**` should be used in the argument list:"
   ]
  },
  {
   "cell_type": "code",
   "execution_count": null,
   "metadata": {
    "id": "EZYeRZcoML91"
   },
   "outputs": [],
   "source": [
    "\n"
   ]
  },
  {
   "cell_type": "code",
   "execution_count": null,
   "metadata": {
    "colab": {
     "base_uri": "https://localhost:8080/"
    },
    "id": "PR4MyPg5MvM0",
    "outputId": "908e650c-619b-40c0-c114-0efe35c68159"
   },
   "outputs": [],
   "source": [
    "# Aufruf der Funktion\n",
    "MyFirstFunctionWithUnknownNumberOfArguments(FirstName = \"Guido\", LastName = \"Moeser\")"
   ]
  },
  {
   "cell_type": "code",
   "execution_count": null,
   "metadata": {
    "id": "Yx_rJM950XKP"
   },
   "outputs": [],
   "source": [
    "# Weiteres Beispiel:\n",
    "\n",
    "\n",
    "\n"
   ]
  },
  {
   "cell_type": "code",
   "execution_count": null,
   "metadata": {
    "colab": {
     "base_uri": "https://localhost:8080/"
    },
    "id": "DIaRQrvk0rJO",
    "outputId": "077f8488-982a-4d98-c0d4-514f9baef7eb"
   },
   "outputs": [],
   "source": [
    "# Aufruf\n",
    "MyFunctionWithKWArgs('Guido', 'Jon', 'Arhur', daughter = \"Phoebe\", son = \"Calidos\")"
   ]
  },
  {
   "cell_type": "markdown",
   "metadata": {
    "id": "cfbFiNFbCmrU"
   },
   "source": [
    "A `for` loop can be used to retrieve the arguments (values) passed to the function when it is called. This also works for `**kwargs`:\n",
    "\n",
    "**Example:** Query using `for`-loop:"
   ]
  },
  {
   "cell_type": "code",
   "execution_count": null,
   "metadata": {
    "id": "gfMfZt-iDFAt"
   },
   "outputs": [],
   "source": [
    "\n",
    "\n"
   ]
  },
  {
   "cell_type": "code",
   "execution_count": null,
   "metadata": {
    "colab": {
     "base_uri": "https://localhost:8080/"
    },
    "id": "S-RfKL1sDWeW",
    "outputId": "857cfbbf-42ff-4cef-e84b-28a1240905ce"
   },
   "outputs": [],
   "source": [
    "named(a = 1, b = 2, c = 3)"
   ]
  },
  {
   "cell_type": "markdown",
   "metadata": {
    "id": "xAZiSC3uM5ja"
   },
   "source": [
    "### Argument: Default parameter values\n",
    "\n",
    "You can pass a default parameter to the arguments of a function:\n",
    "- To do this, assign a default value to the argument in the brackets after the function name;\n",
    "- This default value can be overwritten. If you don't do this, the default parameter will be used when the function is called.\n",
    "\n",
    "**Example: Function with default parameters**"
   ]
  },
  {
   "cell_type": "code",
   "execution_count": null,
   "metadata": {
    "id": "hnJxPm7ndTjq"
   },
   "outputs": [],
   "source": [
    "# Funktion mit default-Parameter\n",
    "\n"
   ]
  },
  {
   "cell_type": "code",
   "execution_count": null,
   "metadata": {
    "colab": {
     "base_uri": "https://localhost:8080/"
    },
    "id": "JJoNGeC5dt_S",
    "outputId": "039e7cfa-04f3-4a75-cf63-9e2d7454b41e"
   },
   "outputs": [],
   "source": [
    "# Aufruf der Funktion ohne Parameter, nutzen des Default-Parameters\n",
    "FunctionWithDefaultParameter()"
   ]
  },
  {
   "cell_type": "code",
   "execution_count": null,
   "metadata": {
    "colab": {
     "base_uri": "https://localhost:8080/"
    },
    "id": "1hDK4E88d3F1",
    "outputId": "1f1cd4f3-ddc4-4b0e-ed91-2a1f73871dac"
   },
   "outputs": [],
   "source": [
    "# Überschreiben des default-Parameters\n",
    "FunctionWithDefaultParameter(FirstName = \"Jon\")"
   ]
  },
  {
   "cell_type": "markdown",
   "metadata": {
    "id": "Hyq6_ngaeKf_"
   },
   "source": [
    "### Passing e.g. a list as an argument\n",
    "\n",
    "- Any data type can be used as a parameter of an argument;\n",
    "- The data type passed as a parameter also arrives in the function.\n",
    "  \n",
    "**Example: Passing a list as a parameter of an argument:**\n"
   ]
  },
  {
   "cell_type": "code",
   "execution_count": null,
   "metadata": {
    "id": "JNbWpBLaefIA"
   },
   "outputs": [],
   "source": [
    "\n",
    "\n"
   ]
  },
  {
   "cell_type": "code",
   "execution_count": null,
   "metadata": {
    "colab": {
     "base_uri": "https://localhost:8080/"
    },
    "id": "eCV9coXeeo13",
    "outputId": "f7478182-c99d-4cea-f557-b2f8cf64e786"
   },
   "outputs": [],
   "source": [
    "# Aufruf der Funktion\n",
    "FunctionWithListAsArgument(fruits = ['apple', 'banana', 'kiwi'])"
   ]
  },
  {
   "cell_type": "markdown",
   "metadata": {
    "id": "T2uDe0pve0yg"
   },
   "source": [
    "### Return `return` of values\n",
    "\n",
    "Of course, a function can also return a value using the keyword `return`.\n",
    "Using `print` for output without using `return ` is not recommended, it should be explicitly stated in the function what is returned!\n",
    "  \n",
    "**Example: Returning a value**\n"
   ]
  },
  {
   "cell_type": "code",
   "execution_count": null,
   "metadata": {
    "id": "93uC2oMqfDS6"
   },
   "outputs": [],
   "source": [
    "\n"
   ]
  },
  {
   "cell_type": "code",
   "execution_count": null,
   "metadata": {
    "colab": {
     "base_uri": "https://localhost:8080/"
    },
    "id": "_eD-D7aXfLo_",
    "outputId": "f65d5795-88ca-4fc2-8f60-3fc2175ecfec"
   },
   "outputs": [],
   "source": [
    "# Aufruf der Funktion\n",
    "FunctionWithReturn(NumericalValue = 3)"
   ]
  },
  {
   "cell_type": "markdown",
   "metadata": {
    "id": "MIiBUelOHIo8"
   },
   "source": [
    "# Exercises: Functions"
   ]
  },
  {
   "cell_type": "markdown",
   "metadata": {
    "id": "cdSSZfogHLhM"
   },
   "source": [
    "## Exercise 1: Output of a function\n",
    "- Test what happens if you omit the `print()` command in `MyFunction` and call the function!\n",
    "- Then test what happens when you work with a `return` statement!"
   ]
  },
  {
   "cell_type": "code",
   "execution_count": null,
   "metadata": {
    "id": "acne-1NA1m94"
   },
   "outputs": [],
   "source": [
    "def MyFunction():\n",
    "    print(\"My first function\")"
   ]
  },
  {
   "cell_type": "code",
   "execution_count": null,
   "metadata": {
    "colab": {
     "base_uri": "https://localhost:8080/"
    },
    "id": "8Q3CQ8ogBSHZ",
    "outputId": "de217634-c6ae-4b03-d631-94c6d10fe47f"
   },
   "outputs": [],
   "source": [
    "MyFunction()"
   ]
  },
  {
   "cell_type": "code",
   "execution_count": null,
   "metadata": {
    "id": "jLD48vRABTtI"
   },
   "outputs": [],
   "source": [
    "# without print() function \n",
    "\n"
   ]
  },
  {
   "cell_type": "code",
   "execution_count": null,
   "metadata": {
    "id": "lJ_WuqnMBfq0"
   },
   "outputs": [],
   "source": [
    "MyFunction()"
   ]
  },
  {
   "cell_type": "code",
   "execution_count": null,
   "metadata": {
    "id": "CcdgtFu1BXxu"
   },
   "outputs": [],
   "source": [
    "# with return\n"
   ]
  },
  {
   "cell_type": "code",
   "execution_count": null,
   "metadata": {
    "colab": {
     "base_uri": "https://localhost:8080/",
     "height": 36
    },
    "id": "t2AnZ6cGBbOC",
    "outputId": "babe4c5b-89fd-473b-e6c1-15331c4d9d7c"
   },
   "outputs": [],
   "source": [
    "MyFunction()"
   ]
  },
  {
   "cell_type": "markdown",
   "metadata": {
    "id": "_dvLzvT5BksK"
   },
   "source": [
    "### Exercise 2: Creating a function to test the type\n",
    "Create a function from the condition (see the exercise in the Conditions with if section) and test that function so that it can identify what the input is."
   ]
  },
  {
   "cell_type": "code",
   "execution_count": null,
   "metadata": {
    "id": "mqsrONUkBufc"
   },
   "outputs": [],
   "source": [
    "# Creating an iterable object, e.g. a tuple:\n",
    "TupleArea = (\"Area1\", \"Area2\", \"Area3\")\n",
    "# Check:\n",
    "if type(TupleArea) == list:\n",
    "    print(\"list!\")\n",
    "elif type(TupleArea) == tuple:\n",
    "    print(\"tuple!\")\n",
    "elif type(TupleArea) == dict:\n",
    "    print('dictionary!')\n",
    "elif type(TupleArea) == str:\n",
    "    print('string!')\n",
    "else:\n",
    "    print('Apparently there is no built-in iterable object!')"
   ]
  },
  {
   "cell_type": "code",
   "execution_count": null,
   "metadata": {
    "id": "JeGTu3nUB9t2"
   },
   "outputs": [],
   "source": [
    "# Build a function:\n",
    "\n",
    "\n",
    "\n",
    "\n",
    "\n",
    "\n",
    "\n"
   ]
  },
  {
   "cell_type": "code",
   "execution_count": null,
   "metadata": {
    "colab": {
     "base_uri": "https://localhost:8080/"
    },
    "id": "yQf8ML9cCQtu",
    "outputId": "65065972-0a6e-4511-9198-a014b3c288aa"
   },
   "outputs": [],
   "source": [
    "# Call\n",
    "TypeCheck((\"Area1\", \"Area2\", \"Area3\"))"
   ]
  },
  {
   "cell_type": "code",
   "execution_count": null,
   "metadata": {
    "colab": {
     "base_uri": "https://localhost:8080/"
    },
    "id": "QwhAR2x9ClbG",
    "outputId": "55809f7d-8703-43f6-8250-4b2533602ce6"
   },
   "outputs": [],
   "source": [
    "# Call\n",
    "TypeCheck(\"Area1\")"
   ]
  },
  {
   "cell_type": "markdown",
   "metadata": {
    "id": "UA8zi6ZrCyTp"
   },
   "source": [
    "### Exercise 3: Positional arguments with `**args`\n",
    "Write a function that can take any number of positional arguments (**args) and then prints the entered arguments back to the console (using a for loop, etc.).\n",
    "- Enter the arguments individually, comma-separated, then as a list etc. and check the behavior"
   ]
  },
  {
   "cell_type": "code",
   "execution_count": null,
   "metadata": {
    "id": "iSgba1HdCoOC"
   },
   "outputs": [],
   "source": [
    "## Query and return multiple positional arguments\n",
    "\n",
    "\n"
   ]
  },
  {
   "cell_type": "code",
   "execution_count": null,
   "metadata": {
    "colab": {
     "base_uri": "https://localhost:8080/"
    },
    "id": "XGRhcwgeDH0J",
    "outputId": "31bb8b72-491d-49a7-8434-6a477533d140"
   },
   "outputs": [],
   "source": [
    "# Aufruf und Testen der Funktion mit einer Liste\n",
    "Names([\"Guido\", \"Lisa\", \"Sandra\"])"
   ]
  },
  {
   "cell_type": "code",
   "execution_count": null,
   "metadata": {
    "colab": {
     "base_uri": "https://localhost:8080/"
    },
    "id": "l5y0CjQwDHEc",
    "outputId": "31960662-b766-4d91-bb9c-f88acc3ab70a"
   },
   "outputs": [],
   "source": [
    "# Aufruf und Testen der Funktion mit Komma-getrennten Werten\n",
    "Names(\"Guido\", \"Lisa\", \"Sandra\")"
   ]
  },
  {
   "cell_type": "markdown",
   "metadata": {},
   "source": [
    "# Error handling with `try` in Python\n",
    "\n",
    "**Error** or **Exception Handling** is a central concept of a programming language: it allows errors to be caught so that a program can continue to function:\n",
    "  \n",
    "- The `try` block tests a block of code for an error\n",
    "- The `except` block allows handling (catching) the error\n",
    "- The `finally` block executes code whether an error occurs or not. However, this part does not have to be taken.   \n",
    "  \n",
    "Normally, Python stops execution and prints an error message if an error occurs. These errors or exceptions (exceptions) can be caught using the `try` statement:\n",
    "  \n",
    "**Example: `try` to catch an error**"
   ]
  },
  {
   "cell_type": "code",
   "execution_count": null,
   "metadata": {},
   "outputs": [],
   "source": [
    "# try to catch an exception\n",
    "#  Exception: no Variable_x\n",
    "\n",
    "\n",
    "\n"
   ]
  },
  {
   "cell_type": "markdown",
   "metadata": {},
   "source": [
    "Without the `try` section, an error message would have been thrown:"
   ]
  },
  {
   "cell_type": "code",
   "execution_count": null,
   "metadata": {},
   "outputs": [],
   "source": [
    "print(Variable_x)"
   ]
  },
  {
   "cell_type": "markdown",
   "metadata": {},
   "source": [
    "## Lots of exceptions\n",
    "  \n",
    "Additional blocks can be added, e.g. for special error types, e.g. `NameError`.\n",
    "  \n",
    "**Example:** More blocks for special errors"
   ]
  },
  {
   "cell_type": "code",
   "execution_count": null,
   "metadata": {},
   "outputs": [],
   "source": [
    "# Parts for different exceptions\n",
    "\n",
    "\n",
    "\n",
    "\n"
   ]
  },
  {
   "cell_type": "markdown",
   "metadata": {},
   "source": [
    "## `Else` keyword\n",
    "\n",
    "The `else` keyword can be used for a block that will be called if no error occurs.\n",
    "\n",
    "**Example:**"
   ]
  },
  {
   "cell_type": "code",
   "execution_count": null,
   "metadata": {},
   "outputs": [],
   "source": [
    "# else keyword\n",
    "\n",
    "\n",
    "\n",
    "\n"
   ]
  },
  {
   "cell_type": "markdown",
   "metadata": {},
   "source": [
    "## `Finally`\n",
    "  \n",
    "The `Finally` block will be executed whether the `try()` block returns an error or not"
   ]
  },
  {
   "cell_type": "code",
   "execution_count": null,
   "metadata": {},
   "outputs": [],
   "source": [
    "# finally\n",
    "\n",
    "\n",
    "\n",
    "\n"
   ]
  },
  {
   "cell_type": "markdown",
   "metadata": {},
   "source": [
    "Helpful for closing and tidying up objects. Here the program can be continued without the file remaining open."
   ]
  },
  {
   "cell_type": "code",
   "execution_count": null,
   "metadata": {},
   "outputs": [],
   "source": [
    "try:\n",
    "    f = open(\"demofile.txt\")\n",
    "    try:\n",
    "        f.write(\"Lorem Ipsum\")\n",
    "    except:\n",
    "        print(\"Something went wrong while writing to the file\")\n",
    "    finally:\n",
    "        f.close()\n",
    "except:\n",
    "    print(\"Something went wrong trying to open the file.\")"
   ]
  },
  {
   "cell_type": "markdown",
   "metadata": {},
   "source": [
    "## Raise on exception\n",
    "\n",
    "As a Python programmer, you can program an exception when a condition is met.\n",
    "  \n",
    "To raise an exception (error), the `raise` keyword is used. An error is triggered.\n",
    "  \n",
    "**Example:** `raise` keyword to raise an error"
   ]
  },
  {
   "cell_type": "code",
   "execution_count": null,
   "metadata": {},
   "outputs": [],
   "source": [
    "## raise Keyword\n",
    "\n",
    "\n"
   ]
  },
  {
   "cell_type": "markdown",
   "metadata": {},
   "source": [
    "This error can now be caught with a `try` `catch` command."
   ]
  },
  {
   "cell_type": "markdown",
   "metadata": {},
   "source": [
    "### Type of error using `raise` keyword\n",
    "\n",
    "**Example:**"
   ]
  },
  {
   "cell_type": "code",
   "execution_count": null,
   "metadata": {},
   "outputs": [],
   "source": [
    "x = \"Hallo!\"\n",
    "\n"
   ]
  },
  {
   "cell_type": "markdown",
   "metadata": {},
   "source": [
    "## Exception Types in Python\n",
    "  \n",
    "`Exception` is the generic and base class for all exceptions.\n",
    "\n",
    "- `StopIteration` exception raised when the `next()` method of an iterator does not point to any object.\n",
    "- `SystemExit` exception raised by the `sys.exit()` function.\n",
    "StandardError is a base class and exception for all built-in exceptions except StopIteration and SystemExit.\n",
    "- `ArithmeticError` is a base class for all error that occurs during mathematical and arithmetic calculations and operators.\n",
    "- `OverFlowError` exception raised when calculation exceeds the maximum limit for given numerical type.\n",
    "- `ZeroDivisionError` exception raised when a division or modulo by zero takes place for numerical operations.\n",
    "- `AssertionError` raised in case of failure of the assert Python programming language statement.\n",
    "- `AttributeError` exception raised in case of failure of attribute reference or assignment.\n",
    "- `EOFError` exception raised when there is no input or the end of a file is reached.\n",
    "- `ImportError` exception raised when an import Python programming language statement fails.\n",
    "- `KeyboardInterrupt` exception raised when the user interrupts the execution of the application with Linux kill command or pressing CTRL+C keyboard shortcut.\n",
    "- `LookupError` exception raised for all lookup errors.\n",
    "- `IndexError` exception raised when an index is not found in the array, list in a sequence.\n",
    "- `KeyError` exception raised when the specified key is not found in the dictionary.\n",
    "- `NameError` exception raised when an identifier is not found in the local or global namespace.\n",
    "- `UnboundLocalError` exception raised when trying to access a local variable in a function, method, module but no value has been assigned to it.\n",
    "- `EnvironmentError` is based class for all exceptions that occur outside of the Python Environment.\n",
    "- `IOError` exception raised when an input/output operations fail, such as writing a file failed or a file can not be opened.\n",
    "- `SyntaxError` exception raised when there is an error related to the Python Syntax.\n",
    "- `IndentationError` exception raised when indentation is not specified and used properly to catch code block.\n",
    "- `SystemError` exception raised when the Python interpreter finds and, internal problem.\n",
    "- `TypeError` exception raised when an operation, function, method is attempted to get, set different type of variable or data type.\n",
    "- `ValueError` exception raised when built-in function fora data type has the valid type of arguments, but the arguments have invalid values.\n",
    "- `RuntimeError` exception raised when the raised exception or error does not suit any specific category.\n",
    "- `NotImplementedError` exception raised when an abstract method that is not implemented tried to be used."
   ]
  },
  {
   "cell_type": "markdown",
   "metadata": {},
   "source": [
    "### Catch specific errors\n",
    "\n",
    "Some specific errors are intercepted as an example.\n",
    "- `TypeError`: The wrong type is passed.\n",
    "- `NameError``\n",
    ": Variable not found."
   ]
  },
  {
   "cell_type": "code",
   "execution_count": null,
   "metadata": {},
   "outputs": [],
   "source": [
    "# The wrong type is passed\n",
    "NumericalInput = input(\"Please enter a value: \")\n",
    "\n",
    "\n",
    "\n",
    "\n"
   ]
  },
  {
   "cell_type": "markdown",
   "metadata": {},
   "source": [
    "Question: Why is a type error returned even though a numeric (even integer value like 2) is entered? Customize the syntax with `int()` or `float()` commands!"
   ]
  },
  {
   "cell_type": "markdown",
   "metadata": {},
   "source": [
    "Please adjust the code so that no error is thrown when entering an integer or float"
   ]
  },
  {
   "cell_type": "code",
   "execution_count": null,
   "metadata": {},
   "outputs": [],
   "source": [
    "# The wrong type is passed\n",
    "NumericalInput = input(\"Please enter a value: \")\n",
    "\n",
    "\n",
    "\n",
    "\n"
   ]
  },
  {
   "cell_type": "markdown",
   "metadata": {},
   "source": [
    "### Catch multiple errors\n",
    "\n",
    "Several errors can also be caught at the same time, e.g. a `TypeError` and a `NameError`.\n",
    "  \n",
    "**Example:** TypeError and NameError"
   ]
  },
  {
   "cell_type": "code",
   "execution_count": null,
   "metadata": {},
   "outputs": [],
   "source": [
    "# The wrong type is passed\n",
    "NumericalInput = input(\"Please enter a value: \")\n",
    "\n",
    "\n",
    "\n",
    "\n"
   ]
  },
  {
   "cell_type": "markdown",
   "metadata": {},
   "source": [
    "## Exercises - Exception Handling\n",
    "\n"
   ]
  },
  {
   "cell_type": "markdown",
   "metadata": {},
   "source": [
    "## Exercise: Try to import an not existing package, e.g. tensorflow\n",
    "- Once with the general exception type\n",
    "- With the specific exception type - find the appropriate exception type"
   ]
  },
  {
   "cell_type": "code",
   "execution_count": null,
   "metadata": {},
   "outputs": [],
   "source": [
    "# Exercises 1\n",
    "\n",
    "\n",
    "\n",
    "\n"
   ]
  },
  {
   "cell_type": "code",
   "execution_count": null,
   "metadata": {},
   "outputs": [],
   "source": [
    "# Exercises 1\n",
    "\n",
    "\n",
    "\n",
    "\n"
   ]
  },
  {
   "cell_type": "markdown",
   "metadata": {},
   "source": [
    "## Exercise: You want to divide two floating point variables by each other. You want to catch possible errors with a try...catch statement.\n",
    "\n",
    "Write a function that takes two floating point values, performs a division, and returns the result. What happens to division when the divisor is 0? Catch the error with a specific function!\n",
    "- First write a function `DivisionTwoVariables` and test it\n",
    "- Then copy the function and add try/catch"
   ]
  },
  {
   "cell_type": "code",
   "execution_count": null,
   "metadata": {},
   "outputs": [],
   "source": [
    "def DivisionZweierVariablen():\n",
    "\n",
    "    \n",
    "    \n",
    "    \n",
    "    \n",
    "    "
   ]
  },
  {
   "cell_type": "code",
   "execution_count": null,
   "metadata": {},
   "outputs": [],
   "source": [
    "DivisionZweierVariablen()"
   ]
  },
  {
   "cell_type": "code",
   "execution_count": null,
   "metadata": {},
   "outputs": [],
   "source": [
    "def DivisionZweierVariablen():\n",
    "\n",
    "    \n",
    "    \n",
    "    \n",
    "    \n",
    "    \n",
    "    \n",
    "    "
   ]
  },
  {
   "cell_type": "code",
   "execution_count": null,
   "metadata": {},
   "outputs": [],
   "source": [
    "# Call\n",
    "DivisionZweierVariablen()"
   ]
  },
  {
   "cell_type": "markdown",
   "metadata": {},
   "source": [
    "## Exercise: Using the `pass` statement\n",
    "\n",
    "Please adjust the following syntax so that no error is output."
   ]
  },
  {
   "cell_type": "code",
   "execution_count": null,
   "metadata": {},
   "outputs": [],
   "source": [
    "InputList = [1, 3, 5]\n",
    "\n",
    "\n",
    "\n",
    "\n"
   ]
  },
  {
   "cell_type": "markdown",
   "metadata": {},
   "source": [
    "## Exercise 4: Index error\n",
    "\n",
    "Make a list of values ​​5, 10, and 20 and try using the print function to print the fifth value. Then catch the error. Note: Check the error message and then look for the correct statement in the overview list!"
   ]
  },
  {
   "cell_type": "code",
   "execution_count": null,
   "metadata": {},
   "outputs": [],
   "source": [
    "List = [5, 10, 20]\n",
    "print(List[5])"
   ]
  },
  {
   "cell_type": "code",
   "execution_count": null,
   "metadata": {},
   "outputs": [],
   "source": [
    "List = [5, 10, 20]\n",
    "\n",
    "\n",
    "\n"
   ]
  }
 ],
 "metadata": {
  "colab": {
   "collapsed_sections": [],
   "name": "Teil_9_GW_Python_Funktionen.ipynb",
   "provenance": []
  },
  "kernelspec": {
   "display_name": "Python 3 (ipykernel)",
   "language": "python",
   "name": "python3"
  },
  "language_info": {
   "codemirror_mode": {
    "name": "ipython",
    "version": 3
   },
   "file_extension": ".py",
   "mimetype": "text/x-python",
   "name": "python",
   "nbconvert_exporter": "python",
   "pygments_lexer": "ipython3",
   "version": "3.10.4"
  }
 },
 "nbformat": 4,
 "nbformat_minor": 1
}
