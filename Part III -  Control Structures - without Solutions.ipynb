{
 "cells": [
  {
   "cell_type": "markdown",
   "metadata": {},
   "source": [
    "# Part III: Control Structures  - without Solutions\n",
    "  \n",
    "Guido Möser /dl4fdr/ under CCC license\n",
    "   \n",
    "First part: 45 - 60 mins interactive demonstrations / 30 - 45 mins exercises + discussion of possible solutions   \n",
    "  \n",
    "### Conditions\n",
    "- Overview\n",
    "- Comparison Operator\n",
    "- Logical Operator\n",
    "- `if`-Statement\n",
    "- `else` im `if`-Statement\n",
    "- `elif`\n",
    "\n",
    "### Loops\n",
    "- Overview\n",
    "- `while`\n",
    "- `for`\n",
    "      \n",
    "### Exercises"
   ]
  },
  {
   "cell_type": "markdown",
   "metadata": {
    "id": "BZoyk8bX8_L3"
   },
   "source": [
    "# Conditions\n",
    "\n",
    "The execution of program parts - based on conditions - can be controlled with the help of `If` statements. The **Conditions** can be either `True` or `False`. A **comparison operator** is used to check the condition.\n",
    "      \n",
    "**Example:**\n",
    "It is checked whether a certain measured value exceeds a threshold value. As long as the threshold is not exceeded, the **condition** is `False' , if the **condition** is finally exceeded, the comparison operator test results in `True`. If necessary, another part of the program is then executed, which, for example, starts cooling (if the temperature is too high)."
   ]
  },
  {
   "cell_type": "markdown",
   "metadata": {
    "id": "Q4Xnzwum9GnY"
   },
   "source": [
    "## Comparison operator (*Comparison Operator*)\n",
    "\n",
    "`if` conditions are based on the results (Boolean values: `True` or `False`) of **comparison operators**.\n",
    "A comparison operator performs a test and returns `True` or `False`.\n",
    "  \n",
    "Python:    \n",
    "\n",
    "|Operator|Description                                                                           |Example  |\n",
    "|:-------|:-------------------------------------------------------------------------------------|---------|\n",
    "| ==     | Tests if two values are equal                                                        | 3 == 3  |\n",
    "| !=     | Tests that two values are not equal to each other                                    | 2 != 3  |\n",
    "| <      | Tests to see if the left-hand value is less than the right-hand value                | 2 < 3   |\n",
    "| >      | Tests to see if the left-hand value is greater than the right-hand value             | 2 < 3   |\n",
    "| <=     | Tests to see if the left-hand value is less than or equal to the right-hand value    | 2 < 3   |\n",
    "| >=     | Tests to see if the left-hand value is greater than or equal to the right-hand value | 2 < 3   |\n",
    "\n"
   ]
  },
  {
   "cell_type": "markdown",
   "metadata": {
    "id": "Jw5RZxJDDTG6"
   },
   "source": [
    "## Logical Operators (*Logical Operator*)\n",
    "    \n",
    "In addition to comparison operators, Python also has logical operators. Logical operators can be used to connect boolean expressions. Usually those with relational operators are used to check more complex conditions.\n",
    "   \n",
    "Python:   \n",
    "   \n",
    "|Operator|Description                                               |Example               |\n",
    "|:-------|:---------------------------------------------------------|----------------------|\n",
    "| and    | Returns True if both left and right are true             | (3 < 4) and (5 > 4)  |\n",
    "| or     | Returns True if either the left or the right is true     | (3 < 4) or (3 > 5)   |\n",
    "| not    | Returns True if the value being tested is False          | not 3 < 2            |\n",
    "\n"
   ]
  },
  {
   "cell_type": "markdown",
   "metadata": {
    "id": "u__JqqO4HBqe"
   },
   "source": [
    "## `if` statements\n",
    "\n",
    "An `if` statement is used as a conditional programming facility: **If a condition is `True`, an action is triggered.**\n",
    "  \n",
    "\n",
    "**Basic shape:**\n",
    "\n",
    "`if <condition-evaluating-to-boolean>:`\n",
    "&nbsp;&nbsp;&nbsp;&nbsp;`statement`\n",
    "     \n",
    "- The condition must be `True` or `False`.\n",
    "- If the condition is `True`, the `statement` is triggered\n",
    "   \n",
    "**Intention**\n",
    "- Indentation (*Intendation*) is of central importance in Python\n",
    "- Indentations show which lines belong to a program part\n",
    "- Recommended are 4 spaces\n",
    "  \n",
    "\n",
    "**Example**: A number (integer) is queried and a text is output if this number is negative.\n",
    "\n"
   ]
  },
  {
   "cell_type": "code",
   "execution_count": null,
   "metadata": {
    "colab": {
     "base_uri": "https://localhost:8080/"
    },
    "id": "3GQ74Bhv8zJx",
    "outputId": "fc41f88f-c40e-4e10-cb9d-ce0f6d68ba04"
   },
   "outputs": [],
   "source": [
    "## Abfrage einer Zahl: \n",
    "# Hinweis: input() liefert einen String zurück, dieser wird mit int() in eine Ganzzahl (Integer) gewandelt\n",
    "\n",
    "\n",
    "\n"
   ]
  },
  {
   "cell_type": "markdown",
   "metadata": {
    "id": "o0QoLd4x80EE"
   },
   "source": [
    "If further actions are to be carried out, these are also intended (indented).\n",
    "   \n",
    "**Example: Performing multiple actions:**\n"
   ]
  },
  {
   "cell_type": "code",
   "execution_count": null,
   "metadata": {
    "colab": {
     "base_uri": "https://localhost:8080/"
    },
    "id": "Cdx3kd_7JNT8",
    "outputId": "71f50ed9-82fc-4e94-ba4a-b4e300da7be3"
   },
   "outputs": [],
   "source": [
    "## Abfrage einer Zahl: \n",
    "# Hinweis: input() liefert einen String zurück, dieser wird mit int() in eine Ganzzahl (Integer) gewandelt\n",
    "num = int(input('Bitte geben Sie eine Zahl ein: '))\n",
    "# Prüfung der Bedingung und Ausführen einer Aktion (Ausgabe eines Texts)\n",
    "\n",
    "\n",
    "\n"
   ]
  },
  {
   "cell_type": "markdown",
   "metadata": {
    "id": "EFDI3BTbJrXX"
   },
   "source": [
    "Please test with the values ​​10 and -2"
   ]
  },
  {
   "cell_type": "markdown",
   "metadata": {
    "id": "kpWS9m9FJxdt"
   },
   "source": [
    "## `Else` im `If`-Statement\n",
    "\n",
    "The `else` statement can be used to perform an action if the condition returns `False`.\n",
    "  \n",
    "**Example `if` `else`:**"
   ]
  },
  {
   "cell_type": "code",
   "execution_count": null,
   "metadata": {
    "colab": {
     "base_uri": "https://localhost:8080/"
    },
    "id": "MGH65WCMJWS0",
    "outputId": "71b1f9c2-1b1e-41ef-ecc9-49a45c14474e"
   },
   "outputs": [],
   "source": [
    "## Abfrage einer Zahl: \n",
    "# Hinweis: input() liefert einen String zurück, dieser wird mit int() in eine Ganzzahl (Integer) gewandelt\n",
    "num = int(input('Bitte geben Sie eine Zahl ein: '))\n",
    "# Prüfung der Bedingung und Ausführen einer Aktion (Ausgabe eines Texts)\n",
    "\n",
    "\n",
    "\n"
   ]
  },
  {
   "cell_type": "markdown",
   "metadata": {
    "id": "W_3Sazu9KQyu"
   },
   "source": [
    "Please test the function with the numbers -5 and 5."
   ]
  },
  {
   "cell_type": "markdown",
   "metadata": {
    "id": "2JIJlAKIKVvg"
   },
   "source": [
    "## `elif`\n",
    "\n",
    "`elif` can be used to test many conditions - the next condition is tested if the previous condition is `False`.\n",
    "  \n",
    "**Syntax:**   \n",
    "   \n",
    "`elif <condition-evaluating-to-boolean>:`    \n",
    "&nbsp;&nbsp;&nbsp;&nbsp;`statement`\n",
    "  \n",
    "**Example**\n",
    "\n"
   ]
  },
  {
   "cell_type": "code",
   "execution_count": null,
   "metadata": {
    "colab": {
     "base_uri": "https://localhost:8080/"
    },
    "id": "byCy0BPlKPUQ",
    "outputId": "67848d4f-68e8-4d61-dd5d-81e0aa9b55a1"
   },
   "outputs": [],
   "source": [
    "# Abfrage eines Werts:\n",
    "savings = float(input(\"Bitte geben Sie die Höhe ihrer Ersparnisse (fiktiv!) an:\"))\n",
    "# Prüfung\n",
    "\n",
    "\n",
    "\n",
    "\n"
   ]
  },
  {
   "cell_type": "markdown",
   "metadata": {
    "id": "j-yNpttGLTzF"
   },
   "source": [
    "Please test the function with -100, 100, 550, 800 and 1100 and check the output!"
   ]
  },
  {
   "cell_type": "markdown",
   "metadata": {
    "id": "Fr4Wtn7YLaZV"
   },
   "source": [
    "## Nested `if` statements\n",
    "\n",
    "`if` statements can be nested within other `if` statements without any problems:\n",
    "- The intention determines which part belongs to which nested `if` statement\n",
    "  \n",
    "**Example:**"
   ]
  },
  {
   "cell_type": "code",
   "execution_count": null,
   "metadata": {
    "colab": {
     "base_uri": "https://localhost:8080/"
    },
    "id": "ZOML8v4CLRzR",
    "outputId": "6cad6898-757c-49c9-e855-51da8b7f5d23"
   },
   "outputs": [],
   "source": [
    "snowing = True\n",
    "temp = -1\n",
    "\n",
    "\n",
    "\n",
    "\n",
    "\n"
   ]
  },
  {
   "cell_type": "markdown",
   "metadata": {
    "id": "IlFF9eEhNxlO"
   },
   "source": [
    "## `If` Expressions\n",
    "\n",
    "An `If` expression returns a value, a statement (examples so far) returns just a statement. There are no other differences;\n",
    "  \n",
    "- A value is assigned to one or more variables.\n",
    "- The variable to which a value is assigned can be declared beforehand: the assignment of `None` makes sense here\n",
    "\n",
    "  \n",
    "**Example classic variant:**"
   ]
  },
  {
   "cell_type": "code",
   "execution_count": null,
   "metadata": {
    "id": "VebBocPsNeKe"
   },
   "outputs": [],
   "source": [
    "age = 20\n",
    "status = None # Variable, der der Wert zugewiesen wird, default: None\n",
    "## if expression:\n",
    "\n",
    "\n",
    "\n"
   ]
  },
  {
   "cell_type": "markdown",
   "metadata": {
    "id": "WfbWMUXXOs9t"
   },
   "source": [
    "Example **If Expression**:\n",
    "  \n",
    "A shorter variant is to use an **If Expression:**\n",
    "    \n",
    "**Use: This variant makes sense if there is only one statement to be executed!**\n",
    "    \n",
    "Format:\n",
    "  \n",
    "`<result1> if <condition-is-met> else <result2>`\n",
    "   \n",
    "This variant allows much shorter syntax, see the following **example**:\n"
   ]
  },
  {
   "cell_type": "code",
   "execution_count": null,
   "metadata": {
    "colab": {
     "base_uri": "https://localhost:8080/"
    },
    "id": "oCVEweN_OTr3",
    "outputId": "743f80ca-2b7e-4a26-e2f5-870f65a24c95"
   },
   "outputs": [],
   "source": [
    "age = 22\n",
    "\n"
   ]
  },
  {
   "cell_type": "markdown",
   "metadata": {
    "id": "bi32c-u-lfb4"
   },
   "source": [
    "## `pass`-Statement\n",
    "\n",
    "`if` statements cannot be empty. However, if there is a reason to leave an `if` statement empty, the `pass` keyword can be used.\n",
    "\n",
    "**Example:** `pass` keyword"
   ]
  },
  {
   "cell_type": "code",
   "execution_count": null,
   "metadata": {
    "id": "RPfey0VOPX6S"
   },
   "outputs": [],
   "source": [
    "# Example: pass statement\n",
    "a = 33\n",
    "b = 200\n",
    "\n",
    "\n"
   ]
  },
  {
   "cell_type": "markdown",
   "metadata": {},
   "source": [
    "# Loops\n",
    "\n",
    "Zwei primitive Schleifen, die in Python verfügbar sind:\n",
    "- `while` Schleife\n",
    "- `for` Schleife"
   ]
  },
  {
   "cell_type": "markdown",
   "metadata": {},
   "source": [
    "## `while`-loop in Python\n",
    "\n",
    "**Flowchart of a `while` loop with pseudo code**\n",
    "  \n",
    "  \n",
    "\n",
    "![grafik.png](data:image/png;base64,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)"
   ]
  },
  {
   "cell_type": "markdown",
   "metadata": {},
   "source": [
    "The `while` loop iterates (executes) a code statement `B` as long as the condition (`condition`, `A`) is `True`.\n",
    "- This type of loop is used when the **number of iterations is not known**.\n",
    "- **Example**: The loop is executed until a solution is found that meets a criterion (e.g. minimization).\n",
    "  \n",
    "**Basic Forms in Python:**\n",
    "   \n",
    "`while <test-condition-is-true>: `\n",
    "&nbsp;&nbsp;&nbsp;&nbsp;`statement or statements`\n",
    "   \n",
    "**Example:** Simple `while()` loop:"
   ]
  },
  {
   "cell_type": "code",
   "execution_count": null,
   "metadata": {},
   "outputs": [],
   "source": [
    "# Grundlegende while loop:\n",
    "# Startwert festlegen:\n",
    "\n",
    "# Schleife bei starten und bis unter 6 zählen:\n",
    "\n",
    "\n"
   ]
  },
  {
   "cell_type": "markdown",
   "metadata": {},
   "source": [
    "The `while` function tests the condition before executing an iteration in the loop. This also applies to the very first iteration: If the condition is not met, the code statement in the `while` loop may not be executed at all.\n",
    "   \n",
    "**More detailed example:**"
   ]
  },
  {
   "cell_type": "code",
   "execution_count": null,
   "metadata": {},
   "outputs": [],
   "source": [
    "# Startwert in Zählvariable count setzen:\n",
    "count = 0\n",
    "# Start!\n",
    "print('Starting')\n",
    "# Schleife ausführen:\n",
    "\n",
    "\n",
    "\n"
   ]
  },
  {
   "cell_type": "markdown",
   "metadata": {},
   "source": [
    "### `break` statement\n",
    "\n",
    "With the `break` statement, the loop can be terminated beforehand if a condition is met.\n",
    "\n",
    "**Example:** Exit the loop when i is 3:"
   ]
  },
  {
   "cell_type": "code",
   "execution_count": null,
   "metadata": {},
   "outputs": [],
   "source": [
    "\n",
    "\n",
    "\n",
    "\n"
   ]
  },
  {
   "cell_type": "markdown",
   "metadata": {},
   "source": [
    "### `continue`-Statement\n",
    "\n",
    "Mittels `continue`-Statement kann die aktuell Iteration gestoppt und mit der nächsten begonnen werden:  \n",
    "  \n",
    "**Beispiel:** Mit der nächsten Iteration weiter, wenn der i 3 ist"
   ]
  },
  {
   "cell_type": "code",
   "execution_count": null,
   "metadata": {},
   "outputs": [],
   "source": [
    "\n",
    "\n",
    "\n",
    "\n",
    "\n"
   ]
  },
  {
   "cell_type": "markdown",
   "metadata": {},
   "source": [
    "### The `else` statement\n",
    "\n",
    "The `else` statement allows a block of code to be executed when the condition is no longer true.\n",
    "   \n",
    "**Example:** Print message if condition is False:"
   ]
  },
  {
   "cell_type": "code",
   "execution_count": null,
   "metadata": {},
   "outputs": [],
   "source": [
    "\n",
    "\n",
    "\n",
    "\n"
   ]
  },
  {
   "cell_type": "markdown",
   "metadata": {},
   "source": [
    "## `foor`-Loop in Python\n",
    "\n",
    "A `for` loop iterates over a sequence:\n",
    "- list\n",
    "- tuple\n",
    "- dictionary\n",
    "- set\n",
    "- string\n",
    "  \n",
    "The `for` function works less like a classic for loop in other programming languages ​​and more like an iterator method in object-oriented programming.\n",
    "  \n",
    "With the `for` loop, a set of statements can be executed for each item in the sequence (list, tuple, ...)\n",
    "   \n",
    "   \n",
    "\n",
    "**Flowchart of a `for` loop with pseudo code**\n",
    "  \n",
    "  ![grafik.png](data:image/png;base64,iVBORw0KGgoAAAANSUhEUgAAAaEAAAGUCAYAAACcH53cAAAgAElEQVR4nO29PZKz3tLteaz2rtVTuE5PoUNGWQwAt7FPBGMg4hptY7xTYAZYZwDYHfQAXkbABEoO5DWe/6IWSW6kqkdVJcH6RRClkvjYILQX+bFz/8uEEEKIX+Jfv90AIYQQ50UiJIQQ4teQCAkhhPg1JEJCCCF+DYmQOATTNNk0TTbPs83zfPd28zzbNE2r19F+8D4+S+3L70MIsY9ESBwCdP7c8bMgROvfEok94eHPbgmUxEiINBIhcRi8EKQEIRKLSJSi/++xhu6xmoQQf5AIiUPgLSDvSjMzu17fbRxHG4bBuq6zruusbVtr29aapgkXfN62rXVdZ8Mw2DiOdr2+L8eIrK2U2Akh1kiExGGY59nGcbS+761tW6vr2qqqsqIoLMsyy7LM3t7e7HK52Nvb22rx710ul+U9bOfXzbLMyrK0qqqsrmtr29b6vrdxHDdxJiFEjERI/Ai+I8b//H4Ud0l9ZvbHsum6zpqmsaqqLM/zXWH56oL98P5u7TvPc6uqypqmsa7r7Hp9X50Pi9T1+r68F1lX3tJKxbmEeEUkQuLHYBeVj5l4ywEdM/5inb7vrWkaK8vybkGAVZNlmeV5vlgvsGDquk664/A5rKqyLBexS1lUqfaUZWlN01jf90khSYkPXze/rgRJvDISIfFjpDLSUokE1+v7Yu3UdW1ZloVuM/4fLjIIC+I42JePHUVtSCUosDUD1x/iSxCssiw37YwsqSzLrK7rlZXkRdkLNLeH2yIREq+MREj8CGzRmG2f4rlzNzMbhmElPLBkOEZzuVwWwem6zsZx3Bw3ZS34xIEo3drvJxo3FCVATNO0iBMLUySciFXVdW3DMIRtY5GKXJQSIfHKSITEj8JutqgT7bpu5WqLYi1sQZhtB4nyYNOU5RUt0XqRSyxa7xbjOC6itOfOK8vSuq5bnZO/RlE8SYhXRSIkfgQOvgPu5Nu2tTzPwwy2PM+taRobhmHjuuNOmMXEH2dPbJh71o3WibLhohgO/g7DYE3TJJMpiqKwtm1X5wiLKLVfIV4RiZD4MbhzRkfadZ0VRRGmP9d1bX3fL9uYxa6pyFXF/+8JjxeN6LPIlRftJ7V/3x4vkH3fL65HbxkVRWFd122uIb/WWCTxykiExI/gO89xHK2qqpX4ID7SNM2SSABSVk50nGjgqrds9tx0t4iSGPZiRlHcKGrHOI5J66iqqiXmxW7I1LkI8SpIhMRD8B2if0rnjrJt2yXhgP9CfHh7fh2JT8pa2bM8nhWIFsTIuyazLFtcdGaxaL7KuQoBJELi4fjOn8vm1HW9snze3t6sruvNeKBUbIfXiY7jM8tepXwOJ2pwDMhbi7het9yR3loS4lmRCImHgE4wytZCFhey3tCZlmW5xHwiAcH7vJ/ovWicjZmtXHqptj0TPPaH2z4MgxVFsUrWKMtyM6A3lS4uxDMjERIPw8dc8HQ/juMq+SDLMquqatV5RkkFt2I0vtP220f/P7tlEGUP4n1YkZw1iDiRt4qi/QnxjEiExENIdXbTNG1K7LRtG4oH1o8SCFJi4/8i/RmFRFPbPhvepRi5HpHKzoNcy7LctR7Nnl94xbmRCImHEaUj89M7Auve8rmV3hzh40bzPG9K+yDuVNf1artnhAeeRoNjfWKHjxHxdn59IZ4ZiZB4GN591HXdyn3UNM1m3SiW40UqsmB8YD6q2YYFnTTG41RVFQ42jWIr/B6/xlQRSBLAPv628/dWG58nJy94Ieq6buOK89dRiGdEIiQeQuQ2QwUEjHPB56nxOt66SXWg3LkiLoQOua7rZdI5iA7Er2maxSLj40XZdHwu0XvIWivLcvX+V0kd32fMcZvYyiyKImz3I9omxHciERIPgy0WPKkjgO7n03kkfd8vIgSLwLeHB8diTFLf90tHjYnwEK/CPvj9cRyXGVaRaIGSQuM4/ojl4S0zHtiKtkeDaYV4ViRC4iHw07dPx/Ydu+czVQr4fxYbTl3mato4LlyDHC9CPTpfnbsoimV2VLaeOAbjXX4sft9BKuOtbdulyri3ytjSE+JZkQiJh8DxnXEcV8kIPqYTCcq9+AoJUQLE29vbqswNssp4mu+qqhbrBsJS1/Um2N80zWZ8Dtd5wwyqXPn6u4jcbdfr+6rmHAuwrCDxCkiExEOB1cEDUplHddRRqjaExqeDA1g1eZ5v4i0+1oMYFrYpimLlvquqahPr8u16NNEYoHmeVynwEMMo4UOIZ0QiJB4OOm4uMfO3RINPfeYYXvu6axAiFiEf8PeFQ8uytHmeF0soz/Pl2CinwyLk2/ho2PpJDWJNuT7ljhPPjERIPATOMmMR4rRsz6Oe1qNqCKjSkGXZIiBs1WC7YRgsz/NNajeLkBcuM1tcd1z54TstD59swMdBGxHn8tdCIiSeGYmQeAi+U/SxldQ293bae0/20WdsIby9vS3t8iIE9xtSnLEN3Ig4F6R1+31XVfWjbq9oQCrHsiBC3lIU4lmRCImHwGNSeJAqBoZinUd11r5uHGe7YYxQWZZ2uVwW0UHaOFLGzWxxwaHz5vE/bAmxCGGMjs9I+253XKqcEVfa5pgQryfEsyIREg8DnR9nx729vSUnYfuqJcT/w6Xm595h9xriJMMwLJ8VRbFkxEFkfI27siyTIsRCW5blKgHiO2CR4+vH2XGXy+XHxisJ8SgkQuLhzPO8mnrAd9C+Q/3s07pPVR6GYSnb46tMo1Yd1ofVgCA+tuX3OOmA41s+zgJL6+3tzfq+/7GOn60iHhQcVW+QS048OxIh8RC8q4irPcP9xXP/8DafTWv27iYWpXEclwraPnsOjOO4uO1YyNDGeZ6XStwgVQpnGIbNvh6Nr1vH5wR3IgQ0Sl0X4pmRCImHwE/n6Pw56yxK1eaCnPfsn/GpynvTgvt2RTETH3PhTj8ad5Nq93cLEbfbD5rlyf2wjoRIPDsSIfEwvDXQdd2q3A1cY1EH/xm8IGDsDl77v5FwRANV/fr+80hE9ybTeyRePNkNl3J5qoCpeAUkQuIhpBIHOHOLs7fA3zyts/hE42Ii8Ui58XxsKuXW8lW3/bG/G58U4as2RMIoxDMjERIPIZruAJ0iZ51hYjv/ZH+LqDIC3vfC4i2SnxYMtvAedTzs01tAZVmG8Sg+9jPPKCuEREg8BHZ5eTFC9QJOm67rOozj7OFda5HYRO34ab7juNfr+6o8D9LMkZKN40YWnhDPjERI/AgQIn6KL4rChmEws23WGXfkPi4TDcT0SQqRZfDTnfJeFp8XDrac/LkOwxBeO64SLsSrIhESPwbG6fiBpU3TrDLlfDry0Z7mU8KEv3wdeJwSLCBvRR7t+ohzIRESPwY6Wl/lmmNFUUbXUQZc7ll0Po7Wtu2msCquEdbz+xTiFZEIiR+BrZp5nm0cx1XCAjpZdLR+zEu0H/4/9bnZ77urfFtS54bpw1NVvf2MsbKAxBGQCIkfwT/pg67rNp0uqlbXdb3EjIDveKOg/DOITpSpF43dQcyHB56ylZjnuXVdt6zLbsvfiHMJ8WgkQuJH8BYLd6DTNC0WgO+EEYRHhWwQxZBwHN9J/wTR2CFvsfHnwzBY0zTLnEc+7oO6d1zuyGybbv3bgivE3yIREj9GqlgpWw5+im5flBTVr/u+DwdleuH5SSGKyvvgfUwvUdf1JtMNwoPzY/Hx+zD7iAOpLI84AhIh8SOkXEipTrTv+1UmXbRg+oW6rq3rulXMxB/3u/HnNI6jdV1ndV1vKnxHrseqqjaVuDlxIZWw4d8T4tWQCImnIUomQGfOgsT16LxFwcLUtq11XWfDMCwCFWWo+dpyqbFIXgCu13cbhsG6rrO2bRfBgVtxb4HwdF2nigbi1EiExFPgYyicwMCvu66zpmmWuXxSguTFiecYKstyEaq6rq1pmuSCdeq6tqqqViJz67j++OxK9JluQpwViZB4ClKlZqJsMggSrCSIErLsIE5RXIlFC685JhPFafbeSy0Qu6ZpFmvHWzxwsym7TZwZiZB4CqJYh9m2HA+IpgxHLKbv+8U9VlXVKgMtEpZUvOaWZZNlmRVFYVVVLe4/nlBv73yeIZVciGdAIiSegiirLIrX+HRsrJfaB+/ren1fRApxHEyLADHy7ri2bZel67pFZHgWVm7PXgbg3uBbIc6KREg8DanCo3vTN/B7DAtC5MrjeBO75KIUb0/UlkhA+f1okK2sISEkQuKJiJISgB8Xw+vcGhiK9fmv2YcQcYID74/blZqTKDpOJIi831TcS4gzIhEST0HKDRe53+6tC5eqwu1L6XCcx4vVXuLA3tw9SjoQ4j4kQuI0RCJmZqukAyHEzyIREqdBIiTE8yEREqdBIiTE8yEREqdBIiTE8yEREqdBIiTE8yEREqdBIiTE8yEREqdBIiTE8yEREqdBIiTE8yEREqdBIiTE8yEREqdBIiTE8yEREqdBIiTE8yEREqdBIiTE8yEREqdBIiTE8yEREqdBIiTE8yEREqdBIiTE8yEREqdBIiTE8yEREqdBIiTE8yEREqdBIiTE8yEREqdBIiTE8yEREqdBIiTE8yEREqdBIiTE8yEREqdBIiTE8yEREqdBIiTE8yEREqdBIiTE8yEREodhmiabpsnmeV7+mn2IzjRNy9/r9X15HwJ0uVyWfc3zvNoO20b7E0J8HYmQOAQQntT7LCT4CzG5XC4rS+h6fV+tw/u9Xt+X91OWlRDifiRC4hB4UYgsF37NVlOWZYsQ8XawmPw+zGxlSUmEhPg6EiFxOLz7DK+HYbCu61auumma7HK5LELE20/TZH3fW9/3N11zQoivIRESh4CFxezDMrpe320cR6uqyt7e3izP88Xd5t1xl8tl44YrisIul4uVZWnjOK6O5wVJCPF5JELiEEB0omSE6/Xd8jxf4j5N0yyfTdO0CFCWZavt27ZdtoF48XZAQiTE15EIicPAQuStorZtF5cbBAWi4rPj2ArCZ23bmtk6FsQxIyHE15AIicPghQcuN7jl2BqCqJh9iBAsoWmarG3bxU3HLjwz27jshBBfRyIkTkPTNBtrCO44LHC1RVaQEOLxSITEaYisoXmeN+64yAoSQnwPEiFxCuCqa5pmERwITJZlixBdr++ygoT4QSRC4hRwSrW3hi6Xy2L54P8syyzLMqVhC/HNSITEKeAkAp96jaQE/I+4EawgDUgV4vuQCIlTwIVNERvimnE8YNVnxMkSEuL7kAiJ04B0baRgewFiiwgDWs00GFWI70QiJE4BZ7hF44ZYkPI8V1keIX4IidBB8PPfAHWia1iMuIoCCxFSt800IPUr+BiaYmpiD4nQgfA/dj/C/+xwpQNvDSEjjscFaXzQ54kehCRCYg+J0EHgeIdm/tzCgsyvfWyobdtVoVL+K9JE1rev4SdEhEToQHDnya/VEWyfzPE/W0Oygv4OX8FcD0PiHiRCByGqHo33xR9YWLhjxADVtm03T/RKTrgfvlY+EUSIFBKhg4AfP0b/8+IzwM684HpECQlRyrau3+evL2rw4b6UiIs9JEIHAS64qDNVR/qReMDv+f9vva9l//ry/7gnJUDiFhKhg8CW0F7ncObFi/I912bPYtKSvsYaJiDuRSJ0MLhDEOIn0b0nvoJE6GCoIxC/he498RUkQgdDHYH4LXTvia8gEToY6gjEb6F7T3wFidDBUEcgfgvde+IrSIQOhjoC8Vvo3hNfQSJ0MNQRiN9C9574ChKhg6GOQPwWuvfEV5AIHYzv7AhSBSm5ajL+9xWo/d9o/iNfd8wXGvXHjiqG+//rul6uxziOmzb78+C2pOZnSlXX5jZE58ufRcfn7bB+qt4dr/Ms3Lr3uL5hahHnQyJ0MH5ChMzWwlEUxXLMqIOOplHAvlAih2czNfvT+fp94RhVVa3aBcGIOnYWIeyzLMvlPRYHLxD3CI6vUh4JJ6aLuFwuNgxDUqxuiR2OFQnyM/AIEZIgnQ+J0MH4CZeI7wSLoljKtUSfp+Y5mqZpJUJ473p9t2EYrOu65b1pmpaOvK5ru17fk5YDH99bQikRikTGWyMpgeJtxnG0vu8Xq2uaJmuaZjle3/fLPn3b/ftcxdtPLZESwd/k0SIkQToHEqGD8Z0i5Dt+vMeWkFm6cCXe530URWFlWVpZlsvn2F+WZavtsW5d12aWFh4+Xl3XS/03rFNVlRVFYUVRbPbj2+/nIYqOgWUYhuU6NE2zfN40jZVlaUVRrCwhv8/ofd8BQ6Qil99vc8+9lxIYidB5kQgdjO8QocjVBUEyW1tCqQ465Z7z783zvEwyl2XZphPyQuYF0VtddV0vbWOxwrH2Ykq+k/Rt9a8hQpfLZRGhvfVTFk4qDhRZXs8iQGafF6HU+xKecyEROhjf7Y7zVgdbQphHBi6vsiytbdvFEijLctM54/2yLM3MrCzLxXLJsszKsrSqqlbrwhIyM+u6zqqqWn3GwgF3nLeE+Jh1XS//w0LihWM7vG3TNCsriN18sNq6rludPywhv8+iKKyu68VdBzFt23a1bV3XVhSFVVW17OtZOux7771naa94DiRCB+O73XFm6zjEPM+bmBDaEU0rkWXZEtMx2yYmYF2e0wdigf0hMaFpmnCaBYiW2doSQpymLMulLX6daF9Yh88B7YMgdl23Ok+OAXFMaBiGRWCqqgqP2TTNYg1g1lfeN9qARIdnQSna4itIhA7GT3QEkQj5mJDvVLuuW62HJAEvQlVVrdxxVVVZXderfUIY0PHXdW1N06z2j87ZJybM87xYLLDc2ra1uq6XBcfnjLqmaSzPc2uaZnmNfYzjaF3XrfYLq4xFiEWDhQ8WE4tS3/eLCLEYd123EkSfKfibSITEV5AIHYzv6ghSWWRmthGheZ43gmG2FgS4nViEYB2hg8/zfBUf8JaOj9NwKnTXdZvsOOyf3WZoL85rGIbQYuOxS2yhQFjmeV4lJrRtu7TPW0I8Ay6uzzzPNo7jSly8CLGrDueA5Irfhr9zznTEZ0KkkAgdjGcWob7vl/eRfu1TtDnGxPEYs7U7jpMbYB2wuLRtu0mPZncc3vPBfbZmsD6fO45VFMXSdoiDFyFsw0IyDIP1fb+cC4uVma2soZQI8Xq4bs8ArNeyLJPjtoTwSIQOxrOK0DzPq84XlgriK2wJIcaEp3xYPej0sc9xHFedNvadZdlKhGCxIHvOu+MAiwiEDm3yiQd8vL7vNynaOP48zxt3nBcWzvaD5ZZlmY3juFmXs/6w3jMAd2me56vEEXwmRAqJ0MF4BhHidrAl1HXdIiSwFKKKCejs8UQNICZVVdn1+r4SoLZtlxjR5XJZ9t80zXKMyBJiSwsJC2wF4Zx57FLbtos7LsuyxUJhSw/HRxvYEuJ2wiIEPK7JzEJLiJMakMb+2+DBA3Ezn3ouRAqJ0MH4bRGK4jcAnTSLBDpciJCZrUQIx8aTNpIVxnFcLBEkLkQiwFZIJEI4J8Rj+LgQxb7vl3bCwuGsNVgoiCexJXS9vq+y+IZhWMV+OBMOYofEBp8dlxKh3wZtx/fYtu1qUK0Qe0iEDsazilDkjrte3zeW0PX6vhorxCnIHLTngaEYG8RWA9xpECFYMHDHweJB21iYuq6zYRgWwei6bpWsYPbHQvFp2sMwrN5LJSbA2oMrEokN3H6MQYpcd2YfQvoMImT2J5bHIsRJCXLHiT0kQgfjt0UIn3urwmzrjkOcB52XmS1uNh4bAyHD/8ha47FE6JB5u6ZpVhlzcL/5xIRxHFcDZP2YIRY8/suvIao+ZoQUbS+qsNr8OcAKwjW/JUKP/p7/Bu+OkxUk7kEidDCeVYRgCXl3mbeEzP5YFFyFAZaGz45jUcN6LDps+eA9s20HHiU3sNCY2WbQKMYLeYHwA2jHcdy44+B+w9giXp/TwiNLCO97If1topjQs9W2E8+JROhgfJcIPYJbT8a+KCfSmTHI1K9j9idDDmNvzD7KCrEbD9YOVytgbnWS2Ab7jY6P9TDep+/7Vbv8mCYumop9+PN8NUsClh1nx73aOYifRyJ0MJ5ZhPaIYgiRYPgCpbwOZ2TBHcSdoC9eysVQb8GigfZG27PFGLWLz5X/5/34sUuv0JHDEuJxQmaygsRtJEIH41VFCOwFsn1nf8uiiawKFqfPBM19RW0vDKlj39pX9NlnLbVngMsq+UoXQuwhEToYryxCUSketgqijj+yIqIpG3z5Hd7HvW2LYhxsUfH/0WceL4Z7674CHEszew0LTvw+EqGD8aoilHKxeaInbC9cfr/Rul+ta8aiEbVjz0q6ZQF5XmmcDdxxLEJo/6ucg/gdJEIH41VFCETWw63/sR0+S63HSQJftTh8IVMcx1tAnB3GbbzVKfM696z/LECEeLzYZ2Ju4rxIhA7GK4vQveLC6/qOLnJtRVZPKgkgYi9Bwrfp1jlFwuLb/IoxIS9CeO+rFqc4DxKhg/GqIrTXKX8GFp5UBp3/7LNtTLXLW0a+PffsO/X/s8OJCVwY9pVTzsXPIBF6MfZ+zNM0rQZbKk1W/BSRCL16ooX4GSRCBwE/draEjpBxJV4Hnnrcx+aESCERehFuuTLgAvLBYblAxE/hH4DMJEDiNhKhFyGKGfgU2JRfXh2B+G74AQiu4L/JQhTnQSL0IkQj9n0wf57nVTFMdQTiJ4ksITM9BIl9JEIvwq0xI1FMKDU1gRYtj178PWa2rU4hRIRE6EVICZAfD4Pg8Nvbdn4dLVq+c+HMTC70KsQeEqEXhuuksSUk4dHy00tkCSkzU9yDROgfUqX0o2KV/P9edeVb//M+9wZARgM5zT7mssFcNFFJmeiJNNqnvxa+3tmtKtFRmRZ/bfjvPfXU/DqpdvN3lSoTA8HGXD9d11nbttZ13dKJZlm2TFaHpW3bZem6bpnfKJoqgq9D1Gb8HcdxNYdQ9L3tXeu9axVxz8DcqM17914q1njr/r91H4nzIREiuKPizj1a2N/tO3i/z9SS+gFyR5Zq5zRNq44Mf6M2pY7pM+uiNqTOJapGELX/ViWASOz2Oi4Wu2g//tx4e3y/Zmtxhgvzcrls9p0qxbN3TVKwCPmHB79P3tdnrIl77rFIKPH+LZcvb59qX0rMbsU1xTmRCAX4DgA/2GdyLewJyBmY53lTkHSvM40sW2zPCRy8Pz5WynJMHWev3V8VGCGOiERIvDS33FCRNeDdrRzT8GK19+TurSw94QvxeSRC4jSkYiM+oC6E+DkkQuI0SISEeD4kQuI0SISEeD4kQuI0SISEeD4kQuI0SISEeD4kQuI0SISEeD4kQuI0SISEeD4kQuI0SISEeD4kQuI0SISEeD4kQuI0SISEeD4kQuI0SISEeD4kQuI0SISEeD4kQuI0SISEeD4kQuI0SISEeD4kQuI0SISEeD4kQuI0SISEeD4kQuI0SISEeD4kQuI0SISEeD4kQuI0SISEeD4kQuI0SISEeD4kQuI0SISEeD4kQuI0SISEeD4kQuI0SISEeD4kQuI0SISEeD4kQuIwTNNk0zTZPM/LX7MP0Zmmafl7vb4v70OALpfLsq95nlfbYdtof0KIryMREocAwpN6n4UEfyEml8tlZQldr++rdXi/1+v78n7KshJC3I9ESBwCLwqR5cKv2WrKsmwRIt4OFpPfh5mtLCmJkBBfRyIkDod3n+H1MAzWdd3KVTdNk10ul0WIePtpmqzve+v7/qZrTgjxNSRC4hCwsJh9WEbX67uN42hVVdnb25vleb6427w77nK5bNxwRVHY5XKxsixtHMfV8bwgCSE+j0RIHAKITpSMcL2+W57nS9ynaZrls2maFgHKsmy1fdu2yzYQL94OSIiE+DoSIXEYWIi8VdS27eJyg6BAVHx2HFtB+KxtWzNbx4I4ZiSE+BoSIXEYvPDA5Qa3HFtDEBWzDxGCJTRNk7Vtu7jp2IVnZhuXnRDi60iExGlommZjDcEdhwWutsgKEkI8HomQOA2RNTTP88YdF1lBQojvQSIkTgFcdU3TLIIDgcmybBGi6/VdVpAQP4hESJwCTqn21tDlclksH/yfZZllWaY0bCG+GYmQOAWcROBTr5GUgP8RN4IVpAGpQnwfEiFxCriwKWJDXDOOB6z6jDhZQkJ8HxIhcRqQro0UbC9AbBFhQKuZBqMK8Z1IhMQp4Ay3aNwQC1Ke5yrLI8QPIRESp4LFiKsosBAhddtMA1KF+G4kQuI0cKUDbw0hI47HBWl8kBDfj0RInAIuucOvfWyobdtVoVL+K4R4PBIhcQr8HED4n60hWUFC/DwSIXEq/BQMqKDA0zz4Cey4cjbe9/8LIb6GREicAq6CzdM49H2/KttTFIUNw7ARFt7ebCtEQoivIRESpwFuOFg3dV2HKdqXy8XqurZxHJNuPP9aCPE1JELiNECAkJrNg1Oj11mWLYkKqVlV/QR6QojPIRESp2CaJhuGwcqyXNKxYfVUVWXDMNg4jlZV1cY6KorC+r7fZM3510KIzyMREi8DDyA1+4jL8P/8F4zjuHG9XS6XRVx4FlazP3Eins4BC1x0/vjeOvLtkFAJkUYiJF4G7vA5ySD1+TzP1rbtZkBqlmVLFtze9j5zDm46HkvERK46pXoLsY9ESLwMvkP3A0/5L1xvvkJ2VVWLNcPWT2StzPO8uOh8eR9YUdwu/ivrR4j7kAiJl8EPMvVuMbMP15uvB8ei4ZMJIiHzVk3f90s8ac9Fx3BCgxAiRiIkXoLI/cbv+6w3dp81TbPaDgIWWSxReR+eV6hpmlVSQ+Si82OIlD0nRBqJkHgJfPUCFgm2UiBC7HpjUhaLd+35JAjenl10kbUVxa6EEDESIfFyoGO/lfXG63ph2Eu3jt5jUcLrrutWWXSwjOCi8/sSQmyRCImXgYXklustNYg0qoAQJSj49fBeFE+Ciy7KopMICbGPROgfUnXBUjGDVKeVWh+vb5V6uffJnHmFmINvIywR/36UeMDvc9YbL+x6i6yc73VoP38AACAASURBVMYPdIVVFFllZnHZn+j+kIiJoyMRIjhQfauz9z5//us7WN+h8PgRHvDoj+Nn94yC5q8CzoGvTWqQpy+Rw7XeON06ynrj/f1GZhoGunrLyKeGo72pNqYGwgpxNCRCARCjSDxSHSd/jn2Y/XlC5qKYWI+3TYnLPVbWq3VQe2NouFPGNbpe30PXG6Zd8FlvPrngp6bn9veGd9FdLhfL89yaplnaB1L3kBBnQCJEeBdQXddWFIUVRWF5nlue56vXXddtrBrPOI5LZwQRYrzY+fRe375oSoFX6LT8tTX7sBqjc7he35Njc3zWm9+er+dPWkP+YcFn0SF7j2vRpb67vWsjxJGQCP1D5CKJBj3y0rZtuA/+O47jamAj9h+Vi/H7wWv+HP+/4qj8PXcinyOy3qIU6K7rln3465IS6J+4Tt5dyhZdVIsuNV2Et+Ze7TsW4rNIhP7BP0nP87xK/22aZrMMw7BaH/vxT+KcusvH4g6HhSVyyUSBanY5vRKRcOCc2fUGNyay3rylGFk6uB634nvfdV4+5sWv78mii9p8BCF6tXtU/BwSoX9A58UdHIuQt0TwOhUI55gQOlTuSHn7lMD4175G2Z7r7tmIxJWvF1xv7LZi19te/CwV/7nl3nw0UcYfnyMs470sOhZRPrdXx/++hAASoX+IUma5szCzsAMdx9GaprGqqqwsS6vr2oZhWNUyY2sKRNv1fb/qWPu+t7qurSxLq6pqcf9F1tArwG3l6xfNcMoxN94ef/fO+zfdWKmyQv5Bw7voIEYc7zqCBQQkQiKFRCiBd8el3CVR1tbb29viqotE6Hp9XzogH3PCD7Vt281nnGGH/XBbfptbIuGtvntrvf003iKOHj58h+pfe/Fh2LL114BndPX7uHWMyHr+jk5/r11CfBaJUALvjvNTAuBpNc9zq6pqsVhQ3JKTELw7rm3b5b22bW0cx+U9sw/hyrJssYC4LTzLJ9r626SqD0Rp7ex628t6866pnzgHPpe9zjXKivSJEXtWkU9eiaxBuOi4LXzcvTFX2Pej7g0vzHiP/wrxFSRCCbwl5IUIAw99p4kJ1MqyXD7n4LqZLZOlXS4XG4Zh6SzQqfDniIdM07QcG/t51iy5VJzrluvNbDtG66fbnYo9scB6oUnFovA5bw+8JQX3a1EUKwuYs+j8vrGfezMt/xb/nUh8xCOQCCXwllDbtquFn0LhVuG04qIozMxW2XFwM/V9vxrA2Lbt6qmSY1FVVS0LW1lo47MQdcKR24mTDvZcb77j/4n2R5ZElLDC6/skhJRVwvgHB97/PM+r6SJSWXR+DJEXtCiW9rf4ayEREo9AIpTAW0JR6u31+m5d11me56tOA+ICV4uPCU3TdurosiyXp90oYM37r6pq045nwadGR1lvPM2C70RTgvTdcDv4HKKKDJEweQuKX6esVS8ivB5bjXxfcZki3kc0RurRIpEaOiAxEn+DRCiBt4QiNw1bNOgc0OHCEoI7DiLEHdcwDFZV1dI5w4WHfWRZZl3XhQu38xnw6cm+E8XCcQ5e3yy2oH6yg/NiknrN7Y5ic1zF+zPxEy987KLzLsxouohobNKtYz4CiZD4GyRCCbwlZLZ12UBA2FJiEUJMiBMTsB/eH1tFPm7CRS+jOAL/fQaQ2ccDTiPXW8piGMfRhmFYsgv9ut8Frm8Ur+M2sLuN30tZCfw5H4u/zz2LFlYOD3TFNUUtOp8ksRd7+ipRpqMQj0AilMBbQiAVuxnH0cZxXJ5asyxbyvNwfAcdCpf84Wy5cRxXFpafoqBpmk3G1LPgs96isS8+MwwuS46nsXBF9fa+E34ggBCiXXme7247TdPKUkllk6W25dde1PBAszfQdU/g/xb+zriGocRI/C0SIcJ3Fil3HGexcYcZZX1N07RkzMElh/3CBccuPRzHxwN4H9H8NI/Au4y89ZWyvG7NcBplyuH/YRiWc/PTNKAzR5tYeFNP5vz9eLwF4ztRb5V6ESqKYpUePQzDyjVqZqsSTalkAT7+XgJB1L553tai4yrtsJx5fX/Ot1Lo+Xr79rZta0VRWFmW4TUWMdGDQWQ9e84Qc5MI/QP/IFmEEK/xNwOeBlHlmTtddBCIC3HH1ratNU2zJDOwleRdUFGWlA9MP5LI1RSl/7I7qW3blYhgsKV3E+Gc8Bfvs7ii88Y1KstyZTH6OEwUb0kF532MJKotx5lpECEMLOaOd57nlcXL+8e6bMFFnU4kSpFrLiUS3kXns+hSrr29Y+L/SBghPnwsnsfp7Nx7DaIHsr1tJUInI/XEz50uv48f+jAMq0wvPCVzgVOkZnMHivhHFMjmmxTr4SkX+0tZGF8lGlwZXQucM1tx3n3oBd2Lm9na0izLcnW9sG5qwCe3N3rav+d8IkslsoSiJ1aIJ6zdVIJFJHTcNu96Sz0A8Dlzx8TTRaQeVrzrzGf5+XPke9GLD1vmsAKP3kk+isjajN736xz9+kqECF/V2ncckRCBVEcYiYp/veeGYbHZG0/zCPyTeHTecL35kkJ+htOog/fXjjs3H+dKXaO2ba0sy1WdPl4PlSvKsrS+762qKiuKIlmNwe+PhRH7xudlWdo0TSvrFy7Vuq4Xyxj/4zhmtrSF6wDyec3zvGzbdZ3Vdb2sj0objLfyUnMvcRadJxoYzBYuZojlfWJcmxdZXE8t6SX129hDInRSvAsK70WCgnUiqynqOPb+5/d95+A78aiNf8Oe9YC/99Z6g4BF42PQ1mEYls6tLMuwAjmOC6vRl/pBB8mDOH0sza/PFiu7W308Ctlx8zxvEhN4f1gXAsXJGCyc/jjReUPYfPs5QYO/++i+YxcuxytxjfC9+HuLv2N2NbLlEwmn+MMtsfD9wb0PjxKhExH9OPesmFsul5QbJroZ8V5kTaHTucd0/xv8sbgd/JTNHa+3Lvg8GS9K07QeY8UdbMqlxtZX27bWdd2qs0Q6NYtQVVXWdd0q7bqua5umybqu26zHmWfYp9k6MQFtyfN8GZQMC8rMlm0xoHgYhpXooD3RHFMsPE3TLOeI6+5nk01lw/kZXX2iiP9uzD5iPixeXnyi7/i77sdX4x6h8L8rs61bONpGInRCoi/9ltB46yTaV+SXx2v+y+uyeKX29+iKCWjXraw3Xpd/YFEH6X9MSEtH5+yPz+uz1cRZZ8MwbEoZ+TFWODYSJnCsaCyW2XrsF+J1LEJoGxJL8jxfnTsLG47D9QYBiyXej0QZ218ul9UgX7Dn7vFCzdcQFqG3fFh82ML1D0GRJSXu517xlgidDO9q8E8t/mZIxXOifTGRWy3yraeO6zuGR92kfM63XG+pH4e/XilR8pZQJO7YP4+j8uLHg4O9JcSuN6wHtxme+iEWgGvcwRLijhntwvYYlIw2cbbjNE2rgrbcbrbEuq5bCRgLLdZ7e3tbTW2estKjmIMf6Mq1+7yL0FtCkVvz1uda0guu172eDYnQi5HqlPnLj+bo+e0b81mWvWvha73xNY9G60c/Ml7Pu6n89rztXsYaXGh5ntv1+h5aQma2TLMBEeKZW9kVyp0+u+MgOGgXixC3l68X7j3+H8fB+XNMi9f1IgSx4mNF15ita/4d+IGu9/4WfJwqEjMtn/+N8e/n6CJzi9OIUOqH458Ez76krgVnWXEMK0UqxsXb8MR+PKjVT3/ArjskC3gLB1ZK5OaapmlT0y9lofhjsWBxOra3rLAPdnldr+/LcbzF1ff9cj9iLBSOi3U5dvb2traE+FrxNef32KUbFURN3fupBIl7/tey/9vCvfRMRYd/m9OIUJQF5V0PZ1/4engXDoLwHKT2nR6ufeRiiJ7W/TihyNIys1VH7AevclXueZ43lhA6YR5APM/zEvtBTAft4o6a3XFYF8dlEeJzwrEhJLA+MOAZwsDJEhBg/M/W2S0R8u5P76r102hwR4iBwX7AMK4TphhJxSYjd7SI4d9Y5Eo9M6cRISzR0/vZzWGz7bgTPD2napXx+JzU/qL6Yt49x9ZQURRLVhjG70D0sF6e54uFgo6crYlIhMxscZ9BSNjiQXUHLiH09rZ2xyEJAXC6ONbzdQLvOQ678/y23j3o3XGp64q2pMYO+XqEECpfPgnXm9O75T76Gnz9zdLjBs/IaUQIT4L4POUiOjvsBjP76Mx4xk/OSPPWix9PFSVn8Pt934edH/7HQM2u6zZjZ3hMDkhZQlzhAG3EYEy878WW3XE+CcFnDcJ6wf+cbBHNp4T/u65b2uMtIbNtTCjlxuF72heExfUqimJJguDvgr87iJF3XcMyihJIzt6J3gPfK+yqFicSIX8DROuJdTzBxxbYrcOdW+Si8x0dW0b++g/DEKaCozOHm4lTjv04G4DOl2NCECG2hMxsMwAWwsq148y244RgzXDFBx4n5NOs0S6+ZhgzxOt4UcU5Yxsuk+OvM97z02hATHzVBf5OfIfoxchbwX7cEI6vJb3wPeZ/b2fvh04nQuxO0JNcjBcgvl5RgBudE2IbHJuILM1USSDU3Ov7fhmj45/8ec6hKP6BfeL91IBOvld4f6lxMXjt7xnUCBzHceN+9H8x3QcsNF5YCKIxZJGIc9uiGWzZ9RY9XKRca9zuvZiRF1GRhn8r8r6sOZ0ImcUDTsV+nMG/9i46for3M36m9pF6mo7aEXW+PigffRYdI9rG7yvaPlW9OxWg9+5If19GFgjfw74NkZBEA4rhXuy6bnXMqPKGF83o+D5mFMWoxD78G/GcXZBOKULi7/Cdk489eBdd9L1wJ5eyOvw238kzdAReGCLR4uuWslJ8Lb9HPGjBqsQxeVoLcRv1QWkkQuJuUkHp1NM4XHT+CduXKYqsH+z7LJYqXwPvqvTXAdNo+PhcZIU+6vp5tyHH28Rt1AelkQiJu4hcVnydIxcdB+m5c/T72RtndBYRYlJxn71pNKIxRLiWjxoY6dulmOr9qA9KIxESn8ZP0cCCNM9zOCOsd9H5IL4XNP//0YliYPe4Pb3rLUq8+Y72pX5rIkZ9UBqJkLiLewLvLE5RFl00nQD24YXtrBlEfpwVZ72xdckz2PJ9HyUiPEqMouSKMzwgPAL1QWkkQuIu7nnyjbK44KLz8SLvosO+U6+Pjk8N9yLO43Q4Fd4Tpcj/LV7IUjE8kUZ9UBqJkLgL7x6DpeJTeT2wcnwtOqQRo5RNVIkbxz2DCIF5njcDTuF+i6b5NttmEj5SgKL2nfn7+Srqg9JIhMTd3GMF4XXkBtqrRdf3fXJg6Vnwrjc/9upWCntqfNMjM+R8vEnVoO9DfVAaiZD4EbgDu+Wiu5WifGtA6m/h7z+2FvE//wW3ZrA9i6WRyrg7wvn7wapHfND66jlJhMSPwYIyTdNqsjqfRZdy7e2ld/82/vzM4mku2J3pq1dz1tuznd93ElWywPU6ighhuVVp4xX5m4xMiZD4EaKbc54/povwKd2cRecHt/pMumfBC0b0ZI+/GHDqswc56+0oHfA9pJ6in/F7/gq+dtwZuDeNXyIkfgzuiP1TYGruG++iY6ICp7+JT9Lwbjmz/QGnEN1oIPAZiM75KCLMblaz+FxfGR+P/IxlJBESP4oXIrP1wFUe6MqZYeyi8xbCM3RUqUA9n68fcMpZb7wdBOxZLb7vIHJRHcka5O/8LN/pvUiExLfjkwv2Rtx7F11kLUSxl9+GB93682Urj1OvudYbSFl8Ryf6Hv3Eeq+++O/fW8OvvvhzgtV36zcqERI/xl76cDTqnyexw0399hYPdH0moqoRfA7sevNP/Sxm/PkZ4GzIeZ43ccJXXvysuv6z327fI87Pv5dl2V0PUBIh8SPspSmnUprxHg905Rs8muHzN2EhueV6Sw3yPGtlAl9+yMwe2kk+wxJNX//bbfru8+PvM4VESLwEtwa6msUdOF7j8+g9/h/4MjogSjzg9znrjRd2vZ3RyvkKe7/be2OCn6no4L/Tv0k7PjOf7W8lQuKlwEBXb2X41Gaz/XFE0UBYdoPtDZL1JYawHWe9RSLpq0icIdbzN/D3mxIT/31/NWHFf89HSYj4DSRCJhE6Il4UvIvucrkstejM0mNNonJCzF5GGosa12mLXG9vb9sZTn2FbHSaetKOiX63n7FsPisiqTFd4nNIhEwidFR85+Cz6BD85Vp0qY4E1ovPattbh7le35Njm3zWm9+e3TyyhtLcI0L3CM0960QPB/y/uB+JkEmEjsie2yyqRcczunoXWDRWCZ9F7+M4PustSiH3M5z6NkduHz1xx/C1TYmBj/N9VTB8qSDev/gcEiGTCB2VKGbDr+/JottLE/f/s3DgGH6aBVhfmGaBO8vI0kFH6cVQbNn73d66Zl8Ro+gB4av7OjMSIZMIHZUoY407+WmabmbRsQhgGx6bkkoc4GkWeNChn2YhsrJS8R8FwPfxiQmpB4eUNfmZ6xqNU/PHEfchETKJ0JFJlcXx6bTeRefn5uF1eV+ccGAWDzh9e/szIV/XdWGHdUtc5IK7D77e4ziGYo8KG+M4JlOs7wXfc57nslL/AomQSYTODqdSpwaNci06fsrmSt33Zr2po/oe/HV/e3uztm03VgumwsD0F94CxWv+C7ivYBHy6+y5caN+Z2+MUcrSSolm6vip//fGwHmLMhokfMsN6RM3fPvZU3APEiFxGHyMCO/BRedrkZVluYzh4e39DKdR1puelL+fe0TIzCzPc7tcLkt6vln8veyl3k/TtBKhKHXe/w8ruaqqMBMzGiSN970Q7bU3JWh+riqPb1PqmBxTres6vI6RBZrat08ouYVESByCWz90sw8XHadUZ1m2iAtnvfm5jXzWG46hNOvvIyVCgEUIlpBZ3GGCKGsRryN3nN8fvz8Mw3Kf+BhjNNg5stIiYYjiiXvxMP83lSUYWT3R9U5NKhldi0h42f19DxIhcTiiJ0D8YNjN5qeLuGeahZQrQjwe/114EQKI/SFDsW3bJSOy6zprmsaGYVhtg+9xGAZrmsb6vt+44/A9Yx94EMH9wLHCpmk2bRuGwdq2XbbDPr04cvwRbUd7sQ6302wtiNiGx6bxe6lrwok6bdsu4lFV1cbi9G3jdvGxsB8sKmD6DxKh45NyZ0TvX6/vm4QDX32BywAB/4TJ0zaIx5MSIf/7hnULEWB3K++jLMvVk7zPosQxIEJd162Of7lcrCxLM/sjGD7pBZ9dr+9Lm/gzP4CZX3Nb+TjTNG3GwGVZthJVbyWyNQJx4O3Zysc20aBrnItPzMmyzLquW1x4uGZcKZwtoVsJIhIhcQj23Axm25RpLH3frzohuN5SadtRirf4Hvh3C5ebr5w+z/NSSxCJCdzZwkJBpwhrCZ0n1uGOFu64vu8ty7Il7oN9wBrg96qqsrquzcyWKh5oE8QN7kIfK+J4JdrL+4KI4X1MB4KMQLSbszXRrq7rbBzHRRxg5UB0qqpaRBDrFEVhVVWZma0sG3wGF7WZra4jC7/ccRKh0xH51tk3vzcOhJ90I3FJuU8kQN9LSoS8dYoOFZ9hG3Sk8zwvnWVRFDZN00YYzGzpQDk7jh9eYN1AICBSfN/A6rhcLou1gmOzJYb7chiGjYhgHbZgsK9pmlbXgq8TtudrAEsIooD9sJWHtuNcsN/r9X25tjhnvy8IPMbh4feEa6DEhH+QCJ2De8aFRBlL7D7wWUOp9NZUoFg8jpQIMRAhFhSO0+C74U6XO3d0nGa2WBkQIcQQ67pejg9x81Y0OnJYDrCEONaYZdmyX8CWhr+n0OYsy1b3HiwnCAP2z5aQFyEvZvwe3ITs8sSx2AXH53K5XKzrukWEOKOQXdv4jvaQCInT8Df3RyojKbK2eB1lzn0d/l5YaKIUbW8ZoJM0s8XiwJO+FyQAQYAI+XFi7Hozs40IscWVmrDOZ83BDYgYEJ8bW1D88IRtqqqyeZ43IhRZQixCSDRAOxH79C5Ptnqic+r7fhUTwjXg7FK0eQ+JkDgNf3t/eKHBe/yaXYE4liylr8GdH2Ij7GIzs0VcuBPGk3td1ysLBXEXuIwgSNgXW0KcLACBgAXiLSG4tPx7PL9VKknGu8V4Hb9/wIIcuef42iEm5F2EkXWE5AJ2x/EYLJ8VitgaLCTAYnUPEiFxGv7WEvIBcbzPf/e2EZ+Dvxc8cfPTvU8OwJM4OlyIh9mfDjbLsiUu46ssIMHh7e1P3IgD/j5JAELI44SGYbDr9X3Zjt1lZn86fVhmHFtkgUDnz8MJOMEgiiFxuzhuw/Gde0TIXxPAcTK2GnFsL+78vWF671tIhMRpeJQ7Dp0NXvPnPqYkd9zX4e+FO0lYOvzEzQNV/UBjztjCOBseK1aW5SpFGpYQOndkTXLnyvGYLMssz3Mry3IZh4bt8D7Eyz+0wO3GmWllWS7ZZxwz4rmz6rpe7jVepyiKxXrxlhBbPXC1wR1nth73hJTycRxX++Pv4Hp9Xx4O2BLyvye540wiJP7wN/cHx34A/PN5nltRFMuS5/lqQYciPof/Xrj8Ep6+kdZsZpsncaRuo3PnRAWzP1lr6FRhJXFiQtd1q/EzbduuBsaafXTccNPxvnnbPM9XlpHZelB1Xderah4I9GNfOC7cjH4/POapqqqVay3KjvOJCfM8W9d1y3Fgxczzn/m6IIB+TBRbqD49/HK53JUsJBESp+Fv7w/OlkMH4sdF8OKzhMTn8N8LPwQMw7CpgoBYHL4PVLvg9aKHCU5/xtgbtmjhasM6wzBs4j3cHo4Jwprge2cv/R9uRuCnE8E20TABWOg+i9Ov48e/+QxQnIu3YOA+TGWG+mxTdtHtIRESp+ERIuSz3tq2taZpNgMeq6pa3uegrrifve+FBYA7eM4M2ytoGrnFeL9+vejzqKNPTWLo4W38a7++F7BUx763D25btL0/v734pz+GX5/dpfcgERKn4RExIf/jw19kRrHrJtUBifvwMSGQ6oTRyXKg34vIrU6e34ssBU/qs2ifqXOI2uaFNbWNb2t0f+6dV0qMfTujdnm8O/Te/lYiJE7Dd94f8J1jP9wBotwKCmnWdb38j6A4gsPzPC/vcXaXmS2++bIsra7rTQmbo/GV7wXp13oQ+D0kQiYREjHffX94ETJbF4BEogKyq5qmWSwnnqeIg+UQGV4XT/oclD8iX/le5nm2qqo2laDF98OWKO5RxYT+QSIkzH5HhJDqywJSluUSK+IMJeBFiPcLC4izoXjbI8HfCyya1GIWx0vgcrq1vZa/WxhV0TaJkIj5aXcc4IQFDDo0W1cgRtYRLCGkH8/zvIzkx1gMZHzxWJAj8pnvxcdbjuymfEZ8YgJ/bxonZBIh8YffsoQgIpwthJInkQjxmBCzj+rNmAUWC09PcEQ++71EwfVUpph4PPM8rypNKCZESISE2e9YQhAhzvLylhBcanAdYewRRMjP+OoXP3jxKHzFErqVpiy+D86OwwMS7uk9JELiNHzn/eFjNxwUhwhlWbYaTOgtITxJsiU0z/OSzFCWpXVdt1n8oM2jsCe8ewvP8MkdopbvW/w1x4PTPUiExGn4KXdclmWrqZa5tAvDM36ixL6ZbSwhrmHGgyGjoPCReESn+Nud85kWvuZKTJAIiQCUO+H7g33YqRHe9wS52R3HFZHNbCNCsIS4jD/PUcMTiJl9FLFEajfiR+M4Lv+/OlE854gWzN78PEdYvPXJ320KiZA4BT5YzbEZvj9SNbfugad7hjsO44T4R2n2MabCV4bmHzNStOd5XqwhLnDpxxgdBb72R7P0EPPzFu2rk+p774nNSYTEafCThqUCqfy53yYFLCEu24Pt2BLyAXQIFz7nzDeeDtonOGApiuIwIsRB7CN0zAzODS5YdtceJZ08KvFzDxIhcQr8vRGNa4C77Fb9rb39M17AEMPxBSvNbFW9mdf3BTFRyRiVnD/TxmfFd8TcmR1pPqZ5/pg4D9Nhv/p354nubbnjTCIkPgSAf/j4wXgRSgnFLdjNF7n/zOJKxnzfcofs2+nb8dn2PTvReeB6/XZFgM9UDIjaa7aeoI6t5SNUdEjdgyrb8w8SIQH4B+OrLnNM6KtP4VGHxCLCnU5KmFjEuBPG/9y2o4yH2ROgI8CDkHG/wRo6AqmHJ7Pb36NESJwC715ji4izlCKBuDcmlLKA/LEjy4i34fZ6F56/x49iBZnF8RGfzfgqeEvBW0EQoqNUQk95DmQJ/YNESMzznxkjuc4aOj1fcNHs48fTdd0yo+U9RJaJz/bybprIzebXx2tef88N8ooc6bz898yll7g/OpI1ZJaeb2sPiZA4DPz98w9gHMcl44x/9FgvcseZ2ap6Aeb88T+sI3SY4u9JxevM1uO8orE1nCnnH05e0Qr8LBIhcRhSboDr9X01HoddINM0rZ5OeVt2ofgn1iOPZRGfh2N2/j6EFRQN6MSDUZR4gv0e/SFHIiQOgf+x+tdcLJR/9OyO4+w4Fi4e1+E7mSO5UsTfEblh/YOMT0zA/1wJ/SwWEJAIicMQJQXw/1xlgKtcR/cHOo8syzZjOr4yjkgcH+9Gwz3HQuOTErgCRpQleQYkQuIw8Pfus9X4qdTHhnyZHE6njTKYogQBcW6iOE50v3FfBGsbVjjXG/T7PDISIXEYOKjr/2cXG2JAEBe+PzidNhrL4ZMazI7fSYjbeHcwJ7VcLpfF3cZTHvjUbZ80Y3aOe0siJA7Fnj/9en1fCUxRFHa9vq8CxZxOy756796LxEicG34o8Q8yHH/kB54o9sj37xlijhIhcQj4yTFynXH2kv/R+3RZ/2SaGgmeymgS58W7c302pre6zdJZmGexhiRCByHV+R79Bv4MqdRrJCDAOorGb4g/+DR1/ntmIisoSu2P+qJ5nsOkmVR/djQkQgeCXUOKWazha+HHDXHFBO9COXoHcC8+yQPXUXyAeywSFBD1RSxcmMzwaLUB95AIHYRUeqc6ig/YWmyaZndmy7Ztw4rXZ8YnfZjp/vKgOkdkBZmlLSHOjX2qRAAAGPlJREFUlEN1DrNz3HsSoYPAKclc9NLsowjkmRcWFCxsDbFLLhqz8dvt/80F95C/z2Rp/wHXgu+Vvu+XOoW4hmZpETL7U6eQaxue5SFIInQQ2D2iDiINdxipml7IiMN9pGv4hyhJQ3wQJaywkJvt90W83hnccEAidDCiQorqMOIpGXxsaC8j7uxE6em4t87SWd5DVDrqXhHCNrz+GdydEqGD4N0kKrC5JUra4FIqWZZtanjx3zPDrl5+z0z3l1ksPpFA7/VFfh8+VfuoSIQOCN/Me8H3My3+OqSuC+JCe+ucdfEZhNH9dlZ8XAjvefh6+u3B2a6nROjg3Op0tWj5zML3kdn5Osy/ha+l+INE6OBEHQme9vnvb3duv734sUJa9q/P5XKRAH0BvqbiDxKhg8Odhtna1yyf/gdIRuBroevyAa6FLKG/48x9UQqJ0MHx5+6vDQc/z7xEQWQOxP92+55h8RXHJUCf58x9UQqJ0MHx566SK+Ir4DfF9xOESdzPmfuiFBKhg5M6d75GqqiwnYNIy3aBJQSXnJnccZ/lzH1RConQwfFPrhAcM3UgjL9nxBrcKz4mJD7HmfuiFBKhgxOdO18fCdEfouvgrSSxvp80mPfznLkvSiEROjjeEjKLOw0OzEdzxvj34Z7x60SVGlKTwvH6qXWiNnm4LUxUDj81H46fqsCfi/8/GpjoxZ33x8VkU/tIHdtfI79//15qwGTkdvT4a+D3d+bf0iPQ9dsiETo4/smVOxd0yOgYh2Gwvu9XZeTRCUUdot9fqlMuy3Jx40SiluoofakYf6yoyvD1+r4SGl/nzLc11eaUOJh9uKSqqtotj+SPt1d/LRIZXg+vU4KdKhuTKiHjsyJTouY582/pEej6bZEIHZxonBB3juM4Wl3Xm8GJWZZZXdfLftDp+2sbdfjYN94ry3IZEOstBC8IUYeINo/juAgA2pZyCaVcRClB5dkw+75PrjvP83J9yrJcnSteR0LG1wPXqeu65Zg8myYfkx8U+Bwiyy4Su5TVGbWNj837lyX0OHT9tkiEDg6LindPDcOwqSLNgee6rkM3lX8i9x2nFwZYQl4IvRjxNliHn9jHcVzEDG2LKl5H7dxzfZn9mfIb5973/UZc+d7CdaqqKnS5+U49EsppmjYiFFme0Xb8em/6jmi7PZchn290vczO/Vt6BLp+WyRCBydlCU3TZEVRrD6v69ratrWmaawsy1VFae+64/ciuHPDcVgIYTFEMZpUTGocx1Vb/XGiv1G7vLUFS6gsSyuKwvq+X1l+/hjeHRetsyckaAdE6HK5WNu2q/s3ckFGrkV/TvgcbffiEmVHRpYXb8Oc+bf0CHT9tkiEDo4/d1wbTG/N0wmnsuaijj0V04jcPxAhFkL/91bSxDT9iVmxq9DHlNiSYNFEBx61LyUg2G8Ud8L1rKpqeS8lqN5Vx/tJWULRdU+J7C2x8+vsCVBK6LhNZ/4tPQJdvy0SoYPjzx2dTJ7ni2vLu59S7qumaayqKivL0uq6tmEYNscbx3GxpKqqsqZpVhYXCwSvC8trT9QiSwgWTFmWNgzDqn2I7URtQ/v6vrd5nlf74e14n1VVrWJHsIRA3/dW1/VqXYhcZOV4S8hbgixafd9bVVVWFMWyb3xX/L1dr++rc8T3xJYnzqdpGuu6bnXNxnHctYzO/Ft6BLp+WyRCBydK0YZFASvIXzf/dDyOo5VlGcaO0NGiw8J6qYrUoO/7TTzq7e3NyrIMrZVpmhYRQkwI4uETKvj4cK1N05RsG/aDiuJd19k0Tdb3fRgrY3ccrls0VTjE0rvL8L+3hKK4zjzPy8R7vt18fHxPbHXyujgnM1uug79WeI9Fi9vi7yfxeXT9tkiEDo7vbLlzhVvLWx0+44qz5/D0zNYNLCJeryxL67rO6rpedXLcEV4uFyuKYrNe0zRhDMqLkJmtOn/sq6qqTUfNHX7TNEtW4OVy2YhI13VLG1kk2rZdnTf2zRYarBRcC+7UcT1BlB1ntnaF8TrYN7eLMxhx3rCsuq5bhD7LssXK4e1xzXiG2SjrD/+zwPL7Yh+OJ0bDFc6MROjgRJYQnvphCTE+DZutJu7whmFYpUtz7Af7xI+MLR6O7XDnO8+zVVW1apOPheyJUJZlG6sHwsTrQTTZekNiAj7v+351fk3TrKxIXDtkx3EHjjFW1+v7ct14+0iEIBo4T7ZAWFDZVYZrlWXZxmrjhBJ+4MD7bC2xS5UfIoZhCONObDFp/qW/W/z3fVYkQgeHzx2dbt/3q1RnDtybbVOXuZNn1xKeqIuiWI3hQafLMQh0mGa2ci9VVbUs/NTuA/pm+5YQxAPtr+vasiyzPM9XnTTawfGaaD9etLDfeZ6XawdLCOeH97CwSN9jCUUDSPlYbKFy+9iSuVwuS5IJjgXBgLjz98bXmIUsFXPCMbCehOhri0/SOTMSoYPjb3qztRUTxYTANE1h5xY9jXPmGneoZusnbFgOOH7UobEIsVVwyx3HCQVe+MxsdVycO87J74fX9RUkYEkgMYFddHwuLCD3uuN8UgCuh09J77pu2T+7/y6Xyyajj0WHBw97i5WtXrTHZ8tF35uW+4UH36dmpv1AInRwUk9e3HHCjeXTg+Gmwo8HLhqsh84tz/OViw1uH6zLHaSZrdxXiF34JUo7vscSggWAeA/cVdzRsourKIpNgoO3hOAGS1lCHOjnc8C5oV1m+yLkOyVYHnws3hbfi4/pcLr99fq+cZOyq5KP6d2ke+3hTlSd6W0i1yZ/R2dGInRw+NzZzcPCAIvAbDvexbtoOHnBd8YsENwxcSDcLI6FRKnMvmTNZ9xxVVUtT5yAz4stnWEYNhUTItfU9fq+agPO28dS0AY+7r2WkE+VT7nO/DF5XyzivtSRz2D018RfS26Lv5/8uYkY9h5ELtezIxE6OHzuPgOuKIpFSPI8t7qulyf4siwX0cGTdJ7ni1XAbjq43zg7C9aVT13GqH3Ef/I8X3WacC0B7iTvccexq5DFF9ltoG3b5dwhQtwBs8hiDJLZWnDgjvMZbFj3en1fxivdEiGMqeJlGIaN1YjEDh/nQXv9QwW3F1l/bAUjXsUlnBBHw345Xsj3U1SAVqSJqrrj/zMjETo4XoTMPn4EqbE66NThVmPXj1/YTcTWAzozFiC2Svz4njzPN4F8P07lliXEYsYixJYfYiFoD1xSkUUVjc/h13zuvggsX9d7RCi6/hCd1Bgtb7GwsPp1ucIEVzXPsmyzTWSVRfcTfzdin8h1qWv3h5cSIZ++iv+5w/LrRWMbogGB/r1ozMwrEgkwX59hGMIq2ui4eLxKVGvOX38/libP81Un6jthv888z5MpzVEV7VRMyFtCqNzA4zS4OkI0TgiWDHfScPOxJYQ2Nk2zWCP4i1p02B+7YdgtGV1/iBBnGOIztN0PgOXrj3b47DwWIVwT7Jev/V7JojM+0Inv4WVEyAtNlMnl/6KD4B8OxxqipxJ0EEfx13pLKHIDzPOf0faYT2gYhk1WFKdJ43N275ltXWecVcb7wmu/T7++d1/478vva+84Uftx7rxP76vHe2ifH1/kr2V0PtFDDr8f7efWdYruT59JOI5jWLCUEymwLn+nfE18zEciJB7Ny4iQJwpgI0Dry/Dz0ya2wY8f2UsglSX2qvhOw4tsFDRFJ4vXICXMXoh4f9GDQ6oDT1XP9sVIuX0Rqayt6EED7/uO16+XspSje8WLCwubX25t588hdX39e9G2LEKwCFNxndQ9LxESj+alRIh/pP6pD+4KH1T1lpDvcOCO4GAutn11ATKLffgpIfGCw5/hL4v/XkfO1ocXHRCJke/cU50/tvdCx9tzh5w6H//AEolb1EHzfiNB4ddeZP0xfbtS+9mr0h19HymL0mcr3hJDRiIkHs3LixA6Gw4E+7lZfGAcPy6OA+R5vpkELZXo8EpwvCV6qvZi6ysnRCITuZBubWO2/v5SHXXkVuNOn4XCHye1T97et8kfE//fm8mUsiS8+PntvAUaXbPIBektocii9OfuYRGK5h2KjgkkQuLRvIwIRZ0Z/1g5QA1BwWcsQvwD5qA4j1cB/gf4ingr0CwWESbqlFIdcWRB7X1XvL9ITLyIRZ9H+009MHi3YvT9puJJKQsK+/X3RsrCjCyYlKhHAurPL/q+/L5TbZqmaZWY4Lfzi0ciJB7Ny4iQWex/B2wN8dgVuOP8jy4SLRaoaE6XVyQSIe9KMtt2QFjPu4684HiXD4g6v6hDTsVbIqFj9x6O79fB59zWaL1IZFOi411+0bmmLOe9e8cLWSRGfn0QWViReEftHoZhWSIXYeo7NpMIicfzUiKUejrDe5Gw+JgQflScmsqVAFKxg1fFn7vZ/pMyv+8Fxls4WM8/pe9ZUbxeqi0+nsSkBCh6nYrXRG5dv//U55FgRueVWieyclL3dbRN5BqOrFE+l5Sl5z/jGJpvN5AIiUfzUiJ0C1hDLC5mtrKE2HWHgXqvLDJM1BGlOo2UBfNsvHI87mhM07S5n47y2xG/x6FEKOVm89aAT2I4Aqmn173suCNYeuJnwMMKD2x99gcY8RocRoTYBeFFxo9C53ppqfThVyPl4uEKAVH5GZXk13Lv4u8ZHzMU4iscRoTMPjpgLvroa6NxSZOjWEEgsmx4Xhvfmby9vW0+06Jlb+GSRHKVikdwKBGCVeMz5fgHhNdHsoLM1hleZh8BZ7aEUp2KrCEttxbcJ3y/SITEIziMCPmUY1hDqSd9HtB6JCFiMYrGyPiMr6Ocu/heUhmImk9I/C2HESHf0U7TFE5T4KsjYJtXJ5VskCrWGtWJE2IPFhzNJSQexWFEyGw7doRny/RWEK93hB9SVEFgbyyOLCDxWe4ZmyXEZ/lxEUoNXIxGe+8NPMR7ewMwfaYcW0F+3UiIeBQ9d+7RoM17zlUIIcSaHxOhSFBSo9FT6/NnqRHiXphgDSGrB9UR/Oh53649Adkb4Z6qnSaEEGLLj1pCUefNYpAq9Aii2l4pS4aFBtYQqiPsicwtiyhqv2+nPy8hhBAxPypC3tKIMrW8UKVSj1Put8hqwoBVXyNuLzkhZW3xZ/fU8eL2CSGEWPMSiQnz/Gf66b7vrW1bq+vaqqqyoiiW+m+I+aTGOET/pwZxZllmZVlaVVVW17W1bWt939s4jsmYlRBCiM/z1yJ0j3tqL/YTWRPX67t1XWdN01hVVZtU60cNrtwrZ5Na8jy3qqqsaZplKvHIKvPjdDhOlapovBdrEkKII/IQS4hda95V5S2H1Pwlfd9b0zSrWR9vCQInHOR5vlgvsGDquramacIFn8OqKssyrLLgjxW1oyxLa5rG+r5PCklKfHxyBH8uQRJCHJ2HiVAqoM9/ASbz6rrO6rpealHtWTtwkUFYuq5bJuXyo7aj11EbOauOxXIcRxuGYbHG6rq2siw37YwsqSzLrK7rlZXkRTlVqcHHqSRCQoij89cilJpl0nek6HiHYVgJDxfY5NgOBKfrOhvHcXPclLUQjTvyi9/PraQDPheIEwtTJJyIVdV1bcMwhG1jkYpclBIhIcTReVhiArvZok6067qVqy2KtbAFYbauB8fisGd5RUu0XuQSi9a7xTiOiyjtufPKsrSu6zap3rfiSUIIcWQeZglFg0uRHp3neZjBlue5NU1jwzBsXHfcCacqI9wSG+aedaN1omy4KIaDv8MwWNM0yWSKoiiWskEs3KnYkBBCHJmHWELcOaMj7bpumbvHpz/XdW193y/bmMWuqdS4odTYHsaLRvRZ5MqL9pPav2+PF8i+7xfXo7eMiqKwrus215Bfa6CrEOLoPDRFe5omG8fRqqpaiQ/iI03TLIkEIGXl8Of4zCccRJbNnpvuFlESw17MKIobRe0YxzFpHVVVtcS8fGViiZAQ4ujcFCHfIfqndO4oMXU2z77I4sPb8+soJuOPc2/R0WcE5wcx8q5J1LQDkWjeGlslhBCvyKcsIe92wt/r9d3qul5ZPm9vb1bX9UY89tKT/Xs+ddqnY79CzCSag+V6fd9Yi7het9yRmsdFCHEkbooQOsEoWwvCgKw3dKZlWS4xHw6477mvjgyLKbsjh2GwoihWyRplWW4G9KbSxYUQ4tW5yxLyMRc83Y/juEo+yLLMqqpadZ5RUkEUTzl6pxplD+J9WJGcNYg4UVRlwe9PCCFelbssodT7vsQOV6mOBrFGCQRH70x93CsSX6Sy8yDXsixvWo9yyQkhXp1PWUL8NM5P7wise8vnVnozc9TBmTzwNErE8IkdPkbE2/n1hRDi1blbhLgD7bpu5T5qmmazblT+xotUlPF2VLyFyILOyQteiLquC8v6HP16CSHOwd0p2txhogICxrng89R4HZ8V5zvQVNmcDf/5t/0f//rXsvzr//x/7L/++/ZmvwlbPJEl5K2keZ5XVmZRFJtkhLO4MoUQx+cuS4gtFjypI4Du59P5CnclJjgB4uXf/5ncqv/j6cXJw8kcEHpcZ8TaosG0QgjxytydmBClY6NzTAnIvVUKbgnQ9fpu/+t//hGc/+v//f+X9//z7/+xWET/35937H/9z9ewkEAq461t26XKeFmWq8+jOnNCCPGK3D1OCCV5OBnBJxNENdr+lj/7SIjLf//Xy4uQ2XbsDwSfa87xdBaygoQQR+HuiglISOABqczfuIhuP9X/Z7GEPgQnvQ4Wtpr8516o2Nr693+m1brr/TyeaAzQPM+rFHhMAxElfAghxKvyqbI9TdMsnSJKzPwNqWrW0XpwvbGIrMVoR4T+sZj24kksQtHyXULE1k9qEGvK9Sl3nBDi1bkrOw5P3ixCnJbt+ezT+j1jhFIisRajrTuOt+N1fTzJr4ft//u//u8bFtjf4ZMN+Jrhel8ul+V6n7X0kRDimNydom32p1P0AylT29wrQFGRzr02RFlyuzEhihut40TrdVPJDz8VZ4oGpNZ1vVxviNA910sIIV6FT40T4kGqVVX9csrwfwLLJRCMf0TLWzI+BuT/T633aPbKGXGlbY4J8XpCCPHKfKpiAmfHvb29JSdh+6wldJNASJBBthaI+0WIRWxPhPx6j4atGr5+nB13uVxsHEelZQshDsenEhPmeV5NPcATsZltO9TPxIR2O9dNKvbHdjdF6EXccWZrq4gHBftxQngtQRJCvDqfignN87yq9oyKCXhy90/09xYlvd2Z/icWCLJyUu64Z05M4OKmbOVwxQRkxp2pzp4Q4jzcNVjV133L83wzGyjDBTnv2T//jZjnebdsD4TJZ9AtwpFI0U6J1d4xHh2LiQS8ruvFFcelkXgdCZEQ4gjcXTuOO72u65YCpnDL+af6ezvKT3WogZhsxIHEKkrfvmec0b//M63GJX3nYFVfgofdcCmXpwqYCiGOwqcntcP/nLnF2VvgM+Lyndl1PvU5Nc7mu7PgbjHP8yr70Fco52nBfduFEOJVuXuwqtnadcbFTHliu88W13yeMjTfmwWXAsLoLaCyLMOEjWgaCCGEeFXuTkyIxGgcx1W2HGJEfo6ce/jtJ/vfsoSu1/dVeZ7L5WJFUSwp2WZbl91ziLYQQvw9n0rRjoAQ8VN8URQ2DIOZbSdg8y6w3xafD75mCaXEAa+57BGvN02TDcMQXjtUzH6eayOEEN/DX4uQ2cfofh5ciVIznCnn05EjK+uVibLXUrOpch0+WEDeipS1I4Q4Og8TIbM/teW8ECFWFGV0HWXAJVt0qVRqxNHatl2luPM1wnp+n0IIcVT+WoTYqpnn2cZxXCUsoJNFR+vHvET74f9Tn5v9vrvKtyV1buM4huKDBASesE4WkBDiTPy1CPknfdB13abTvVwulmWZ1XW9xIxAalZWjqc8g+hwW1KxIPwdhmE18JStxDzPreu6ZV12Wz5PxqAQQnwvD7OEAHeg0zQtFoDvhBGEb5pmJUhRDAnH8Z30TxBVufYWG38+DIM1TWNFUaym50bcJ8/zxSLkAb4+3fq3BVcIIX6Ch8SEUoNN2XJo23aVCcYdNASprmvr+z4clOmF5yeFKDWtNkSk73ur63qT6Qbhwfmx+Ph9mH3EgY6SqCGEELd4iCVktnUhpTrRvu9XmXTRkmWZlWVpdV1b13WrmIk/7nfjz2kcR+u6zuq6trIsN9aOdz1WVWV9328EFOeQStjw7wkhxBF5iCV0iyiZAJ05CxLXo/MWBQtT27bWdZ0Nw7AIVJSh5uc58plrvk14fb2+2zAM1nWdtW27CA7cinsLhKfrOlU0EEKIG3y7CPkYCicw8Ouu66xpGivLchGdSJC8OOF1nudWluUiVHVdW9M0yQXr1HVtVVWtRObWcf3x2ZXoM92EEEKk+XYRSpWaibLJIEiwkiBKyLKDOKXiSjw2Cet7Qbn3vdQCsWuaZrF2vMUDN5uy24QQYp8fEyH/2k/iBqIpwxGL6ft+cY9VVbXKQIuEJRWvuWXZZFlmRVFYVVWL+w9Wzq3zeYZUciGEeBV+JCZ0i3stht+yLmTVCCHE9/AUIiSEEOKcSISEEEL8Gi8pQpF7jN9Luc4+E8ORC04IIb6f/w1qvWiwBE/VkwAAAABJRU5ErkJggg==)\n"
   ]
  },
  {
   "cell_type": "markdown",
   "metadata": {},
   "source": [
    "A `for` loop is used when the number of iterations is known. As long as the maximum number of iterations is not reached, the syntax is executed in the `for` loop.\n",
    "- Note: The `while` loop can also be used here as an alternative.\n",
    "\n",
    "**Syntax:**\n",
    "   \n",
    "`for i = from 0 to 10`   \n",
    "&nbsp;&nbsp;&nbsp;&nbsp;  `statement or statements`\n",
    "     \n",
    "\n",
    "**Format in Python:**\n",
    "\n",
    "`for <variable-name> in range(...):`   \n",
    "&nbsp;&nbsp;&nbsp;&nbsp;`statement`   \n",
    "&nbsp;&nbsp;&nbsp;&nbsp;`statement`\n",
    "   \n",
    "**Example:** Output the fruits in the list:"
   ]
  },
  {
   "cell_type": "markdown",
   "metadata": {},
   "source": [
    "The `for` function does not require a pre-defined index variable.\n",
    "   \n",
    "**Example:** Iterate *Classically* over i:"
   ]
  },
  {
   "cell_type": "code",
   "execution_count": null,
   "metadata": {},
   "outputs": [],
   "source": [
    "# Loop over a set of values in a range\n",
    "print('Print out values in a range')\n",
    "\n",
    "\n",
    "\n",
    "\n"
   ]
  },
  {
   "cell_type": "markdown",
   "metadata": {},
   "source": [
    "Advantage over `while` loop:\n",
    "- the code is easier to read\n",
    "- it is clear that the range from 0 to 9 is processed\n",
    "- it is not necessary to define the loop variable beforehand"
   ]
  },
  {
   "cell_type": "markdown",
   "metadata": {},
   "source": [
    "### Loop over a string\n",
    "\n",
    "Strings are also *iterable* objects over which a for loop can run, in which case the individual characters are output.\n",
    "   \n",
    "**Example:** Loop over a string"
   ]
  },
  {
   "cell_type": "code",
   "execution_count": null,
   "metadata": {},
   "outputs": [],
   "source": [
    "# for loop über einen String\n",
    "\n"
   ]
  },
  {
   "cell_type": "markdown",
   "metadata": {},
   "source": [
    "## Break loop statement\n",
    "\n",
    "The `break` statement can be used to end a loop earlier, this is possible in both `for` and `while` loops."
   ]
  },
  {
   "cell_type": "code",
   "execution_count": null,
   "metadata": {},
   "outputs": [],
   "source": [
    "# Früchte in der Frucht-Liste ausgeben:\n",
    "# Fruchtliste erstellen\n",
    "Fruchtliste = ['Apfel', 'Banane', 'Kirsche']\n",
    "# Schleife\n",
    "\n",
    "\n",
    "\n"
   ]
  },
  {
   "cell_type": "markdown",
   "metadata": {},
   "source": [
    "Important: The last loop can be excluded if the `break` command comes before the `print` command.\n",
    "\n",
    "**Example:**"
   ]
  },
  {
   "cell_type": "code",
   "execution_count": null,
   "metadata": {},
   "outputs": [],
   "source": [
    "# Früchte in der Frucht-Liste ausgeben:\n",
    "# Fruchtliste erstellen\n",
    "Fruchtliste = ['Apfel', 'Banane', 'Kirsche']\n",
    "# Schleife\n",
    "\n",
    "\n",
    "\n"
   ]
  },
  {
   "cell_type": "markdown",
   "metadata": {},
   "source": [
    "### `continue` statement\n",
    "\n",
    "With the `continue` statement, the current iteration can be stopped and continued with the next one.\n",
    "  \n",
    "**Example:** `continue` statement: Do not output 'banana':"
   ]
  },
  {
   "cell_type": "code",
   "execution_count": null,
   "metadata": {},
   "outputs": [],
   "source": [
    "# Nicht Banane ausgeben\n",
    "# Früchte in der Frucht-Liste ausgeben:\n",
    "# Fruchtliste erstellen\n",
    "Fruchtliste = ['Apfel', 'Banane', 'Kirsche']\n",
    "# Schleife\n",
    "\n",
    "\n",
    "\n"
   ]
  },
  {
   "cell_type": "markdown",
   "metadata": {},
   "source": [
    "### Die `range`-Funktion\n",
    "\n",
    "Um über eine festgelegte Anzahl an Schritten (Iterationen) zu loopen, kann die `range()`-Funktion genutzt werden.\n",
    "\n",
    "Die `range()`-Funktion gibt eine Sequenz zurück, die bei 0 startet und um 1 inkrementiert (by default) und endet bei der spezifizierten Nummer.\n",
    "\n",
    "**Beispiel:** `range()`-Funktion   "
   ]
  },
  {
   "cell_type": "code",
   "execution_count": null,
   "metadata": {},
   "outputs": [],
   "source": [
    "# range-Funktion\n",
    "\n"
   ]
  },
  {
   "cell_type": "markdown",
   "metadata": {},
   "source": [
    "`range` function with start and end value."
   ]
  },
  {
   "cell_type": "code",
   "execution_count": null,
   "metadata": {},
   "outputs": [],
   "source": [
    "\n"
   ]
  },
  {
   "cell_type": "markdown",
   "metadata": {},
   "source": [
    "`range()` function with different increment (not 1)."
   ]
  },
  {
   "cell_type": "code",
   "execution_count": null,
   "metadata": {},
   "outputs": [],
   "source": [
    "\n"
   ]
  },
  {
   "cell_type": "markdown",
   "metadata": {},
   "source": [
    "Ausführlicheres Beispiel"
   ]
  },
  {
   "cell_type": "code",
   "execution_count": null,
   "metadata": {},
   "outputs": [],
   "source": [
    "print('Drucken, wenn die Schleife abgeschlossen ist')\n",
    "num = int(input('Bitte geben Sie eine Zahl zwichen 0 und 10 ein: '))\n",
    "\n",
    "\n",
    "\n",
    "\n"
   ]
  },
  {
   "cell_type": "markdown",
   "metadata": {},
   "source": [
    "**Testen** Sie bitte die Syntax bitte mit den Werten 10 und 4."
   ]
  },
  {
   "cell_type": "markdown",
   "metadata": {},
   "source": [
    "### `else` in `for`-Loop  \n",
    "\n",
    "Das `else`-Schlüsselword in einer `for`-Schleife spezifiziert einen Code-Block nach Abschluss der Schleife:   \n",
    "  \n",
    "**Beispiel:** Nach Abschluss der Schleife eine Nachricht ausgeben"
   ]
  },
  {
   "cell_type": "code",
   "execution_count": null,
   "metadata": {},
   "outputs": [],
   "source": [
    "# Beispiel: Nach Abschluss der for-Schleife eine Nachricht drucken\n",
    "\n",
    "\n",
    "\n"
   ]
  },
  {
   "cell_type": "markdown",
   "metadata": {},
   "source": [
    "**Hinweis:** Der `else`-Block wird nicht ausgeführt, wenn die Schleife vorher durch ein `break`-Statement beendet wurde.\n",
    "  \n",
    "**Beispiel:** Verhalten des `else`-Statements, wenn vorher das `break`-Statement ausgeführt worden ist:  "
   ]
  },
  {
   "cell_type": "code",
   "execution_count": null,
   "metadata": {},
   "outputs": [],
   "source": [
    "# Beispiel: for loop mit break und else\n",
    "\n",
    "\n",
    "\n",
    "\n"
   ]
  },
  {
   "cell_type": "markdown",
   "metadata": {},
   "source": [
    "## Genestete Schleifen\n",
    "  \n",
    "Eine genestete Schleife iste ine Schleife in einer Schleife. Dabei wird die innere Schleife bei jedem Schritt der äußeren Schleife ausgeführt.\n",
    "\n",
    "**Beispiel:** Genestete Schleife"
   ]
  },
  {
   "cell_type": "code",
   "execution_count": null,
   "metadata": {},
   "outputs": [],
   "source": [
    "# Beispiel: Genestete Schleife\n",
    "Eigenschaften = [\"rot\", \"groß\", \"schmackhaft\"]\n",
    "Fruechte = ['Apfel', 'Banane', 'Kirsche']\n",
    "\n",
    "# Schleife\n",
    "\n",
    "\n"
   ]
  },
  {
   "cell_type": "markdown",
   "metadata": {},
   "source": [
    "## Das `pass` Statement\n",
    "\n",
    "Eine `for`-Schleife kann nucht leer sein, aber wenn eine `for`-Schleife doch leer sein soll, so kann das `pass`-Statement übergeben werden:\n",
    "  \n",
    "**Beispiel:** `pass`-Statement "
   ]
  },
  {
   "cell_type": "code",
   "execution_count": null,
   "metadata": {},
   "outputs": [],
   "source": [
    "# Beispiel: pass statement in for-loop\n",
    "\n"
   ]
  },
  {
   "cell_type": "markdown",
   "metadata": {},
   "source": [
    "# Exercises"
   ]
  },
  {
   "cell_type": "markdown",
   "metadata": {
    "id": "pJu_wTKjPtF1"
   },
   "source": [
    "## `if`-Conditions"
   ]
  },
  {
   "cell_type": "markdown",
   "metadata": {
    "id": "fUK8nSNVmvo0"
   },
   "source": [
    "### Exercise: Simple if loop\n",
    "\n",
    "- Create a list with the elements [\"Area1\", \"Area2\", \"Area3\"]\n",
    "- If the list has a length of three elements, issue an appropriate message. Find a suitable function to determine the length!\n"
   ]
  },
  {
   "cell_type": "code",
   "execution_count": null,
   "metadata": {
    "colab": {
     "base_uri": "https://localhost:8080/"
    },
    "id": "CnuM7ZEknqYs",
    "outputId": "3b376de4-4f88-433f-dc86-5a51c568e1e3"
   },
   "outputs": [],
   "source": [
    "# Create a list\n",
    "ListeArea = [\"Area1\", \"Area2\", \"Area3\"]\n",
    "# Check that the length of the list (number of elements) is three:\n",
    "\n"
   ]
  },
  {
   "cell_type": "markdown",
   "metadata": {
    "id": "-MlQXoKsnNsM"
   },
   "source": [
    "### Exercise: Type check with if loop\n",
    "Check that the list from the previous exercise is a list. To do this, first look for a suitable way to check the condition (hint: https://stackoverflow.com/questions/26544091/checking-if-type-list-in-python)"
   ]
  },
  {
   "cell_type": "code",
   "execution_count": null,
   "metadata": {
    "colab": {
     "base_uri": "https://localhost:8080/"
    },
    "id": "TQr3P3cJoAFE",
    "outputId": "2f1a34be-132a-4cb9-8096-8214c5d36286"
   },
   "outputs": [],
   "source": [
    "# Create list\n",
    "ListeArea = [\"Area1\", \"Area2\", \"Area3\"]\n",
    "# Type check mit if\n",
    "\n"
   ]
  },
  {
   "cell_type": "code",
   "execution_count": null,
   "metadata": {
    "colab": {
     "base_uri": "https://localhost:8080/"
    },
    "id": "EHCysHBE91L7",
    "outputId": "21ff33ad-c69e-45fd-bc32-8c9d7d27f825"
   },
   "outputs": [],
   "source": [
    "# Create list\n",
    "ListeArea = [\"Area1\", \"Area2\", \"Area3\"]\n",
    "# Typ-Prüfung mit if\n",
    "\n"
   ]
  },
  {
   "cell_type": "markdown",
   "metadata": {
    "id": "oN-uzYdE-JeR"
   },
   "source": [
    "### Exercise: Negating the condition of an if loop\n",
    "\n",
    "Adjust the if condition from the previous exercise to give a hint if there is no list! To do this, test your if condition with a tuple, a dictionary, etc."
   ]
  },
  {
   "cell_type": "code",
   "execution_count": null,
   "metadata": {
    "id": "f6MxafX_-cub"
   },
   "outputs": [],
   "source": [
    "# negating the condition\n",
    "# Create list\n",
    "ListeArea = [\"Area1\", \"Area2\", \"Area3\"]\n",
    "# Type check with if - output only if no list is available!\n",
    "\n"
   ]
  },
  {
   "cell_type": "code",
   "execution_count": null,
   "metadata": {
    "colab": {
     "base_uri": "https://localhost:8080/"
    },
    "id": "20Ja4XpT-v6h",
    "outputId": "1481228a-c063-4f83-e2d1-53f3a840f40b"
   },
   "outputs": [],
   "source": [
    "# negating the condition\n",
    "# Create list\n",
    "TupleArea = (\"Area1\", \"Area2\", \"Area3\")\n",
    "# Type check with if - output only if no list is available!\n",
    "\n"
   ]
  },
  {
   "cell_type": "markdown",
   "metadata": {
    "id": "bGSWjvxdni7V"
   },
   "source": [
    "### Exercise: `if` with `else` loop\n",
    "\n",
    "- First check whether there is a list, if there is no list, check whether there is a tuple. Then try to convert the tuple to a list. To do this, use an `if` `else` condition"
   ]
  },
  {
   "cell_type": "code",
   "execution_count": null,
   "metadata": {
    "colab": {
     "base_uri": "https://localhost:8080/"
    },
    "id": "x-3As0JPnM4k",
    "outputId": "e4e39bf7-a66d-4a2b-cc8e-bd7639d27f3e"
   },
   "outputs": [],
   "source": [
    "# if...else in Python\n",
    "# create Tupel \n",
    "TupleArea = (\"Area1\", \"Area2\", \"Area3\")\n",
    "# Check what is available and change if necessary\n",
    "\n",
    "\n",
    "\n",
    "\n"
   ]
  },
  {
   "cell_type": "markdown",
   "metadata": {
    "id": "GE2qHJHJ_17q"
   },
   "source": [
    "### Exercise: `elif` loops\n",
    "\n",
    "Check whether an object is a tuple, is a dictionary, or is a list. Use `elif`. Play around with different iterable types and test the query!"
   ]
  },
  {
   "cell_type": "code",
   "execution_count": null,
   "metadata": {
    "colab": {
     "base_uri": "https://localhost:8080/"
    },
    "id": "uAXyBt9B_n27",
    "outputId": "604f6aa9-c2c3-4413-b6fa-3b803b5f467e"
   },
   "outputs": [],
   "source": [
    "# Creating an iterable object, e.g. a tuple:\n",
    "TupleArea = (\"Area1\", \"Area2\", \"Area3\")\n",
    "# Check\n",
    "\n",
    "\n",
    "\n",
    "\n",
    "\n",
    "\n",
    "\n",
    "\n"
   ]
  },
  {
   "cell_type": "code",
   "execution_count": null,
   "metadata": {
    "colab": {
     "base_uri": "https://localhost:8080/"
    },
    "id": "0uvt919zAlfP",
    "outputId": "b3a54037-0350-49b2-955d-09f1153feb85"
   },
   "outputs": [],
   "source": [
    "# Creating an iterable object, e.g. a tuple:\n",
    "ListArea = [\"Area1\", \"Area2\", \"Area3\"]\n",
    "# Check\n",
    "\n",
    "\n",
    "\n",
    "\n",
    "\n",
    "\n",
    "\n"
   ]
  },
  {
   "cell_type": "markdown",
   "metadata": {},
   "source": [
    "## `for` and `while` loops"
   ]
  },
  {
   "cell_type": "markdown",
   "metadata": {},
   "source": [
    "### Exercise : Simple while loop\n",
    "Write a simple while loop that counts from 1 to 5. Output the count value on the screen."
   ]
  },
  {
   "cell_type": "code",
   "execution_count": null,
   "metadata": {},
   "outputs": [],
   "source": [
    "# Grundlegende while loop:\n",
    "# Startwert festlegen:\n",
    "\n",
    "# Schleife bei starten und bis unter 6 zählen:\n",
    "\n",
    "\n"
   ]
  },
  {
   "cell_type": "markdown",
   "metadata": {},
   "source": [
    "### Exercise: Simple for loop\n",
    "Write a simple for loop that also counts from 1 to 5. Output the count value on the screen."
   ]
  },
  {
   "cell_type": "code",
   "execution_count": null,
   "metadata": {},
   "outputs": [],
   "source": [
    "# range-Funktion\n",
    "\n"
   ]
  },
  {
   "cell_type": "markdown",
   "metadata": {},
   "source": [
    "### Exercise: loop over string variable\n",
    "- Part 1: Use a for loop to output the fruits: banana, apple, pear, kiwi, grape.\n",
    "- Part 2: Break the for loop when 'pear' is called.\n",
    "- Part 3: Continue the loop with the next iteration when 'apple' is reached."
   ]
  },
  {
   "cell_type": "code",
   "execution_count": null,
   "metadata": {},
   "outputs": [],
   "source": [
    "\n",
    "\n",
    "\n",
    "\n"
   ]
  },
  {
   "cell_type": "code",
   "execution_count": null,
   "metadata": {},
   "outputs": [],
   "source": [
    "\n",
    "\n",
    "\n"
   ]
  },
  {
   "cell_type": "code",
   "execution_count": null,
   "metadata": {},
   "outputs": [],
   "source": [
    "\n",
    "\n",
    "\n",
    "\n"
   ]
  },
  {
   "cell_type": "markdown",
   "metadata": {},
   "source": [
    "### Exercise: Nested for loop\n",
    "\n",
    "Use the fruit list from the last list and output the adjectives 'delicious' and 'tasty' for each fruit:"
   ]
  },
  {
   "cell_type": "code",
   "execution_count": null,
   "metadata": {},
   "outputs": [],
   "source": [
    "# Beispiel: Genestete Schleife\n",
    "\n",
    "\n",
    "\n",
    "\n",
    "\n"
   ]
  },
  {
   "cell_type": "markdown",
   "metadata": {},
   "source": [
    "### Exercise: Functions in the for loop\n",
    "Return length of items in fruit list. Simply modify one of the previously used exercises."
   ]
  },
  {
   "cell_type": "code",
   "execution_count": null,
   "metadata": {},
   "outputs": [],
   "source": [
    "# Früchte in der Frucht-Liste ausgeben:\n",
    "# Fruchtliste erstellen\n",
    "\n",
    "\n",
    "\n"
   ]
  }
 ],
 "metadata": {
  "colab": {
   "collapsed_sections": [],
   "name": "Teil_7_Python_Verzweigungen.ipynb",
   "provenance": []
  },
  "kernelspec": {
   "display_name": "Python 3 (ipykernel)",
   "language": "python",
   "name": "python3"
  },
  "language_info": {
   "codemirror_mode": {
    "name": "ipython",
    "version": 3
   },
   "file_extension": ".py",
   "mimetype": "text/x-python",
   "name": "python",
   "nbconvert_exporter": "python",
   "pygments_lexer": "ipython3",
   "version": "3.10.4"
  }
 },
 "nbformat": 4,
 "nbformat_minor": 1
}
