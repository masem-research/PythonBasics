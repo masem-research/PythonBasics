{
 "cells": [
  {
   "cell_type": "markdown",
   "metadata": {
    "id": "HtWzXp7X1QhE"
   },
   "source": [
    "# Part I: Python Introduction and Basics  - Without Solutions\n",
    "  \n",
    "Guido Möser /dl4fdr/ under CCC license\n",
    "    \n",
    "    \n",
    "First part: 45 - 60 mins interactive demonstrations / 30 - 45 mins exercises + discussion of possible solutions\n",
    "    \n",
    "    \n",
    "### Introduction\n",
    "- Overview\n",
    "- IDE/Editor/JuPyteR Notebooks\n",
    "- Execution of Python Programs\n",
    "- Help\n",
    "- Module and Packages\n",
    "    \n",
    "### Syntax, Comments etc.\n",
    "- Hello World!\n",
    "- PEP8: Syntax, Naming conventions etc.\n",
    "- Assignment operator\n",
    "- Comments\n",
    "      \n",
    "### Exercises"
   ]
  },
  {
   "cell_type": "markdown",
   "metadata": {
    "id": "pZh4bYcf3lMr"
   },
   "source": [
    "## Introduction: Python - Overview\n",
    "\n",
    "General structure and comparison with other languages; Overview resources\n",
    "\n",
    "**What is Python?** Python is a general-purpose programming language comparable to C+, JavaScript or Microsoft's C' and Oracle's Java\n",
    "  \n",
    "**Development**: Developed by Guido von Rossum in the Netherlands in the 1980s. Named after Monty Python's Flying Circus. In the meantime, however, the *snake proximity* has prevailed.\n",
    "  \n",
    "**Popularity**: Python has been among the top 3 most used programming languages on GitHub (TIOBE Programming Community Index) and in Google search (Google: PopularitY of Programming Language Index) for years..  \n",
    "  \n",
    "**Some more reasons:**\n",
    "- Python is very flexible and simple --> also easy to learn!\n",
    "- Widespread use in the data science community: On the one hand, *functional* and *procedural* work can be carried out in the analysis of data, while the ability to work *object-oriented* is ideally suited to creating the tools for data science tasks !\n",
    "- DevOps: Usable as a very flexible scripting language (higher level of abstraction, thus faster results)\n",
    "- Available on (almost) all operating systems: Unix, Mac OS, Windows, ... - Official download page: https://www.python.org/downloads/ \n",
    "- Modularisation: Very high number of modules, which allows the basic version to be expanded in almost any direction;\n",
    "- Open Source: No license costs for Python! \n",
    "\n",
    "Python has been maintained by the not-for-profit Python Software Foundation since 2001: https://en.wikipedia.org/wiki/Python_Software_Foundation\n",
    "  \n",
    "   \n",
    "    \n",
    "\n",
    "\n",
    "## Versions\n",
    "  \n",
    "- **Python 2**: Since October 2000, but now deprecated (use no longer recommended, Python 2 software should be migrated to Python 3);\n",
    "- **Python 3**: Since December 2008: Major Revision! Not backward compatible; Today, programming should always be done in Python 3;\n",
    "\n",
    "**Differences**:\n",
    "- Python 2: `print 'Hello World'`\n",
    "- Python 3: `print('Hello World')`\n",
    "\n",
    "These small but subtle differences give a good idea of the problems if Python 2 syntax is to be translated into Python 3."
   ]
  },
  {
   "cell_type": "markdown",
   "metadata": {},
   "source": [
    "Which Python version is installed?"
   ]
  },
  {
   "cell_type": "code",
   "execution_count": null,
   "metadata": {
    "colab": {
     "base_uri": "https://localhost:8080/"
    },
    "id": "j0C34L5M7lsz",
    "outputId": "4466d76d-ded7-401e-9dd7-88412e7e9588"
   },
   "outputs": [],
   "source": [
    "## Which Python version currently used\n",
    "\n"
   ]
  },
  {
   "cell_type": "markdown",
   "metadata": {
    "id": "RnlEvbTh7eIs"
   },
   "source": [
    "## Python Programming\n",
    "  \n",
    "- **Procedural Programming**: sequence of instructions; Procedures and functions give structure to the program; Typical control structures: if statements and loop constructs; C / Pascal\n",
    "- **Declarative Prgramming**: Description of how to solve a problem. SQL\n",
    "- **Object Oriented Programming (OOP)**: system consisting of objects for solving a problem; Each object can have its own data and behavior; A program consists of objects that interact with each other; C++, Java, C#\n",
    "- **Functional Programming**: decomposing a problem into a set of functions; Each function only works on specific inputs to generate outputs; Haskell, R\n",
    "   \n",
    "\n",
    "**Classification Python**: Python is a hybrid programming language because it can be used in a procedural, functional and object-oriented manner.\n"
   ]
  },
  {
   "cell_type": "markdown",
   "metadata": {
    "id": "6t5acz__8NmK"
   },
   "source": [
    "## IDE / JuPyteR Notebooks\n",
    "\n",
    "Programming in Python can be done using python.exe and a text file - or even directly in python.exe. However, productive work is not possible with this!\n",
    "\n",
    "In order to **work productively**, an IDE - Integrated Development Environment - is extremely helpful!\n",
    "\n",
    "**Often used IDEs**:\n",
    "- PyCharm (community edition)\n",
    "- Microsoft Visual Studio Code (microsoft, but Open Source!)\n",
    "- Spyder\n",
    "- Atom etc.    \n",
    "\n",
    "**Not an IDE:**\n",
    "- JuPyteR-Notebooks (Sonderstellung)\n",
    "- JuPyteR-Labs"
   ]
  },
  {
   "cell_type": "markdown",
   "metadata": {
    "id": "zVOs8E1-ML-A"
   },
   "source": [
    "### jupyter-Notebooks\n",
    "\n",
    "jupyter notebooks allow the combination of text in Markdown format and Python syntax in so-called chunks.\n",
    "\n",
    "**Navigation** through a jupyter notebook is done with the arrow keys:  \n",
    "- **Text boxes** can be switched from **Input mode** to Markdown mode to **View mode** by using the key combination `<SHIFT>` + `<RETURN>`;\n",
    "- If the **text boxes are in input mode**, the arrow keys (up/down) can be used to quickly jump from text box to text box;\n",
    "- If a **text box is to be switched to markdown (input) mode**, this is done with the `<Return>` key;\n",
    "    \n",
    "\n",
    "\n",
    "**Python-Code:**\n",
    "- In code chunks, the `print()` command can be omitted;\n",
    "- But: If the syntax is to be used later outside of jupyter notebooks, `print()` is absolutely necessary;\n",
    "- The situation is similar with **plots** from the **matplotlib** library, normally the plots are not output automatically, but only on request. This prompt is not usually necessary in jupyter notebooks;\n",
    "- Syntax in chunks is executed by the key combination `<SHIFT>` + `<RETURN>`;\n",
    "- If the `print()` function is omitted, only the last statement is output after executing a code chunk;\n"
   ]
  },
  {
   "cell_type": "markdown",
   "metadata": {
    "id": "aDWaAlyAD6wt"
   },
   "source": [
    "## Running Python programs\n",
    "\n",
    "Various possibilities:   \n",
    "- Interactive in the Python interpreter\n",
    "- Script File / saved file (contains Python Code) and executed with Python Command;\n",
    "- Inside a Python IDE, e.g. PyCharm or JuPyteR\n",
    "\n",
    "**Python Execution Model:**\n",
    "\n",
    "`hello.py` is passed to the **Python interpreter**, then:  \n",
    "1. Check if the program is valid;\n",
    "2. Dynamic compilation of the program into an intermediate language\n",
    "3. Run the intermediate version of the program."
   ]
  },
  {
   "cell_type": "markdown",
   "metadata": {
    "id": "9cWF4pgrE5Oq"
   },
   "source": [
    "## Python Help\n",
    "\n",
    "Official Help: https://www.python.org/about/help/\n",
    "- Beginners Guide: https://wiki.python.org/moin/BeginnersGuide\n",
    "- Official Tutorial: https://docs.python.org/3/tutorial/\n",
    "  \n",
    "\n",
    "### Help in the console  \n",
    "  \n",
    "`help(help)`"
   ]
  },
  {
   "cell_type": "code",
   "execution_count": null,
   "metadata": {
    "colab": {
     "base_uri": "https://localhost:8080/"
    },
    "id": "QfCR5qYpDLFy",
    "outputId": "3f329d91-cc26-46a4-c1e1-60d26cfec16a"
   },
   "outputs": [],
   "source": []
  },
  {
   "cell_type": "markdown",
   "metadata": {
    "id": "uKFuJ5lQDfm9"
   },
   "source": [
    "**Note:** Using the `?` character in jupyter notebooks outputs the help in a separate window"
   ]
  },
  {
   "cell_type": "code",
   "execution_count": null,
   "metadata": {
    "id": "3X7YvMgWDWJa"
   },
   "outputs": [],
   "source": []
  },
  {
   "cell_type": "markdown",
   "metadata": {
    "id": "n4QUgvJuE6vy"
   },
   "source": [
    "## Python Modules\n",
    "\n",
    "**Python Package Index**: https://pypi.org/   \n",
    "**Help Installing Packages**: https://packaging.python.org/tutorials/installing-packages/"
   ]
  },
  {
   "cell_type": "markdown",
   "metadata": {},
   "source": [
    "### Install additional modules with pip\n",
    "\n",
    "`pip` is the official package installer. `pip` is a script and installed in `Scripts` folder in the Python installation. If Python2 and 3 installed, two different pip-version necessary. Check if maybe `pip3` has to be used?!  \n",
    "  \n",
    "**Please note:** Packages are typically installed with `pip` outside Python - if the rights are not set, it will fail and crash the currently running jupyter-notebook."
   ]
  },
  {
   "cell_type": "code",
   "execution_count": null,
   "metadata": {
    "colab": {
     "base_uri": "https://localhost:8080/"
    },
    "id": "eRpIOonF8Msb",
    "outputId": "be1fbd0b-9a21-47b6-dfe9-03bbf6a2281e"
   },
   "outputs": [],
   "source": [
    "## Install packages using Python Installer, called pip - command line!\n",
    "#!python -m pip --version"
   ]
  },
  {
   "cell_type": "code",
   "execution_count": null,
   "metadata": {
    "colab": {
     "base_uri": "https://localhost:8080/"
    },
    "id": "r34Zsjq11JXi",
    "outputId": "5b649be9-b770-4e3d-ad0e-e33fb0b29688"
   },
   "outputs": [],
   "source": [
    "## Install from source archives\n",
    "#!python -m pip install --upgrade pip setuptools"
   ]
  },
  {
   "cell_type": "markdown",
   "metadata": {
    "id": "E0nyb2mr9JaS"
   },
   "source": [
    "### Package Installation, e.g., NumPy\n",
    "\n",
    "Use `pip` (or `conda` if available)"
   ]
  },
  {
   "cell_type": "code",
   "execution_count": null,
   "metadata": {
    "colab": {
     "base_uri": "https://localhost:8080/"
    },
    "id": "XWQM9g118v1N",
    "outputId": "018ad4eb-562b-42f2-dcc0-541f5e898a47",
    "scrolled": true
   },
   "outputs": [],
   "source": [
    "#!pip install numpy"
   ]
  },
  {
   "cell_type": "markdown",
   "metadata": {
    "id": "xh9BBlaRALZL"
   },
   "source": [
    "### Loading full package\n",
    "\n",
    "Loads the complete package - Note: Package name GeoPandas is lowercase: `numpy`"
   ]
  },
  {
   "cell_type": "code",
   "execution_count": null,
   "metadata": {
    "id": "ZNSAQumtAQkh"
   },
   "outputs": [],
   "source": []
  },
  {
   "cell_type": "markdown",
   "metadata": {
    "id": "ZNSAQumtAQkh"
   },
   "source": [
    "The package can also be **aliased**, e.g. `np` for **NumPy**"
   ]
  },
  {
   "cell_type": "code",
   "execution_count": null,
   "metadata": {
    "id": "ZNSAQumtAQkh"
   },
   "outputs": [],
   "source": []
  },
  {
   "cell_type": "markdown",
   "metadata": {
    "id": "Dyz2s_9UAsQq"
   },
   "source": [
    "### Load only part of the package"
   ]
  },
  {
   "cell_type": "code",
   "execution_count": null,
   "metadata": {
    "id": "zI4bASsWAVoG"
   },
   "outputs": [],
   "source": []
  },
  {
   "cell_type": "code",
   "execution_count": null,
   "metadata": {
    "id": "agsJLsX5Axyn"
   },
   "outputs": [],
   "source": [
    "# or with an additional alias:\n"
   ]
  },
  {
   "cell_type": "markdown",
   "metadata": {
    "id": "XyPPb5SIBBOb"
   },
   "source": [
    "### Examples of package installation / use of modules / functions etc."
   ]
  },
  {
   "cell_type": "markdown",
   "metadata": {
    "id": "uWMceE4oCqGi"
   },
   "source": [
    "#### Import full package and use it, here numpy"
   ]
  },
  {
   "cell_type": "code",
   "execution_count": null,
   "metadata": {
    "colab": {
     "base_uri": "https://localhost:8080/",
     "height": 293
    },
    "id": "glwhISthA4D0",
    "outputId": "a016e9f7-1448-48bb-ca2f-2ce489696544"
   },
   "outputs": [],
   "source": [
    "# Import the whole package with alias np\n",
    "\n",
    "# Use the package: alias followed by the syntax\n",
    "a = np.arange(15).reshape(3, 5)\n",
    "print(a)"
   ]
  },
  {
   "cell_type": "markdown",
   "metadata": {
    "id": "1vvOvnu3Ct2r"
   },
   "source": [
    "#### Import only required functions / with alias"
   ]
  },
  {
   "cell_type": "code",
   "execution_count": null,
   "metadata": {
    "id": "gZplE6pkA9JF"
   },
   "outputs": [],
   "source": [
    "# Only load required modules/methods - with alias\n",
    "\n",
    "# Use only a certain function and use an alias\n",
    "a = np_arng(15).reshape(3, 5)\n",
    "print(a)"
   ]
  },
  {
   "cell_type": "markdown",
   "metadata": {
    "id": "k5qA1xuLENhp"
   },
   "source": [
    "#### Installed Packages   \n",
    "  \n",
    "Print out a list of installed packages: \n",
    "- outside Python: `pip3 list` - it is import to control the Python version, if more than one is installed.\n",
    "- inside Python: `help(\"modules\")`"
   ]
  },
  {
   "cell_type": "code",
   "execution_count": null,
   "metadata": {
    "colab": {
     "base_uri": "https://localhost:8080/"
    },
    "id": "URtjkhWNCoW6",
    "outputId": "5a24dd6e-5af3-486e-cad6-2c089751991d",
    "scrolled": true
   },
   "outputs": [],
   "source": [
    "#!pip3 list"
   ]
  },
  {
   "cell_type": "code",
   "execution_count": null,
   "metadata": {},
   "outputs": [],
   "source": [
    "# use help()\n"
   ]
  },
  {
   "cell_type": "markdown",
   "metadata": {},
   "source": [
    "# Syntax, Assignment, Comments etc.\n",
    "- Hello World!\n",
    "- PEP8: Syntax, Naming conventions etc.\n",
    "- Assignment operator\n",
    "- Comments"
   ]
  },
  {
   "cell_type": "markdown",
   "metadata": {},
   "source": [
    "## A first Python program: Hello World!\n",
    "\n",
    "Using the example of the classic \"Hello World!\" the **Python syntax** can be explored:"
   ]
  },
  {
   "cell_type": "code",
   "execution_count": null,
   "metadata": {},
   "outputs": [],
   "source": [
    "# Hello World!\n"
   ]
  },
  {
   "cell_type": "markdown",
   "metadata": {},
   "source": [
    "- `print()` is a predefined function used to print things out;\n",
    "- It is currently printing to the *output stream*;\n",
    "- This *output stream* is then sent to the console;\n",
    "- The *output string* is enclosed in **single or double quotes**. If this is forgotten, an error message is issued;"
   ]
  },
  {
   "cell_type": "markdown",
   "metadata": {},
   "source": [
    "Note on execution: The syntax can also be written to a file, e.g. `hello.py`. This file can then be run using `python hello.py`. If necessary, the path to the file must also be specified;"
   ]
  },
  {
   "cell_type": "markdown",
   "metadata": {},
   "source": [
    "### *Hello World!* interactive\n",
    "\n",
    "In order to get to know the syntax a little better, we will adapt the syntax above so that the name of the user is queried and output instead of *World*:"
   ]
  },
  {
   "cell_type": "code",
   "execution_count": null,
   "metadata": {},
   "outputs": [],
   "source": [
    "# like before\n",
    "\n",
    "# Query of the user name:\n",
    "\n",
    "# Output of the adjusted statement\n"
   ]
  },
  {
   "cell_type": "markdown",
   "metadata": {},
   "source": [
    "Note on jupyter notebook behavior: The `user_name` variable persists from chunk to chunk:"
   ]
  },
  {
   "cell_type": "markdown",
   "metadata": {},
   "source": [
    "### Output of the user name in a new chunk:\n",
    "- Another function, `input()`, is used here;\n",
    "- A string is passed to this function as input when prompted for input;\n",
    "- The `input()` function is also a built-in function of the Python language;\n",
    "- User input is stored in the **variable** `user_name`;\n",
    "- The connection between the **variable** `user_name` and the input is made by the *assignment operator* `=`;\n",
    "- A **variable** is a named area in computer memory that can store data;\n",
    "- So the name `user_name` is just a **reference / label** for an area in computer memory where the user input is stored;\n",
    "- Using the `print()` function, this memory area is now queried again and output on the console;print(user_name)"
   ]
  },
  {
   "cell_type": "markdown",
   "metadata": {},
   "source": [
    "### Python: Dynamic Typing (vs. Static Tpying: C* or Java)\n",
    "\n",
    "Python allows dynamic typing of variables, the next example shows what that means:"
   ]
  },
  {
   "cell_type": "code",
   "execution_count": null,
   "metadata": {},
   "outputs": [],
   "source": [
    "my_variable = 'Guido'\n",
    "\n",
    "\n",
    "\n",
    "\n"
   ]
  },
  {
   "cell_type": "markdown",
   "metadata": {},
   "source": [
    "In Python, variable names are not limited to being able to store only one type (string, boolean, integer, floating point, etc.). The example shows that the variable `my_variable` first stores a string, then an integer, and then a boolean. This is called **Dynamic Typing**: the type that a variable holds can be dynamically adjusted.\n",
    "\n",
    "On the other hand, this is not possible in Java or in the C family, **Static Typing** must be used here. The type that a variable can store is predetermined and compiled in advance, and cannot be changed later."
   ]
  },
  {
   "cell_type": "markdown",
   "metadata": {},
   "source": [
    "## Naming Conventions in Python\n",
    "\n",
    "- A distinction is made between **upper and lower case** (unlike e.g. in SQL)\n",
    "- **Dots** should not be used in variable names, function names etc., since many methods in Python are connected with dots!\n",
    "- Instead of a period in variable names, an **underscore** can be used, e.g. `user_name` etc.\n",
    "- Variable and function names should be self-explanatory;\n",
    "- **Spaces** in variable names etc. are taboo - these are recognized as separators in Python; Does **not** work: `variable name`\n",
    "- **Camel Case** can be used: `camelCaseVariablenName` - here the first letter of a word is always capitalized, the first word doesn't matter;\n",
    "- Another option is **Snake Case**, here an underscore is always used between the words: `snake_case_variable_name`"
   ]
  },
  {
   "cell_type": "code",
   "execution_count": null,
   "metadata": {},
   "outputs": [],
   "source": [
    "# Camel Case:\n",
    "\n",
    "# Snake Case:\n",
    "\n",
    "# Print:\n"
   ]
  },
  {
   "cell_type": "markdown",
   "metadata": {},
   "source": [
    "## Python Enhancement Proposals (short *PEP*): PEP 8: Style Guide for Python Code   \n",
    "  \n",
    "The PEP8 document provides coding **conventions** for the Python code comprising the standard library in the main Python distribution: https://peps.python.org/pep-0008/\n",
    "  \n",
    "### Sections of PEP8:  \n",
    "- Code Lay-out\n",
    "    - Indentation: 4 Spaces\n",
    "    - Maximum Line Length: 79 characters long\n",
    "    - ...\n",
    "- Strings: Single quotes around your strings or double quotes around your string mean the same thing. \n",
    "- Whitespace: Avoid Trailing Whitespace\n",
    "- Trailing Commas: The only time a trailing comma is necessary is when you are making a single element Tuple;\n",
    "- Comments: Usefule and make sense, ...\n",
    "- Naming Conventions\n",
    "- Recommendations"
   ]
  },
  {
   "cell_type": "markdown",
   "metadata": {},
   "source": [
    "### Assignment Operator\n",
    "\n",
    "The equal sign `=` in the following example is the **assignment operator**:"
   ]
  },
  {
   "cell_type": "code",
   "execution_count": null,
   "metadata": {},
   "outputs": [],
   "source": []
  },
  {
   "cell_type": "markdown",
   "metadata": {},
   "source": [
    "The **assignment operator** `=` assigns the value returned by the `input()` function to the `measurement` variable.\n",
    "    \n",
    "    \n",
    "The **assignment operator** can also be used to assign values ​​directly (not via a function) to a variable:"
   ]
  },
  {
   "cell_type": "code",
   "execution_count": null,
   "metadata": {},
   "outputs": [],
   "source": []
  },
  {
   "cell_type": "markdown",
   "metadata": {},
   "source": [
    "### Python Statements"
   ]
  },
  {
   "cell_type": "code",
   "execution_count": null,
   "metadata": {},
   "outputs": [],
   "source": []
  },
  {
   "cell_type": "markdown",
   "metadata": {},
   "source": [
    "In Python, a **statement** is an instruction that the Python interpreter can execute:\n",
    "- In the example above it is a call to a function (`print()`) and a get of a variable (`measured value`).\n",
    "\n",
    "Then there are **Expressions**:"
   ]
  },
  {
   "cell_type": "code",
   "execution_count": null,
   "metadata": {},
   "outputs": [],
   "source": []
  },
  {
   "cell_type": "markdown",
   "metadata": {},
   "source": [
    "## Comments\n",
    "\n",
    "The comment character is the hashtag (pound): `#`"
   ]
  },
  {
   "cell_type": "code",
   "execution_count": null,
   "metadata": {},
   "outputs": [],
   "source": []
  },
  {
   "cell_type": "markdown",
   "metadata": {},
   "source": [
    "Comments can also be placed in the code:"
   ]
  },
  {
   "cell_type": "code",
   "execution_count": null,
   "metadata": {},
   "outputs": [],
   "source": [
    "\n"
   ]
  },
  {
   "cell_type": "markdown",
   "metadata": {},
   "source": [
    "There are **multiline comments**: these start with three single quotes and end with three single quotes, see next example:\n",
    "\n",
    "Note: The backslash n `\\n` characters indicate line breaks!"
   ]
  },
  {
   "cell_type": "code",
   "execution_count": null,
   "metadata": {},
   "outputs": [],
   "source": [
    "\n",
    "\n",
    "\n"
   ]
  },
  {
   "cell_type": "markdown",
   "metadata": {
    "id": "KagIOg2wFAr6"
   },
   "source": [
    "# Exercises  \n",
    "\n",
    "**Please note: These exercises are addressing more and less experienced users! Please pick out a few exercises - it is not necessary to run all of them!**\n",
    "   \n",
    "   \n",
    "## Introduction"
   ]
  },
  {
   "cell_type": "markdown",
   "metadata": {
    "id": "WnQf4icsexaQ"
   },
   "source": [
    "### General questions about the Python program\n",
    "- Where can you find the official Python website?\n",
    "- Get an overview on the website!\n",
    "  \n",
    "Now the officially supported (and recommended) version is Python 3.x.:\n",
    "- What is the latest minor Python version?\n",
    "- What is the difference between the Python versions after the second decimal place (i.e. 3.7 from 3.6).\n",
    "- Where can you find out what has changed from version to version?\n",
    "- For decades (decades) Python 2 and 3 have existed and been developed in parallel. Try to find some information about it!"
   ]
  },
  {
   "cell_type": "markdown",
   "metadata": {
    "id": "X7QBZo22c-Zn"
   },
   "source": [
    "### Please check which Python version you are using!  \n",
    "  \n",
    "Python has a modular structure - there is a basic installation and numerous additional packages.\n",
    "  \n",
    "Please look for a suitable - if possible official - website where you can get an overview of available Python packages. Try to get a first impression. How many packages are available on the site you identified? What does a package description look like?"
   ]
  },
  {
   "cell_type": "code",
   "execution_count": null,
   "metadata": {
    "id": "Poc_hj3gdHsH"
   },
   "outputs": [],
   "source": [
    "## Which Python version is used\n",
    "\n"
   ]
  },
  {
   "cell_type": "markdown",
   "metadata": {
    "id": "-KY0T6WgdBpQ"
   },
   "source": [
    "### Installed Python packages\n",
    "Please check which packages are installed on your system: - be careful, it should be done on the console!"
   ]
  },
  {
   "cell_type": "code",
   "execution_count": null,
   "metadata": {
    "id": "_i-ggSP9dC0Z"
   },
   "outputs": [],
   "source": [
    "# Check installed modules using pip\n"
   ]
  },
  {
   "cell_type": "code",
   "execution_count": null,
   "metadata": {},
   "outputs": [],
   "source": [
    "# Use Python - will require some time!\n"
   ]
  },
  {
   "cell_type": "markdown",
   "metadata": {
    "id": "KGqv7Xd4F7dJ"
   },
   "source": [
    "### Use the built-in help\n",
    "Please refer to the `range` method help:"
   ]
  },
  {
   "cell_type": "code",
   "execution_count": null,
   "metadata": {
    "id": "ffX4exYbF_Ho",
    "scrolled": true
   },
   "outputs": [],
   "source": [
    "# Help range()\n",
    "\n",
    "# Or\n"
   ]
  },
  {
   "cell_type": "markdown",
   "metadata": {
    "id": "iEAkjs6Vf8so"
   },
   "source": [
    "### Other sources of help\n",
    "\n",
    "What is suitable additional help for Python-related questions?"
   ]
  },
  {
   "cell_type": "markdown",
   "metadata": {
    "id": "QCWr0VQldLGw"
   },
   "source": [
    "### Exercise on third-party packages using the `numpy` package as an example"
   ]
  },
  {
   "cell_type": "markdown",
   "metadata": {
    "id": "gj1M4RrscQh5"
   },
   "source": [
    "Please open the official documentation for the Numpy package and get a short overview of the package (5 minutes) *no Python syntax required*"
   ]
  },
  {
   "cell_type": "markdown",
   "metadata": {
    "id": "xoKsNNoeGGoL"
   },
   "source": [
    "Please install the NumPy package using `pip` - **only if allowed and not available!**"
   ]
  },
  {
   "cell_type": "code",
   "execution_count": null,
   "metadata": {
    "id": "ktd3UmN9F_kw"
   },
   "outputs": [],
   "source": [
    "# use pip\n"
   ]
  },
  {
   "cell_type": "markdown",
   "metadata": {
    "id": "2PHoJewMGKBp"
   },
   "source": [
    "Please import only the `arange` function from the package:"
   ]
  },
  {
   "cell_type": "code",
   "execution_count": null,
   "metadata": {
    "id": "VmB4si0Acp8J"
   },
   "outputs": [],
   "source": []
  },
  {
   "cell_type": "markdown",
   "metadata": {
    "id": "vaeUU55zcqMj"
   },
   "source": [
    "Use an alias `ar` for the `arange` function from the `numpy` package"
   ]
  },
  {
   "cell_type": "code",
   "execution_count": null,
   "metadata": {
    "id": "35oSE8Z7cw1J"
   },
   "outputs": [],
   "source": []
  },
  {
   "cell_type": "markdown",
   "metadata": {},
   "source": [
    "\n",
    "## Exercises: Syntax, Comments etc."
   ]
  },
  {
   "cell_type": "markdown",
   "metadata": {},
   "source": [
    "### Hello World! in Python\n",
    "   \n",
    "Print out **Hello World** in Python"
   ]
  },
  {
   "cell_type": "markdown",
   "metadata": {},
   "source": [
    "### Working with variables\n",
    "\n",
    "Program 1:\n",
    "- Assign to a variable `MyName` a name;\n",
    "- Then write a program that prints out `Hello` + your own name!\n",
    "  \n",
    "Program 2:\n",
    "- Query the name interactively - use a suitable function for this\n",
    "- Then again output `Hello` + the interactively queried (and stored in a variable) name"
   ]
  },
  {
   "cell_type": "code",
   "execution_count": null,
   "metadata": {},
   "outputs": [],
   "source": []
  },
  {
   "cell_type": "markdown",
   "metadata": {},
   "source": [
    "### Working in the interactive jupyter notebook\n",
    "\n",
    "Please execute the following syntax:\n",
    "\n",
    "`x = 3`   \n",
    "`x`   \n",
    "`y = 7`   \n",
    "`y`\n",
    "\n",
    "- Which values are output? \n",
    "- What is the behavior of a code chunk in a jupyter notebook regarding the output of values in programs?\n",
    "  \n",
    "How can you output both values? (Which command to use?). Modify the syntax so that both values are output!"
   ]
  },
  {
   "cell_type": "code",
   "execution_count": null,
   "metadata": {},
   "outputs": [],
   "source": []
  },
  {
   "cell_type": "markdown",
   "metadata": {},
   "source": [
    "### Type-unstable vs. type-stable programming languages\n",
    "- What does: type-stable programming language mean? Describe briefly with an example!\n",
    "- Name some type-stable and some type-unstable programming languages.\n",
    "- What problems can a type-unstable programming language (and a type-stable programming language) lead to?\n",
    "- Is Python a type-stable programming language?\n",
    "- Use an example to clarify whether Python is a type-stable or type-unstable programming language and show what that means!"
   ]
  },
  {
   "cell_type": "code",
   "execution_count": null,
   "metadata": {},
   "outputs": [],
   "source": []
  }
 ],
 "metadata": {
  "colab": {
   "collapsed_sections": [],
   "name": "Teil 1 - Python - Grundlagen.ipynb",
   "provenance": []
  },
  "kernelspec": {
   "display_name": "Python 3 (ipykernel)",
   "language": "python",
   "name": "python3"
  },
  "language_info": {
   "codemirror_mode": {
    "name": "ipython",
    "version": 3
   },
   "file_extension": ".py",
   "mimetype": "text/x-python",
   "name": "python",
   "nbconvert_exporter": "python",
   "pygments_lexer": "ipython3",
   "version": "3.10.4"
  }
 },
 "nbformat": 4,
 "nbformat_minor": 4
}
